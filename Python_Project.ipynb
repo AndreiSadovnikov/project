{
 "cells": [
  {
   "cell_type": "markdown",
   "id": "85398dab",
   "metadata": {},
   "source": [
    "## Анализ продаж сервиса Яндекс Афиша #"
   ]
  },
  {
   "cell_type": "markdown",
   "id": "a800919e",
   "metadata": {},
   "source": [
    "- Дата : 06.06.2025\n",
    "- Автор проекта : Садовников Андрей Андреевич"
   ]
  },
  {
   "cell_type": "markdown",
   "id": "403cc6c6",
   "metadata": {},
   "source": [
    "### Цели и задачи\n",
    "#### Анализ сезонности\n",
    "\n",
    "- Определить, как изменился спрос на мероприятия в осенний период (сентябрь–октябрь 2024) по сравнению с летним.\n",
    "\n",
    "- Выявить наиболее востребованные категории событий и их динамику.\n",
    "\n",
    "#### Изучение аудитории\n",
    "\n",
    "Сравнить активность пользователей мобильных и стационарных устройств:\n",
    "\n",
    "- Среднее количество заказов на пользователя.\n",
    "\n",
    "- Время между заказами.\n",
    "\n",
    "- Средний чек.\n",
    "\n",
    "- Проверить, изменилась ли структура аудитории (например, приток новых пользователей).\n",
    "\n",
    "#### Анализ мероприятий и партнёров\n",
    "\n",
    "- Определить топ-5 самых популярных типов мероприятий осенью 2024.\n",
    "\n",
    "Выявить лидеров среди организаторов и площадок по:\n",
    "\n",
    "- Количеству заказов.\n",
    "\n",
    "- Выручке.\n",
    "\n",
    "- Уникальным мероприятиям.\n",
    "\n",
    "- Сравнить их показатели с летним периодом.\n",
    "\n",
    "Проанализировать активность по регионам:\n",
    "\n",
    "- Где наблюдается рост/падение спроса?\n",
    "\n",
    "- Какие регионы генерируют наибольшую выручку?"
   ]
  },
  {
   "cell_type": "markdown",
   "id": "a0984cab",
   "metadata": {},
   "source": [
    "В наешм распоряжении будут данные о бронировании билетов на сервисе Яндекс Афиша за период с 1 июня по 30 октября 2024 года."
   ]
  },
  {
   "cell_type": "markdown",
   "id": "bce236c8",
   "metadata": {},
   "source": [
    "Первый датасет final_tickets_orders_df.csv включает информацию обо всех заказах билетов, совершённых с двух типов устройств — мобильных и стационарных. \n",
    "\n",
    "- order_id — уникальный идентификатор заказа.\n",
    "- user_id — уникальный идентификатор пользователя.\n",
    "- created_dt_msk — дата создания заказа (московское время).\n",
    "- created_ts_msk — дата и время создания заказа (московское время).\n",
    "- event_id — идентификатор мероприятия из таблицы events.\n",
    "- cinema_circuit — сеть кинотеатров. Если не применимо, то здесь будет значение 'нет'.\n",
    "- age_limit — возрастное ограничение мероприятия.\n",
    "- currency_code — валюта оплаты, например rub для российских рублей.\n",
    "- device_type_canonical — тип устройства, с которого был оформлен заказ, например mobile для мобильных устройств, desktop для стационарных;\n",
    "- revenue — выручка от заказа.\n",
    "- service_name — название билетного оператора.\n",
    "- tickets_count — количество купленных билетов.\n",
    "- total — общая сумма заказа."
   ]
  },
  {
   "cell_type": "markdown",
   "id": "cab72bfc",
   "metadata": {},
   "source": [
    "Второй датасет final_tickets_events_df содержит информацию о событиях, включая город и регион события, а также информацию о площадке проведения мероприятия. \n",
    "\n",
    "- event_id — уникальный идентификатор мероприятия.\n",
    "- event_name — название мероприятия. Аналог поля event_name_code из исходной базы данных.\n",
    "- event_type_description — описание типа мероприятия.\n",
    "- event_type_main — основной тип мероприятия: театральная постановка, концерт и так далее.\n",
    "- organizers — организаторы мероприятия.\n",
    "- region_name — название региона.\n",
    "- city_name — название города.\n",
    "- venue_id — уникальный идентификатор площадки.\n",
    "- venue_name — название площадки.\n",
    "- venue_address — адрес площадки."
   ]
  },
  {
   "cell_type": "markdown",
   "id": "6f234ce3",
   "metadata": {},
   "source": [
    "Датасет final_tickets_tenge_df.csv содержит информацией о курсе тенге к российскому рублю за 2024 год. Значения в рублях представлено для 100 тенге. Датасет содержит такие поля:\n",
    "\n",
    "- nominal — номинал (100 тенге);\n",
    "- data — дата;\n",
    "- curs — курс тенге к рублю;\n",
    "- cdx — обозначение валюты (kzt)."
   ]
  },
  {
   "cell_type": "markdown",
   "id": "5b069293",
   "metadata": {},
   "source": [
    "### Знакомство с данными"
   ]
  },
  {
   "cell_type": "code",
   "execution_count": 1,
   "id": "a894158e",
   "metadata": {},
   "outputs": [],
   "source": [
    "# Импортируем необходимые библиотеки дя выпорнения проекта\n",
    "import pandas as pd\n",
    "import matplotlib.pyplot as plt\n",
    "import seaborn as sns\n",
    "from scipy.stats import ttest_ind\n",
    "import numpy as np\n",
    "from scipy import stats"
   ]
  },
  {
   "cell_type": "code",
   "execution_count": 2,
   "id": "8c32668a",
   "metadata": {},
   "outputs": [],
   "source": [
    "# Загрузим первый датасет с информацие о заказах\n",
    "final_tickets_orders_df = pd.read_csv('https://code.s3.yandex.net/datasets/final_tickets_orders_df.csv')"
   ]
  },
  {
   "cell_type": "code",
   "execution_count": 3,
   "id": "276c1e06",
   "metadata": {},
   "outputs": [
    {
     "name": "stdout",
     "output_type": "stream",
     "text": [
      "<class 'pandas.core.frame.DataFrame'>\n",
      "RangeIndex: 290849 entries, 0 to 290848\n",
      "Data columns (total 14 columns):\n",
      " #   Column                 Non-Null Count   Dtype  \n",
      "---  ------                 --------------   -----  \n",
      " 0   order_id               290849 non-null  int64  \n",
      " 1   user_id                290849 non-null  object \n",
      " 2   created_dt_msk         290849 non-null  object \n",
      " 3   created_ts_msk         290849 non-null  object \n",
      " 4   event_id               290849 non-null  int64  \n",
      " 5   cinema_circuit         290849 non-null  object \n",
      " 6   age_limit              290849 non-null  int64  \n",
      " 7   currency_code          290849 non-null  object \n",
      " 8   device_type_canonical  290849 non-null  object \n",
      " 9   revenue                290849 non-null  float64\n",
      " 10  service_name           290849 non-null  object \n",
      " 11  tickets_count          290849 non-null  int64  \n",
      " 12  total                  290849 non-null  float64\n",
      " 13  days_since_prev        268909 non-null  float64\n",
      "dtypes: float64(3), int64(4), object(7)\n",
      "memory usage: 31.1+ MB\n"
     ]
    }
   ],
   "source": [
    "# Посмотрим информацию о сохраненном датасете\n",
    "final_tickets_orders_df.info()"
   ]
  },
  {
   "cell_type": "code",
   "execution_count": 4,
   "id": "027d0990",
   "metadata": {},
   "outputs": [],
   "source": [
    "# Перобразуем колонки с датами к соответствующему типу данных\n",
    "final_tickets_orders_df['created_dt_msk'] = pd.to_datetime(final_tickets_orders_df['created_dt_msk'])\n",
    "final_tickets_orders_df['created_ts_msk'] = pd.to_datetime(final_tickets_orders_df['created_ts_msk'])"
   ]
  },
  {
   "cell_type": "code",
   "execution_count": 5,
   "id": "0a6951ac",
   "metadata": {},
   "outputs": [],
   "source": [
    "# Оптимизируем тип данных в колонке с возростными ограничениями\n",
    "final_tickets_orders_df['age_limit'] = final_tickets_orders_df['age_limit'].astype('int8')"
   ]
  },
  {
   "cell_type": "code",
   "execution_count": 6,
   "id": "19f0afda",
   "metadata": {},
   "outputs": [
    {
     "name": "stdout",
     "output_type": "stream",
     "text": [
      "<class 'pandas.core.frame.DataFrame'>\n",
      "RangeIndex: 290849 entries, 0 to 290848\n",
      "Data columns (total 14 columns):\n",
      " #   Column                 Non-Null Count   Dtype         \n",
      "---  ------                 --------------   -----         \n",
      " 0   order_id               290849 non-null  int64         \n",
      " 1   user_id                290849 non-null  object        \n",
      " 2   created_dt_msk         290849 non-null  datetime64[ns]\n",
      " 3   created_ts_msk         290849 non-null  datetime64[ns]\n",
      " 4   event_id               290849 non-null  int64         \n",
      " 5   cinema_circuit         290849 non-null  object        \n",
      " 6   age_limit              290849 non-null  int8          \n",
      " 7   currency_code          290849 non-null  object        \n",
      " 8   device_type_canonical  290849 non-null  object        \n",
      " 9   revenue                290849 non-null  float64       \n",
      " 10  service_name           290849 non-null  object        \n",
      " 11  tickets_count          290849 non-null  int64         \n",
      " 12  total                  290849 non-null  float64       \n",
      " 13  days_since_prev        268909 non-null  float64       \n",
      "dtypes: datetime64[ns](2), float64(3), int64(3), int8(1), object(5)\n",
      "memory usage: 29.1+ MB\n"
     ]
    }
   ],
   "source": [
    "# Проверим корректность типов даных\n",
    "final_tickets_orders_df.info()"
   ]
  },
  {
   "cell_type": "code",
   "execution_count": 7,
   "id": "95336841",
   "metadata": {},
   "outputs": [
    {
     "data": {
      "text/html": [
       "<div>\n",
       "<style scoped>\n",
       "    .dataframe tbody tr th:only-of-type {\n",
       "        vertical-align: middle;\n",
       "    }\n",
       "\n",
       "    .dataframe tbody tr th {\n",
       "        vertical-align: top;\n",
       "    }\n",
       "\n",
       "    .dataframe thead th {\n",
       "        text-align: right;\n",
       "    }\n",
       "</style>\n",
       "<table border=\"1\" class=\"dataframe\">\n",
       "  <thead>\n",
       "    <tr style=\"text-align: right;\">\n",
       "      <th></th>\n",
       "      <th>order_id</th>\n",
       "      <th>user_id</th>\n",
       "      <th>created_dt_msk</th>\n",
       "      <th>created_ts_msk</th>\n",
       "      <th>event_id</th>\n",
       "      <th>cinema_circuit</th>\n",
       "      <th>age_limit</th>\n",
       "      <th>currency_code</th>\n",
       "      <th>device_type_canonical</th>\n",
       "      <th>revenue</th>\n",
       "      <th>service_name</th>\n",
       "      <th>tickets_count</th>\n",
       "      <th>total</th>\n",
       "      <th>days_since_prev</th>\n",
       "    </tr>\n",
       "  </thead>\n",
       "  <tbody>\n",
       "    <tr>\n",
       "      <th>0</th>\n",
       "      <td>4359165</td>\n",
       "      <td>0002849b70a3ce2</td>\n",
       "      <td>2024-08-20</td>\n",
       "      <td>2024-08-20 16:08:03</td>\n",
       "      <td>169230</td>\n",
       "      <td>нет</td>\n",
       "      <td>16</td>\n",
       "      <td>rub</td>\n",
       "      <td>mobile</td>\n",
       "      <td>1521.94</td>\n",
       "      <td>Край билетов</td>\n",
       "      <td>4</td>\n",
       "      <td>10870.99</td>\n",
       "      <td>NaN</td>\n",
       "    </tr>\n",
       "    <tr>\n",
       "      <th>1</th>\n",
       "      <td>7965605</td>\n",
       "      <td>0005ca5e93f2cf4</td>\n",
       "      <td>2024-07-23</td>\n",
       "      <td>2024-07-23 18:36:24</td>\n",
       "      <td>237325</td>\n",
       "      <td>нет</td>\n",
       "      <td>0</td>\n",
       "      <td>rub</td>\n",
       "      <td>mobile</td>\n",
       "      <td>289.45</td>\n",
       "      <td>Мой билет</td>\n",
       "      <td>2</td>\n",
       "      <td>2067.51</td>\n",
       "      <td>NaN</td>\n",
       "    </tr>\n",
       "    <tr>\n",
       "      <th>2</th>\n",
       "      <td>7292370</td>\n",
       "      <td>0005ca5e93f2cf4</td>\n",
       "      <td>2024-10-06</td>\n",
       "      <td>2024-10-06 13:56:02</td>\n",
       "      <td>578454</td>\n",
       "      <td>нет</td>\n",
       "      <td>0</td>\n",
       "      <td>rub</td>\n",
       "      <td>mobile</td>\n",
       "      <td>1258.57</td>\n",
       "      <td>За билетом!</td>\n",
       "      <td>4</td>\n",
       "      <td>13984.16</td>\n",
       "      <td>75.0</td>\n",
       "    </tr>\n",
       "    <tr>\n",
       "      <th>3</th>\n",
       "      <td>1139875</td>\n",
       "      <td>000898990054619</td>\n",
       "      <td>2024-07-13</td>\n",
       "      <td>2024-07-13 19:40:48</td>\n",
       "      <td>387271</td>\n",
       "      <td>нет</td>\n",
       "      <td>0</td>\n",
       "      <td>rub</td>\n",
       "      <td>mobile</td>\n",
       "      <td>8.49</td>\n",
       "      <td>Лови билет!</td>\n",
       "      <td>2</td>\n",
       "      <td>212.28</td>\n",
       "      <td>NaN</td>\n",
       "    </tr>\n",
       "    <tr>\n",
       "      <th>4</th>\n",
       "      <td>972400</td>\n",
       "      <td>000898990054619</td>\n",
       "      <td>2024-10-04</td>\n",
       "      <td>2024-10-04 22:33:15</td>\n",
       "      <td>509453</td>\n",
       "      <td>нет</td>\n",
       "      <td>18</td>\n",
       "      <td>rub</td>\n",
       "      <td>mobile</td>\n",
       "      <td>1390.41</td>\n",
       "      <td>Билеты без проблем</td>\n",
       "      <td>3</td>\n",
       "      <td>10695.43</td>\n",
       "      <td>83.0</td>\n",
       "    </tr>\n",
       "  </tbody>\n",
       "</table>\n",
       "</div>"
      ],
      "text/plain": [
       "   order_id          user_id created_dt_msk      created_ts_msk  event_id  \\\n",
       "0   4359165  0002849b70a3ce2     2024-08-20 2024-08-20 16:08:03    169230   \n",
       "1   7965605  0005ca5e93f2cf4     2024-07-23 2024-07-23 18:36:24    237325   \n",
       "2   7292370  0005ca5e93f2cf4     2024-10-06 2024-10-06 13:56:02    578454   \n",
       "3   1139875  000898990054619     2024-07-13 2024-07-13 19:40:48    387271   \n",
       "4    972400  000898990054619     2024-10-04 2024-10-04 22:33:15    509453   \n",
       "\n",
       "  cinema_circuit  age_limit currency_code device_type_canonical  revenue  \\\n",
       "0            нет         16           rub                mobile  1521.94   \n",
       "1            нет          0           rub                mobile   289.45   \n",
       "2            нет          0           rub                mobile  1258.57   \n",
       "3            нет          0           rub                mobile     8.49   \n",
       "4            нет         18           rub                mobile  1390.41   \n",
       "\n",
       "         service_name  tickets_count     total  days_since_prev  \n",
       "0        Край билетов              4  10870.99              NaN  \n",
       "1           Мой билет              2   2067.51              NaN  \n",
       "2         За билетом!              4  13984.16             75.0  \n",
       "3         Лови билет!              2    212.28              NaN  \n",
       "4  Билеты без проблем              3  10695.43             83.0  "
      ]
     },
     "execution_count": 7,
     "metadata": {},
     "output_type": "execute_result"
    }
   ],
   "source": [
    "# Проверим первые 5 строк\n",
    "final_tickets_orders_df.head()"
   ]
  },
  {
   "cell_type": "code",
   "execution_count": 8,
   "id": "3d661c15",
   "metadata": {},
   "outputs": [],
   "source": [
    "# Загрузим второй датасет с информацией о событиях и посмотрим информацию о нем\n",
    "final_tickets_events_df = pd.read_csv('https://code.s3.yandex.net/datasets/final_tickets_events_df.csv')"
   ]
  },
  {
   "cell_type": "code",
   "execution_count": 9,
   "id": "a8374c10",
   "metadata": {},
   "outputs": [
    {
     "name": "stdout",
     "output_type": "stream",
     "text": [
      "<class 'pandas.core.frame.DataFrame'>\n",
      "RangeIndex: 22427 entries, 0 to 22426\n",
      "Data columns (total 11 columns):\n",
      " #   Column                  Non-Null Count  Dtype \n",
      "---  ------                  --------------  ----- \n",
      " 0   event_id                22427 non-null  int64 \n",
      " 1   event_name              22427 non-null  object\n",
      " 2   event_type_description  22427 non-null  object\n",
      " 3   event_type_main         22427 non-null  object\n",
      " 4   organizers              22427 non-null  object\n",
      " 5   region_name             22427 non-null  object\n",
      " 6   city_name               22427 non-null  object\n",
      " 7   city_id                 22427 non-null  int64 \n",
      " 8   venue_id                22427 non-null  int64 \n",
      " 9   venue_name              22427 non-null  object\n",
      " 10  venue_address           22427 non-null  object\n",
      "dtypes: int64(3), object(8)\n",
      "memory usage: 1.9+ MB\n"
     ]
    }
   ],
   "source": [
    "# Посмотрим информацию о сохраненном датасете\n",
    "final_tickets_events_df.info()"
   ]
  },
  {
   "cell_type": "code",
   "execution_count": 10,
   "id": "deaa19cd",
   "metadata": {
    "scrolled": true
   },
   "outputs": [
    {
     "data": {
      "text/html": [
       "<div>\n",
       "<style scoped>\n",
       "    .dataframe tbody tr th:only-of-type {\n",
       "        vertical-align: middle;\n",
       "    }\n",
       "\n",
       "    .dataframe tbody tr th {\n",
       "        vertical-align: top;\n",
       "    }\n",
       "\n",
       "    .dataframe thead th {\n",
       "        text-align: right;\n",
       "    }\n",
       "</style>\n",
       "<table border=\"1\" class=\"dataframe\">\n",
       "  <thead>\n",
       "    <tr style=\"text-align: right;\">\n",
       "      <th></th>\n",
       "      <th>event_id</th>\n",
       "      <th>event_name</th>\n",
       "      <th>event_type_description</th>\n",
       "      <th>event_type_main</th>\n",
       "      <th>organizers</th>\n",
       "      <th>region_name</th>\n",
       "      <th>city_name</th>\n",
       "      <th>city_id</th>\n",
       "      <th>venue_id</th>\n",
       "      <th>venue_name</th>\n",
       "      <th>venue_address</th>\n",
       "    </tr>\n",
       "  </thead>\n",
       "  <tbody>\n",
       "    <tr>\n",
       "      <th>0</th>\n",
       "      <td>4436</td>\n",
       "      <td>e4f26fba-da77-4c61-928a-6c3e434d793f</td>\n",
       "      <td>спектакль</td>\n",
       "      <td>театр</td>\n",
       "      <td>№4893</td>\n",
       "      <td>Североярская область</td>\n",
       "      <td>Озёрск</td>\n",
       "      <td>2</td>\n",
       "      <td>1600</td>\n",
       "      <td>Кладбище искусств \"Проблема\" и партнеры</td>\n",
       "      <td>наб. Загородная, д. 785</td>\n",
       "    </tr>\n",
       "    <tr>\n",
       "      <th>1</th>\n",
       "      <td>5785</td>\n",
       "      <td>5cc08a60-fdea-4186-9bb2-bffc3603fb77</td>\n",
       "      <td>спектакль</td>\n",
       "      <td>театр</td>\n",
       "      <td>№1931</td>\n",
       "      <td>Светополянский округ</td>\n",
       "      <td>Глиноград</td>\n",
       "      <td>54</td>\n",
       "      <td>2196</td>\n",
       "      <td>Лекции по искусству \"Свет\" Групп</td>\n",
       "      <td>ул. Ягодная, д. 942</td>\n",
       "    </tr>\n",
       "    <tr>\n",
       "      <th>2</th>\n",
       "      <td>8817</td>\n",
       "      <td>8e379a89-3a10-4811-ba06-ec22ebebe989</td>\n",
       "      <td>спектакль</td>\n",
       "      <td>театр</td>\n",
       "      <td>№4896</td>\n",
       "      <td>Североярская область</td>\n",
       "      <td>Озёрск</td>\n",
       "      <td>2</td>\n",
       "      <td>4043</td>\n",
       "      <td>Кинокомитет \"Золотая\" Инк</td>\n",
       "      <td>ш. Коммуны, д. 92 стр. 6</td>\n",
       "    </tr>\n",
       "    <tr>\n",
       "      <th>3</th>\n",
       "      <td>8849</td>\n",
       "      <td>682e3129-6a32-4952-9d8a-ef7f60d4c247</td>\n",
       "      <td>спектакль</td>\n",
       "      <td>театр</td>\n",
       "      <td>№4960</td>\n",
       "      <td>Каменевский регион</td>\n",
       "      <td>Глиногорск</td>\n",
       "      <td>213</td>\n",
       "      <td>1987</td>\n",
       "      <td>Выставка ремесел \"Свет\" Лтд</td>\n",
       "      <td>пер. Набережный, д. 35</td>\n",
       "    </tr>\n",
       "    <tr>\n",
       "      <th>4</th>\n",
       "      <td>8850</td>\n",
       "      <td>d6e99176-c77f-4af0-9222-07c571f6c624</td>\n",
       "      <td>спектакль</td>\n",
       "      <td>театр</td>\n",
       "      <td>№4770</td>\n",
       "      <td>Лесодальний край</td>\n",
       "      <td>Родниковец</td>\n",
       "      <td>55</td>\n",
       "      <td>4230</td>\n",
       "      <td>Фестивальный проект \"Листья\" Групп</td>\n",
       "      <td>пер. Проезжий, д. 9</td>\n",
       "    </tr>\n",
       "  </tbody>\n",
       "</table>\n",
       "</div>"
      ],
      "text/plain": [
       "   event_id                            event_name event_type_description  \\\n",
       "0      4436  e4f26fba-da77-4c61-928a-6c3e434d793f              спектакль   \n",
       "1      5785  5cc08a60-fdea-4186-9bb2-bffc3603fb77              спектакль   \n",
       "2      8817  8e379a89-3a10-4811-ba06-ec22ebebe989              спектакль   \n",
       "3      8849  682e3129-6a32-4952-9d8a-ef7f60d4c247              спектакль   \n",
       "4      8850  d6e99176-c77f-4af0-9222-07c571f6c624              спектакль   \n",
       "\n",
       "  event_type_main organizers           region_name   city_name  city_id  \\\n",
       "0           театр      №4893  Североярская область      Озёрск        2   \n",
       "1           театр      №1931  Светополянский округ   Глиноград       54   \n",
       "2           театр      №4896  Североярская область      Озёрск        2   \n",
       "3           театр      №4960    Каменевский регион  Глиногорск      213   \n",
       "4           театр      №4770      Лесодальний край  Родниковец       55   \n",
       "\n",
       "   venue_id                               venue_name             venue_address  \n",
       "0      1600  Кладбище искусств \"Проблема\" и партнеры   наб. Загородная, д. 785  \n",
       "1      2196         Лекции по искусству \"Свет\" Групп       ул. Ягодная, д. 942  \n",
       "2      4043                Кинокомитет \"Золотая\" Инк  ш. Коммуны, д. 92 стр. 6  \n",
       "3      1987              Выставка ремесел \"Свет\" Лтд    пер. Набережный, д. 35  \n",
       "4      4230       Фестивальный проект \"Листья\" Групп       пер. Проезжий, д. 9  "
      ]
     },
     "execution_count": 10,
     "metadata": {},
     "output_type": "execute_result"
    }
   ],
   "source": [
    "# Посмотрим первые 5 строк\n",
    "final_tickets_events_df.head()"
   ]
  },
  {
   "cell_type": "code",
   "execution_count": 11,
   "id": "dcc0617c",
   "metadata": {},
   "outputs": [],
   "source": [
    "# Загрузим последний датасет с информацией о курсе валют\n",
    "final_tickets_tenge_df = pd.read_csv('https://code.s3.yandex.net/datasets/final_tickets_tenge_df.csv')"
   ]
  },
  {
   "cell_type": "code",
   "execution_count": 12,
   "id": "46f24acc",
   "metadata": {},
   "outputs": [
    {
     "name": "stdout",
     "output_type": "stream",
     "text": [
      "<class 'pandas.core.frame.DataFrame'>\n",
      "RangeIndex: 357 entries, 0 to 356\n",
      "Data columns (total 4 columns):\n",
      " #   Column   Non-Null Count  Dtype  \n",
      "---  ------   --------------  -----  \n",
      " 0   data     357 non-null    object \n",
      " 1   nominal  357 non-null    int64  \n",
      " 2   curs     357 non-null    float64\n",
      " 3   cdx      357 non-null    object \n",
      "dtypes: float64(1), int64(1), object(2)\n",
      "memory usage: 11.3+ KB\n"
     ]
    }
   ],
   "source": [
    "# Посмотрим информацию о сохраненном датасете\n",
    "final_tickets_tenge_df.info()"
   ]
  },
  {
   "cell_type": "code",
   "execution_count": 13,
   "id": "0f1e71cd",
   "metadata": {},
   "outputs": [
    {
     "data": {
      "text/html": [
       "<div>\n",
       "<style scoped>\n",
       "    .dataframe tbody tr th:only-of-type {\n",
       "        vertical-align: middle;\n",
       "    }\n",
       "\n",
       "    .dataframe tbody tr th {\n",
       "        vertical-align: top;\n",
       "    }\n",
       "\n",
       "    .dataframe thead th {\n",
       "        text-align: right;\n",
       "    }\n",
       "</style>\n",
       "<table border=\"1\" class=\"dataframe\">\n",
       "  <thead>\n",
       "    <tr style=\"text-align: right;\">\n",
       "      <th></th>\n",
       "      <th>data</th>\n",
       "      <th>nominal</th>\n",
       "      <th>curs</th>\n",
       "      <th>cdx</th>\n",
       "    </tr>\n",
       "  </thead>\n",
       "  <tbody>\n",
       "    <tr>\n",
       "      <th>0</th>\n",
       "      <td>2024-01-10</td>\n",
       "      <td>100</td>\n",
       "      <td>19.9391</td>\n",
       "      <td>kzt</td>\n",
       "    </tr>\n",
       "    <tr>\n",
       "      <th>1</th>\n",
       "      <td>2024-01-11</td>\n",
       "      <td>100</td>\n",
       "      <td>19.7255</td>\n",
       "      <td>kzt</td>\n",
       "    </tr>\n",
       "    <tr>\n",
       "      <th>2</th>\n",
       "      <td>2024-01-12</td>\n",
       "      <td>100</td>\n",
       "      <td>19.5839</td>\n",
       "      <td>kzt</td>\n",
       "    </tr>\n",
       "    <tr>\n",
       "      <th>3</th>\n",
       "      <td>2024-01-13</td>\n",
       "      <td>100</td>\n",
       "      <td>19.4501</td>\n",
       "      <td>kzt</td>\n",
       "    </tr>\n",
       "    <tr>\n",
       "      <th>4</th>\n",
       "      <td>2024-01-14</td>\n",
       "      <td>100</td>\n",
       "      <td>19.4501</td>\n",
       "      <td>kzt</td>\n",
       "    </tr>\n",
       "  </tbody>\n",
       "</table>\n",
       "</div>"
      ],
      "text/plain": [
       "         data  nominal     curs  cdx\n",
       "0  2024-01-10      100  19.9391  kzt\n",
       "1  2024-01-11      100  19.7255  kzt\n",
       "2  2024-01-12      100  19.5839  kzt\n",
       "3  2024-01-13      100  19.4501  kzt\n",
       "4  2024-01-14      100  19.4501  kzt"
      ]
     },
     "execution_count": 13,
     "metadata": {},
     "output_type": "execute_result"
    }
   ],
   "source": [
    "# Посмотрим ее содержание\n",
    "final_tickets_tenge_df.head()"
   ]
  },
  {
   "cell_type": "code",
   "execution_count": 14,
   "id": "8a856296",
   "metadata": {},
   "outputs": [],
   "source": [
    "# Преобразуем дату к соответствующему типу\n",
    "final_tickets_tenge_df['data'] = pd.to_datetime(final_tickets_tenge_df['data'])"
   ]
  },
  {
   "cell_type": "markdown",
   "id": "907783d2",
   "metadata": {},
   "source": [
    "#### Промежуточные выводы \n",
    "По итогу выгрузки и знакомства с данными можно выделить:\n",
    "- Отсутствие пропусков\n",
    "- Испльзование не оптимального типа данных\n",
    "- В датасете final_tickets_orders_df дублируется дата в 2х колонка, created_dt_msk и created_ts_msk"
   ]
  },
  {
   "cell_type": "markdown",
   "id": "97ed0ea2",
   "metadata": {},
   "source": [
    "### Проверка категорийных значений"
   ]
  },
  {
   "cell_type": "markdown",
   "id": "f85588f8",
   "metadata": {},
   "source": [
    "#### Проверим категорийные значения датасета final_tickets_orders_df"
   ]
  },
  {
   "cell_type": "code",
   "execution_count": 15,
   "id": "14d62c3a",
   "metadata": {},
   "outputs": [
    {
     "data": {
      "text/plain": [
       "{'kzt', 'rub'}"
      ]
     },
     "execution_count": 15,
     "metadata": {},
     "output_type": "execute_result"
    }
   ],
   "source": [
    "set(final_tickets_orders_df['currency_code'])"
   ]
  },
  {
   "cell_type": "code",
   "execution_count": 16,
   "id": "2818dfc1",
   "metadata": {},
   "outputs": [
    {
     "data": {
      "text/plain": [
       "{0, 6, 12, 16, 18}"
      ]
     },
     "execution_count": 16,
     "metadata": {},
     "output_type": "execute_result"
    }
   ],
   "source": [
    "set(final_tickets_orders_df['age_limit'])"
   ]
  },
  {
   "cell_type": "code",
   "execution_count": 17,
   "id": "75a126b6",
   "metadata": {},
   "outputs": [
    {
     "data": {
      "text/plain": [
       "{'desktop', 'mobile'}"
      ]
     },
     "execution_count": 17,
     "metadata": {},
     "output_type": "execute_result"
    }
   ],
   "source": [
    "set(final_tickets_orders_df['device_type_canonical'])"
   ]
  },
  {
   "cell_type": "code",
   "execution_count": 18,
   "id": "d71a10d6",
   "metadata": {},
   "outputs": [
    {
     "data": {
      "text/plain": [
       "{'Crazy ticket!',\n",
       " 'Show_ticket',\n",
       " 'Билет по телефону',\n",
       " 'Билеты без проблем',\n",
       " 'Билеты в интернете',\n",
       " 'Билеты в руки',\n",
       " 'Быстробилет',\n",
       " 'Быстрый кассир',\n",
       " 'Весь в билетах',\n",
       " 'Восьмёрка',\n",
       " 'Вперёд!',\n",
       " 'Выступления.ру',\n",
       " 'Городской дом культуры',\n",
       " 'Дом культуры',\n",
       " 'Дырокол',\n",
       " 'За билетом!',\n",
       " 'Зе Бест!',\n",
       " 'КарандашРУ',\n",
       " 'Кино билет',\n",
       " 'Край билетов',\n",
       " 'Лимоны',\n",
       " 'Лови билет!',\n",
       " 'Лучшие билеты',\n",
       " 'Мир касс',\n",
       " 'Мой билет',\n",
       " 'Облачко',\n",
       " 'Прачечная',\n",
       " 'Радио ticket',\n",
       " 'Реестр',\n",
       " 'Росбилет',\n",
       " 'Тебе билет!',\n",
       " 'Телебилет',\n",
       " 'Тех билет',\n",
       " 'Цвет и билет',\n",
       " 'Шоу начинается!',\n",
       " 'Яблоко'}"
      ]
     },
     "execution_count": 18,
     "metadata": {},
     "output_type": "execute_result"
    }
   ],
   "source": [
    "set(final_tickets_orders_df['service_name'])"
   ]
  },
  {
   "cell_type": "markdown",
   "id": "d142e6e7",
   "metadata": {},
   "source": [
    "В датасете final_tickets_orders_df не выявлено дубликатов или ошибочных значений"
   ]
  },
  {
   "cell_type": "markdown",
   "id": "2ccf26ed",
   "metadata": {},
   "source": [
    "#### Проверим категорийные значения датасета final_tickets_events_df"
   ]
  },
  {
   "cell_type": "code",
   "execution_count": 19,
   "id": "7a108671",
   "metadata": {},
   "outputs": [
    {
     "data": {
      "text/plain": [
       "{'балет',\n",
       " 'выставка',\n",
       " 'концерт',\n",
       " 'кукольный спектакль',\n",
       " 'музыкальный спектакль',\n",
       " 'мюзикл',\n",
       " 'опера',\n",
       " 'оперетта',\n",
       " 'подарок',\n",
       " 'рок-мюзикл',\n",
       " 'снегурочка',\n",
       " 'событие',\n",
       " 'спектакль',\n",
       " 'спорт',\n",
       " 'спортивное мероприятие',\n",
       " 'фестиваль',\n",
       " 'цирковое шоу',\n",
       " 'шоу',\n",
       " 'экскурсия',\n",
       " 'ёлка'}"
      ]
     },
     "execution_count": 19,
     "metadata": {},
     "output_type": "execute_result"
    }
   ],
   "source": [
    "set(final_tickets_events_df['event_type_description'])"
   ]
  },
  {
   "cell_type": "code",
   "execution_count": 20,
   "id": "e93e6932",
   "metadata": {},
   "outputs": [
    {
     "data": {
      "text/plain": [
       "{'выставки', 'другое', 'концерты', 'спорт', 'стендап', 'театр', 'ёлки'}"
      ]
     },
     "execution_count": 20,
     "metadata": {},
     "output_type": "execute_result"
    }
   ],
   "source": [
    "set(final_tickets_events_df['event_type_main'])"
   ]
  },
  {
   "cell_type": "markdown",
   "id": "90a9398c",
   "metadata": {},
   "source": [
    "В датасете final_tickets_events_df не выявлено дубликатов или ошибочных значений"
   ]
  },
  {
   "cell_type": "markdown",
   "id": "a12d9a6f",
   "metadata": {},
   "source": [
    "#### Проверим категорийные значения датасетоа final_tickets_tenge_df"
   ]
  },
  {
   "cell_type": "code",
   "execution_count": 21,
   "id": "1ee7dc41",
   "metadata": {},
   "outputs": [
    {
     "data": {
      "text/plain": [
       "{'kzt'}"
      ]
     },
     "execution_count": 21,
     "metadata": {},
     "output_type": "execute_result"
    }
   ],
   "source": [
    "set(final_tickets_tenge_df['cdx'])"
   ]
  },
  {
   "cell_type": "markdown",
   "id": "20e80a93",
   "metadata": {},
   "source": [
    "В датасете final_tickets_tenge_df не выявлено дубликатов или ошибочных значений"
   ]
  },
  {
   "cell_type": "markdown",
   "id": "4f60e50f",
   "metadata": {},
   "source": [
    "#### Промежуточнй вывод\n",
    "В представленных датасетах не было выявлено неявных дубликатов в категорийных значениях"
   ]
  },
  {
   "cell_type": "markdown",
   "id": "88804c88",
   "metadata": {},
   "source": [
    "### Проверим количественные значения выручки в разрезе валют"
   ]
  },
  {
   "cell_type": "code",
   "execution_count": 22,
   "id": "d9fa00f2",
   "metadata": {},
   "outputs": [],
   "source": [
    "# Разделим датасет на 2 по типу валют\n",
    "df_rub = final_tickets_orders_df[final_tickets_orders_df['currency_code'] == 'rub'].copy()\n",
    "df_kzt = final_tickets_orders_df[final_tickets_orders_df['currency_code'] == 'kzt'].copy()"
   ]
  },
  {
   "cell_type": "code",
   "execution_count": 23,
   "id": "1deb2047",
   "metadata": {},
   "outputs": [
    {
     "name": "stdout",
     "output_type": "stream",
     "text": [
      "Выручка (RUB):\n",
      " count    285780.000000\n",
      "mean        547.568333\n",
      "std         871.524559\n",
      "min         -90.760000\n",
      "25%         113.827500\n",
      "50%         346.100000\n",
      "75%         791.700000\n",
      "max       81174.540000\n",
      "Name: revenue, dtype: float64\n",
      "\n",
      "Выручка (KZT):\n",
      " count     5069.000000\n",
      "mean      4995.206767\n",
      "std       4916.752776\n",
      "min          0.000000\n",
      "25%        518.100000\n",
      "50%       3698.830000\n",
      "75%       7397.660000\n",
      "max      26425.860000\n",
      "Name: revenue, dtype: float64\n"
     ]
    }
   ],
   "source": [
    "# Проверим показатели получившихся датасетов\n",
    "print(\"Выручка (RUB):\\n\", df_rub['revenue'].describe())\n",
    "print(\"\\nВыручка (KZT):\\n\", df_kzt['revenue'].describe())"
   ]
  },
  {
   "cell_type": "markdown",
   "id": "bcca8aaf",
   "metadata": {},
   "source": [
    "В таблице с рублевой выручкой обнаружены орицательные значения, что скорее всего ошибка."
   ]
  },
  {
   "cell_type": "markdown",
   "id": "c400d2cf",
   "metadata": {},
   "source": [
    "Построим гистограммы для анализа распределения"
   ]
  },
  {
   "cell_type": "code",
   "execution_count": 24,
   "id": "d1a53932",
   "metadata": {
    "scrolled": true
   },
   "outputs": [
    {
     "data": {
      "image/png": "[encoded data removed]",
      "text/plain": [
       "<Figure size 864x360 with 2 Axes>"
      ]
     },
     "metadata": {
      "needs_background": "light"
     },
     "output_type": "display_data"
    }
   ],
   "source": [
    "plt.figure(figsize=(12, 5))\n",
    "plt.subplot(1, 2, 1)\n",
    "sns.histplot(df_rub['revenue'], bins=50)\n",
    "plt.title('Распределение выручки (RUB)')\n",
    "\n",
    "plt.subplot(1, 2, 2)\n",
    "sns.histplot(df_kzt['revenue'], bins=50)\n",
    "plt.title('Распределение выручки (KZT)')\n",
    "plt.show()"
   ]
  },
  {
   "cell_type": "markdown",
   "id": "df7716ba",
   "metadata": {},
   "source": [
    "На графике видно, что в рублевом сегмете, вся основная часть выручки сконцентрирована в заказах до 3 000р.\n",
    "Распределение выручки в KZT имеет нормально распределение, мез аномальных знгачений."
   ]
  },
  {
   "cell_type": "markdown",
   "id": "041ff10b",
   "metadata": {},
   "source": [
    "Построим boxplot для выявления выбросов"
   ]
  },
  {
   "cell_type": "code",
   "execution_count": 25,
   "id": "45a8110d",
   "metadata": {},
   "outputs": [
    {
     "data": {
      "image/png": "[encoded data removed]",
      "text/plain": [
       "<Figure size 720x360 with 1 Axes>"
      ]
     },
     "metadata": {
      "needs_background": "light"
     },
     "output_type": "display_data"
    }
   ],
   "source": [
    "plt.figure(figsize=(10, 5))\n",
    "sns.boxplot(data=final_tickets_orders_df, x='currency_code', y='revenue')\n",
    "plt.title('Диаграмма размаха выручки по валютам')\n",
    "plt.show()"
   ]
  },
  {
   "cell_type": "markdown",
   "id": "2eee76ce",
   "metadata": {},
   "source": [
    "Для дальнейшей работы, очистим данные с рублевой выручки от выбросов исключив из датасета значения выше 99-го процентиля."
   ]
  },
  {
   "cell_type": "code",
   "execution_count": 26,
   "id": "3afbb1c5",
   "metadata": {},
   "outputs": [],
   "source": [
    "high_values_revenue_rub = final_tickets_orders_df[final_tickets_orders_df['currency_code'] =='rub']['revenue'].quantile(0.99)\n",
    "df_rub_clean = final_tickets_orders_df[final_tickets_orders_df['revenue'] <= high_values_revenue_rub]"
   ]
  },
  {
   "cell_type": "code",
   "execution_count": 27,
   "id": "9c633212",
   "metadata": {},
   "outputs": [
    {
     "data": {
      "image/png": "[encoded data removed]",
      "text/plain": [
       "<Figure size 720x360 with 1 Axes>"
      ]
     },
     "metadata": {
      "needs_background": "light"
     },
     "output_type": "display_data"
    }
   ],
   "source": [
    "# Проверим результат очистки\n",
    "plt.figure(figsize=(10, 5))\n",
    "sns.boxplot(data=df_rub_clean, x='currency_code', y='revenue')\n",
    "plt.title('Диаграмма размаха выручки по валютам')\n",
    "plt.show()"
   ]
  },
  {
   "cell_type": "markdown",
   "id": "aef05326",
   "metadata": {},
   "source": [
    "#### Промежуточные выводы\n",
    "При ровереке количественных значений выручк были выявлены анамально высоки значения в рублевом сегменты, возможно это корпоративные заказы или дорогие VIP билеты.\n",
    "Аномалий в KZT выялено не было"
   ]
  },
  {
   "cell_type": "markdown",
   "id": "090737e3",
   "metadata": {},
   "source": [
    "### Проверим количественные значения билетов в разрезе валют.\n",
    "Проведем такой же анализ, как и для выручки."
   ]
  },
  {
   "cell_type": "code",
   "execution_count": 28,
   "id": "07280e5b",
   "metadata": {},
   "outputs": [
    {
     "name": "stdout",
     "output_type": "stream",
     "text": [
      "Билеты (RUB):\n",
      " count    285780.000000\n",
      "mean          2.754077\n",
      "std           1.171419\n",
      "min           1.000000\n",
      "25%           2.000000\n",
      "50%           3.000000\n",
      "75%           4.000000\n",
      "max          57.000000\n",
      "Name: tickets_count, dtype: float64\n",
      "\n",
      "Билеты (KZT):\n",
      " count    5069.000000\n",
      "mean        2.762872\n",
      "std         1.115558\n",
      "min         1.000000\n",
      "25%         2.000000\n",
      "50%         3.000000\n",
      "75%         4.000000\n",
      "max         6.000000\n",
      "Name: tickets_count, dtype: float64\n"
     ]
    }
   ],
   "source": [
    "#Проверим статистические показатели\n",
    "print(\"Билеты (RUB):\\n\", df_rub['tickets_count'].describe())\n",
    "print(\"\\nБилеты (KZT):\\n\", df_kzt['tickets_count'].describe())"
   ]
  },
  {
   "cell_type": "markdown",
   "id": "8ace0fd8",
   "metadata": {},
   "source": [
    "Сразу можно обратить внимания количество билетов, за рубли заказов в несколько раз больше, чем за KZT.\n",
    "Так же максимальное значение в 57, может говорить о наличии выбрасов"
   ]
  },
  {
   "cell_type": "markdown",
   "id": "8b2aeb7f",
   "metadata": {},
   "source": [
    "Построим гистограммы для анализа распределения"
   ]
  },
  {
   "cell_type": "code",
   "execution_count": 29,
   "id": "6b1f8c41",
   "metadata": {},
   "outputs": [
    {
     "data": {
      "image/png": "[encoded data removed]",
      "text/plain": [
       "<Figure size 864x360 with 2 Axes>"
      ]
     },
     "metadata": {
      "needs_background": "light"
     },
     "output_type": "display_data"
    }
   ],
   "source": [
    "plt.figure(figsize=(12, 5))\n",
    "plt.subplot(1, 2, 1)\n",
    "sns.histplot(df_rub['tickets_count'], bins=30)\n",
    "plt.title('Распределение билетов (RUB)')\n",
    "\n",
    "plt.subplot(1, 2, 2)\n",
    "sns.histplot(df_kzt['tickets_count'], bins=30)\n",
    "plt.title('Распределение билетов (KZT)')\n",
    "plt.show()"
   ]
  },
  {
   "cell_type": "markdown",
   "id": "6649589e",
   "metadata": {},
   "source": [
    "Основное количество билетов за рубли варьируется до 10шт в заказе.\n",
    "Опять же билеты в заказе за KZT имеют нормальное распрееление с пиком в значении 3"
   ]
  },
  {
   "cell_type": "markdown",
   "id": "ae8f029d",
   "metadata": {},
   "source": [
    "Построим boxplot для выявление выбросов "
   ]
  },
  {
   "cell_type": "code",
   "execution_count": 30,
   "id": "509534ad",
   "metadata": {},
   "outputs": [
    {
     "data": {
      "image/png": "[encoded data removed]",
      "text/plain": [
       "<Figure size 432x288 with 1 Axes>"
      ]
     },
     "metadata": {
      "needs_background": "light"
     },
     "output_type": "display_data"
    }
   ],
   "source": [
    "sns.boxplot(data=df_rub_clean, x='currency_code', y='tickets_count')\n",
    "plt.title('Диаграмма размаха количества билетов')\n",
    "plt.show()"
   ]
  },
  {
   "cell_type": "markdown",
   "id": "f111e404",
   "metadata": {},
   "source": [
    "Очистим данные от выбрасов аналогичным с выручкой способом."
   ]
  },
  {
   "cell_type": "code",
   "execution_count": 31,
   "id": "b30334dd",
   "metadata": {},
   "outputs": [],
   "source": [
    "high_values_ticket_rub = df_rub_clean[df_rub_clean['currency_code'] =='rub']['tickets_count'].quantile(0.99)\n",
    "clean_final_tickets_orders_df = df_rub_clean[df_rub_clean['tickets_count'] <= high_values_ticket_rub]"
   ]
  },
  {
   "cell_type": "code",
   "execution_count": 32,
   "id": "286340a6",
   "metadata": {},
   "outputs": [
    {
     "data": {
      "image/png": "[encoded data removed]",
      "text/plain": [
       "<Figure size 432x288 with 1 Axes>"
      ]
     },
     "metadata": {
      "needs_background": "light"
     },
     "output_type": "display_data"
    }
   ],
   "source": [
    "# Проверим выбросы после очистки\n",
    "sns.boxplot(data=clean_final_tickets_orders_df, x='currency_code', y='tickets_count')\n",
    "plt.title('Диаграмма размаха количества билетов')\n",
    "plt.show()"
   ]
  },
  {
   "cell_type": "code",
   "execution_count": 33,
   "id": "80ad9463",
   "metadata": {},
   "outputs": [
    {
     "name": "stdout",
     "output_type": "stream",
     "text": [
      "6007\n"
     ]
    }
   ],
   "source": [
    "# Проверим от какого количества заказов мы очистили датасет\n",
    "print(len(final_tickets_orders_df['order_id']) - len(clean_final_tickets_orders_df['order_id']))"
   ]
  },
  {
   "cell_type": "markdown",
   "id": "f899d0c1",
   "metadata": {},
   "source": [
    "#### Промежуточные выводы\n",
    "В рублевых заказах было обнаружено около 6000 аномально высоких значений,\n",
    "В заказах за KZT все придерживается нормального распределения без выбросов."
   ]
  },
  {
   "cell_type": "markdown",
   "id": "eed9de2f",
   "metadata": {},
   "source": [
    "### Проверка на дубликаты\n",
    "#### Явные дубликаты"
   ]
  },
  {
   "cell_type": "code",
   "execution_count": 34,
   "id": "1c876a35",
   "metadata": {
    "scrolled": true
   },
   "outputs": [
    {
     "name": "stdout",
     "output_type": "stream",
     "text": [
      "Найдено 0 явных дубликатов.\n"
     ]
    }
   ],
   "source": [
    "print(f\"Найдено {clean_final_tickets_orders_df.duplicated().sum()} явных дубликатов.\")"
   ]
  },
  {
   "cell_type": "markdown",
   "id": "83ac6039",
   "metadata": {},
   "source": [
    "#### Неявные дубликаты"
   ]
  },
  {
   "cell_type": "code",
   "execution_count": 35,
   "id": "d65d37e2",
   "metadata": {},
   "outputs": [
    {
     "name": "stdout",
     "output_type": "stream",
     "text": [
      "Найдено 83 неявных дубликатов\n"
     ]
    }
   ],
   "source": [
    "# Проверка на одинаковые события от одного пользователя в одно время\n",
    "semantic_duplicates = clean_final_tickets_orders_df.duplicated(\n",
    "    subset=['user_id', 'event_id', 'created_ts_msk', 'tickets_count', 'total'],\n",
    "    keep=False\n",
    ")\n",
    "print(f\"Найдено {semantic_duplicates.sum()} неявных дубликатов\")"
   ]
  },
  {
   "cell_type": "code",
   "execution_count": 36,
   "id": "bafa9d9e",
   "metadata": {},
   "outputs": [],
   "source": [
    "# Удалим одинаковые события\n",
    "clean_orders_df = clean_final_tickets_orders_df.drop_duplicates(\n",
    "    subset=['user_id', 'event_id', 'created_ts_msk', 'tickets_count', 'total'],\n",
    "    keep='first'\n",
    ")"
   ]
  },
  {
   "cell_type": "markdown",
   "id": "0e9584b8",
   "metadata": {},
   "source": [
    "#### Промежуточные выводы\n",
    "В датасете небыло выявлено явных дубликатов, однако были выявлены не явные дубликаты, от одного и того же пользователя в одно время выло приобретено одинаковое количество билетов, возможно системные ошибки при оформлении заказов."
   ]
  },
  {
   "cell_type": "markdown",
   "id": "9c094249",
   "metadata": {},
   "source": [
    "### Объединение таблиц"
   ]
  },
  {
   "cell_type": "markdown",
   "id": "d8f88edf",
   "metadata": {},
   "source": [
    "Для дальнейшей работы объединим датасеты с курсом валют и событиями с очищеным от выбросов датосетом"
   ]
  },
  {
   "cell_type": "code",
   "execution_count": 37,
   "id": "fe809657",
   "metadata": {},
   "outputs": [],
   "source": [
    "merged_curs_orders_df = pd.merge(\n",
    "    clean_orders_df,\n",
    "    final_tickets_tenge_df,\n",
    "    left_on='created_dt_msk',\n",
    "    right_on='data',\n",
    "    how='left'\n",
    ")"
   ]
  },
  {
   "cell_type": "code",
   "execution_count": 38,
   "id": "502f7f41",
   "metadata": {},
   "outputs": [
    {
     "name": "stdout",
     "output_type": "stream",
     "text": [
      "<class 'pandas.core.frame.DataFrame'>\n",
      "RangeIndex: 290849 entries, 0 to 290848\n",
      "Data columns (total 14 columns):\n",
      " #   Column                 Non-Null Count   Dtype         \n",
      "---  ------                 --------------   -----         \n",
      " 0   order_id               290849 non-null  int64         \n",
      " 1   user_id                290849 non-null  object        \n",
      " 2   created_dt_msk         290849 non-null  datetime64[ns]\n",
      " 3   created_ts_msk         290849 non-null  datetime64[ns]\n",
      " 4   event_id               290849 non-null  int64         \n",
      " 5   cinema_circuit         290849 non-null  object        \n",
      " 6   age_limit              290849 non-null  int8          \n",
      " 7   currency_code          290849 non-null  object        \n",
      " 8   device_type_canonical  290849 non-null  object        \n",
      " 9   revenue                290849 non-null  float64       \n",
      " 10  service_name           290849 non-null  object        \n",
      " 11  tickets_count          290849 non-null  int64         \n",
      " 12  total                  290849 non-null  float64       \n",
      " 13  days_since_prev        268909 non-null  float64       \n",
      "dtypes: datetime64[ns](2), float64(3), int64(3), int8(1), object(5)\n",
      "memory usage: 29.1+ MB\n"
     ]
    }
   ],
   "source": [
    "final_tickets_orders_df.info()"
   ]
  },
  {
   "cell_type": "code",
   "execution_count": 39,
   "id": "bf737b7f",
   "metadata": {},
   "outputs": [
    {
     "name": "stdout",
     "output_type": "stream",
     "text": [
      "<class 'pandas.core.frame.DataFrame'>\n",
      "Int64Index: 284842 entries, 0 to 290848\n",
      "Data columns (total 14 columns):\n",
      " #   Column                 Non-Null Count   Dtype         \n",
      "---  ------                 --------------   -----         \n",
      " 0   order_id               284842 non-null  int64         \n",
      " 1   user_id                284842 non-null  object        \n",
      " 2   created_dt_msk         284842 non-null  datetime64[ns]\n",
      " 3   created_ts_msk         284842 non-null  datetime64[ns]\n",
      " 4   event_id               284842 non-null  int64         \n",
      " 5   cinema_circuit         284842 non-null  object        \n",
      " 6   age_limit              284842 non-null  int8          \n",
      " 7   currency_code          284842 non-null  object        \n",
      " 8   device_type_canonical  284842 non-null  object        \n",
      " 9   revenue                284842 non-null  float64       \n",
      " 10  service_name           284842 non-null  object        \n",
      " 11  tickets_count          284842 non-null  int64         \n",
      " 12  total                  284842 non-null  float64       \n",
      " 13  days_since_prev        263625 non-null  float64       \n",
      "dtypes: datetime64[ns](2), float64(3), int64(3), int8(1), object(5)\n",
      "memory usage: 38.8+ MB\n"
     ]
    }
   ],
   "source": [
    "clean_final_tickets_orders_df.info()"
   ]
  },
  {
   "cell_type": "code",
   "execution_count": 40,
   "id": "c263e060",
   "metadata": {},
   "outputs": [],
   "source": [
    "merged_df= pd.merge(\n",
    "    merged_curs_orders_df,\n",
    "    final_tickets_events_df,\n",
    "    on = 'event_id',\n",
    "    how='left'\n",
    ")"
   ]
  },
  {
   "cell_type": "code",
   "execution_count": 41,
   "id": "5c2ac72b",
   "metadata": {
    "scrolled": true
   },
   "outputs": [
    {
     "data": {
      "text/html": [
       "<div>\n",
       "<style scoped>\n",
       "    .dataframe tbody tr th:only-of-type {\n",
       "        vertical-align: middle;\n",
       "    }\n",
       "\n",
       "    .dataframe tbody tr th {\n",
       "        vertical-align: top;\n",
       "    }\n",
       "\n",
       "    .dataframe thead th {\n",
       "        text-align: right;\n",
       "    }\n",
       "</style>\n",
       "<table border=\"1\" class=\"dataframe\">\n",
       "  <thead>\n",
       "    <tr style=\"text-align: right;\">\n",
       "      <th></th>\n",
       "      <th>order_id</th>\n",
       "      <th>user_id</th>\n",
       "      <th>created_dt_msk</th>\n",
       "      <th>created_ts_msk</th>\n",
       "      <th>event_id</th>\n",
       "      <th>cinema_circuit</th>\n",
       "      <th>age_limit</th>\n",
       "      <th>currency_code</th>\n",
       "      <th>device_type_canonical</th>\n",
       "      <th>revenue</th>\n",
       "      <th>...</th>\n",
       "      <th>event_name</th>\n",
       "      <th>event_type_description</th>\n",
       "      <th>event_type_main</th>\n",
       "      <th>organizers</th>\n",
       "      <th>region_name</th>\n",
       "      <th>city_name</th>\n",
       "      <th>city_id</th>\n",
       "      <th>venue_id</th>\n",
       "      <th>venue_name</th>\n",
       "      <th>venue_address</th>\n",
       "    </tr>\n",
       "  </thead>\n",
       "  <tbody>\n",
       "    <tr>\n",
       "      <th>0</th>\n",
       "      <td>4359165</td>\n",
       "      <td>0002849b70a3ce2</td>\n",
       "      <td>2024-08-20</td>\n",
       "      <td>2024-08-20 16:08:03</td>\n",
       "      <td>169230</td>\n",
       "      <td>нет</td>\n",
       "      <td>16</td>\n",
       "      <td>rub</td>\n",
       "      <td>mobile</td>\n",
       "      <td>1521.94</td>\n",
       "      <td>...</td>\n",
       "      <td>f0f7b271-04eb-4af6-bcb8-8f05cf46d6ad</td>\n",
       "      <td>спектакль</td>\n",
       "      <td>театр</td>\n",
       "      <td>№3322</td>\n",
       "      <td>Каменевский регион</td>\n",
       "      <td>Глиногорск</td>\n",
       "      <td>213.0</td>\n",
       "      <td>3972.0</td>\n",
       "      <td>Сценический центр \"Деталь\" Групп</td>\n",
       "      <td>алл. Машиностроителей, д. 19 стр. 6</td>\n",
       "    </tr>\n",
       "    <tr>\n",
       "      <th>1</th>\n",
       "      <td>7965605</td>\n",
       "      <td>0005ca5e93f2cf4</td>\n",
       "      <td>2024-07-23</td>\n",
       "      <td>2024-07-23 18:36:24</td>\n",
       "      <td>237325</td>\n",
       "      <td>нет</td>\n",
       "      <td>0</td>\n",
       "      <td>rub</td>\n",
       "      <td>mobile</td>\n",
       "      <td>289.45</td>\n",
       "      <td>...</td>\n",
       "      <td>40efeb04-81b7-4135-b41f-708ff00cc64c</td>\n",
       "      <td>событие</td>\n",
       "      <td>выставки</td>\n",
       "      <td>№4850</td>\n",
       "      <td>Каменевский регион</td>\n",
       "      <td>Глиногорск</td>\n",
       "      <td>213.0</td>\n",
       "      <td>2941.0</td>\n",
       "      <td>Музыкальная школа для детей \"Аккаунт\" Лтд</td>\n",
       "      <td>алл. Шмидта, д. 9 стр. 4</td>\n",
       "    </tr>\n",
       "    <tr>\n",
       "      <th>2</th>\n",
       "      <td>7292370</td>\n",
       "      <td>0005ca5e93f2cf4</td>\n",
       "      <td>2024-10-06</td>\n",
       "      <td>2024-10-06 13:56:02</td>\n",
       "      <td>578454</td>\n",
       "      <td>нет</td>\n",
       "      <td>0</td>\n",
       "      <td>rub</td>\n",
       "      <td>mobile</td>\n",
       "      <td>1258.57</td>\n",
       "      <td>...</td>\n",
       "      <td>01f3fb7b-ed07-4f94-b1d3-9a2e1ee5a8ca</td>\n",
       "      <td>цирковое шоу</td>\n",
       "      <td>другое</td>\n",
       "      <td>№1540</td>\n",
       "      <td>Каменевский регион</td>\n",
       "      <td>Глиногорск</td>\n",
       "      <td>213.0</td>\n",
       "      <td>4507.0</td>\n",
       "      <td>Училище искусств \"Нирвана\" Инк</td>\n",
       "      <td>алл. Юбилейная, д. 5/6</td>\n",
       "    </tr>\n",
       "    <tr>\n",
       "      <th>3</th>\n",
       "      <td>1139875</td>\n",
       "      <td>000898990054619</td>\n",
       "      <td>2024-07-13</td>\n",
       "      <td>2024-07-13 19:40:48</td>\n",
       "      <td>387271</td>\n",
       "      <td>нет</td>\n",
       "      <td>0</td>\n",
       "      <td>rub</td>\n",
       "      <td>mobile</td>\n",
       "      <td>8.49</td>\n",
       "      <td>...</td>\n",
       "      <td>2f638715-8844-466c-b43f-378a627c419f</td>\n",
       "      <td>выставка</td>\n",
       "      <td>другое</td>\n",
       "      <td>№5049</td>\n",
       "      <td>Североярская область</td>\n",
       "      <td>Озёрск</td>\n",
       "      <td>2.0</td>\n",
       "      <td>3574.0</td>\n",
       "      <td>Театр альтернативного искусства \"Ода\" Лимитед</td>\n",
       "      <td>алл. Есенина, д. 243 к. 3/8</td>\n",
       "    </tr>\n",
       "    <tr>\n",
       "      <th>4</th>\n",
       "      <td>972400</td>\n",
       "      <td>000898990054619</td>\n",
       "      <td>2024-10-04</td>\n",
       "      <td>2024-10-04 22:33:15</td>\n",
       "      <td>509453</td>\n",
       "      <td>нет</td>\n",
       "      <td>18</td>\n",
       "      <td>rub</td>\n",
       "      <td>mobile</td>\n",
       "      <td>1390.41</td>\n",
       "      <td>...</td>\n",
       "      <td>10d805d3-9809-4d8a-834e-225b7d03f95d</td>\n",
       "      <td>шоу</td>\n",
       "      <td>стендап</td>\n",
       "      <td>№832</td>\n",
       "      <td>Озернинский край</td>\n",
       "      <td>Родниковецк</td>\n",
       "      <td>240.0</td>\n",
       "      <td>1896.0</td>\n",
       "      <td>Театр кукол \"Огни\" Инкорпорэйтед</td>\n",
       "      <td>ш. Набережное, д. 595 стр. 8</td>\n",
       "    </tr>\n",
       "  </tbody>\n",
       "</table>\n",
       "<p>5 rows × 28 columns</p>\n",
       "</div>"
      ],
      "text/plain": [
       "   order_id          user_id created_dt_msk      created_ts_msk  event_id  \\\n",
       "0   4359165  0002849b70a3ce2     2024-08-20 2024-08-20 16:08:03    169230   \n",
       "1   7965605  0005ca5e93f2cf4     2024-07-23 2024-07-23 18:36:24    237325   \n",
       "2   7292370  0005ca5e93f2cf4     2024-10-06 2024-10-06 13:56:02    578454   \n",
       "3   1139875  000898990054619     2024-07-13 2024-07-13 19:40:48    387271   \n",
       "4    972400  000898990054619     2024-10-04 2024-10-04 22:33:15    509453   \n",
       "\n",
       "  cinema_circuit  age_limit currency_code device_type_canonical  revenue  ...  \\\n",
       "0            нет         16           rub                mobile  1521.94  ...   \n",
       "1            нет          0           rub                mobile   289.45  ...   \n",
       "2            нет          0           rub                mobile  1258.57  ...   \n",
       "3            нет          0           rub                mobile     8.49  ...   \n",
       "4            нет         18           rub                mobile  1390.41  ...   \n",
       "\n",
       "                             event_name  event_type_description  \\\n",
       "0  f0f7b271-04eb-4af6-bcb8-8f05cf46d6ad               спектакль   \n",
       "1  40efeb04-81b7-4135-b41f-708ff00cc64c                 событие   \n",
       "2  01f3fb7b-ed07-4f94-b1d3-9a2e1ee5a8ca            цирковое шоу   \n",
       "3  2f638715-8844-466c-b43f-378a627c419f                выставка   \n",
       "4  10d805d3-9809-4d8a-834e-225b7d03f95d                     шоу   \n",
       "\n",
       "   event_type_main  organizers           region_name    city_name  city_id  \\\n",
       "0            театр       №3322    Каменевский регион   Глиногорск    213.0   \n",
       "1         выставки       №4850    Каменевский регион   Глиногорск    213.0   \n",
       "2           другое       №1540    Каменевский регион   Глиногорск    213.0   \n",
       "3           другое       №5049  Североярская область       Озёрск      2.0   \n",
       "4          стендап        №832      Озернинский край  Родниковецк    240.0   \n",
       "\n",
       "  venue_id                                     venue_name  \\\n",
       "0   3972.0               Сценический центр \"Деталь\" Групп   \n",
       "1   2941.0      Музыкальная школа для детей \"Аккаунт\" Лтд   \n",
       "2   4507.0                 Училище искусств \"Нирвана\" Инк   \n",
       "3   3574.0  Театр альтернативного искусства \"Ода\" Лимитед   \n",
       "4   1896.0               Театр кукол \"Огни\" Инкорпорэйтед   \n",
       "\n",
       "                         venue_address  \n",
       "0  алл. Машиностроителей, д. 19 стр. 6  \n",
       "1             алл. Шмидта, д. 9 стр. 4  \n",
       "2               алл. Юбилейная, д. 5/6  \n",
       "3          алл. Есенина, д. 243 к. 3/8  \n",
       "4         ш. Набережное, д. 595 стр. 8  \n",
       "\n",
       "[5 rows x 28 columns]"
      ]
     },
     "execution_count": 41,
     "metadata": {},
     "output_type": "execute_result"
    }
   ],
   "source": [
    "# Проверим получившийся датасет\n",
    "merged_df.head()"
   ]
  },
  {
   "cell_type": "markdown",
   "id": "760af848",
   "metadata": {},
   "source": [
    "### Добавление новых колонок\n",
    "#### revenue_rub"
   ]
  },
  {
   "cell_type": "markdown",
   "id": "d7bc3ef4",
   "metadata": {},
   "source": [
    "Добавим колонку revenue_rub, в которой приведем все значения выручки к рублю используя колонку curs"
   ]
  },
  {
   "cell_type": "code",
   "execution_count": 42,
   "id": "5dd8a066",
   "metadata": {},
   "outputs": [],
   "source": [
    "merged_df['revenue_rub'] = np.where(\n",
    "    merged_df['currency_code'] == 'kzt',\n",
    "    (merged_df['revenue'] / 100 * merged_df['curs']).round(2),\n",
    "    merged_df['revenue'])"
   ]
  },
  {
   "cell_type": "markdown",
   "id": "b620d429",
   "metadata": {},
   "source": [
    "Проверим корректность вычисленгий, выведем первые 5 строк и посмотрим значения в колонке revenue_rub"
   ]
  },
  {
   "cell_type": "code",
   "execution_count": 43,
   "id": "e38bc3e7",
   "metadata": {
    "scrolled": true
   },
   "outputs": [
    {
     "data": {
      "text/html": [
       "<div>\n",
       "<style scoped>\n",
       "    .dataframe tbody tr th:only-of-type {\n",
       "        vertical-align: middle;\n",
       "    }\n",
       "\n",
       "    .dataframe tbody tr th {\n",
       "        vertical-align: top;\n",
       "    }\n",
       "\n",
       "    .dataframe thead th {\n",
       "        text-align: right;\n",
       "    }\n",
       "</style>\n",
       "<table border=\"1\" class=\"dataframe\">\n",
       "  <thead>\n",
       "    <tr style=\"text-align: right;\">\n",
       "      <th></th>\n",
       "      <th>order_id</th>\n",
       "      <th>user_id</th>\n",
       "      <th>created_dt_msk</th>\n",
       "      <th>created_ts_msk</th>\n",
       "      <th>event_id</th>\n",
       "      <th>cinema_circuit</th>\n",
       "      <th>age_limit</th>\n",
       "      <th>currency_code</th>\n",
       "      <th>device_type_canonical</th>\n",
       "      <th>revenue</th>\n",
       "      <th>...</th>\n",
       "      <th>event_type_description</th>\n",
       "      <th>event_type_main</th>\n",
       "      <th>organizers</th>\n",
       "      <th>region_name</th>\n",
       "      <th>city_name</th>\n",
       "      <th>city_id</th>\n",
       "      <th>venue_id</th>\n",
       "      <th>venue_name</th>\n",
       "      <th>venue_address</th>\n",
       "      <th>revenue_rub</th>\n",
       "    </tr>\n",
       "  </thead>\n",
       "  <tbody>\n",
       "    <tr>\n",
       "      <th>73</th>\n",
       "      <td>7850214</td>\n",
       "      <td>0033403583a55ed</td>\n",
       "      <td>2024-09-17</td>\n",
       "      <td>2024-09-17 16:52:06</td>\n",
       "      <td>559919</td>\n",
       "      <td>нет</td>\n",
       "      <td>6</td>\n",
       "      <td>kzt</td>\n",
       "      <td>mobile</td>\n",
       "      <td>518.10</td>\n",
       "      <td>...</td>\n",
       "      <td>событие</td>\n",
       "      <td>другое</td>\n",
       "      <td>№5088</td>\n",
       "      <td>Верхоречная область</td>\n",
       "      <td>Серебрянка</td>\n",
       "      <td>163.0</td>\n",
       "      <td>1533.0</td>\n",
       "      <td>Клуб настольного тенниса \"Фазенда\" Инк</td>\n",
       "      <td>пер. Семашко, д. 8/7 стр. 7</td>\n",
       "      <td>98.50</td>\n",
       "    </tr>\n",
       "    <tr>\n",
       "      <th>91</th>\n",
       "      <td>8634925</td>\n",
       "      <td>0040e12d70fae81</td>\n",
       "      <td>2024-09-02</td>\n",
       "      <td>2024-09-02 19:49:14</td>\n",
       "      <td>559476</td>\n",
       "      <td>нет</td>\n",
       "      <td>6</td>\n",
       "      <td>kzt</td>\n",
       "      <td>desktop</td>\n",
       "      <td>347.18</td>\n",
       "      <td>...</td>\n",
       "      <td>событие</td>\n",
       "      <td>другое</td>\n",
       "      <td>№5088</td>\n",
       "      <td>Верхоречная область</td>\n",
       "      <td>Серебрянка</td>\n",
       "      <td>163.0</td>\n",
       "      <td>1533.0</td>\n",
       "      <td>Клуб настольного тенниса \"Фазенда\" Инк</td>\n",
       "      <td>пер. Семашко, д. 8/7 стр. 7</td>\n",
       "      <td>65.73</td>\n",
       "    </tr>\n",
       "    <tr>\n",
       "      <th>98</th>\n",
       "      <td>7625522</td>\n",
       "      <td>0054b38b2653e6e</td>\n",
       "      <td>2024-09-09</td>\n",
       "      <td>2024-09-09 18:06:04</td>\n",
       "      <td>559582</td>\n",
       "      <td>нет</td>\n",
       "      <td>6</td>\n",
       "      <td>kzt</td>\n",
       "      <td>mobile</td>\n",
       "      <td>328.77</td>\n",
       "      <td>...</td>\n",
       "      <td>событие</td>\n",
       "      <td>другое</td>\n",
       "      <td>№5088</td>\n",
       "      <td>Верхоречная область</td>\n",
       "      <td>Серебрянка</td>\n",
       "      <td>163.0</td>\n",
       "      <td>1533.0</td>\n",
       "      <td>Клуб настольного тенниса \"Фазенда\" Инк</td>\n",
       "      <td>пер. Семашко, д. 8/7 стр. 7</td>\n",
       "      <td>61.15</td>\n",
       "    </tr>\n",
       "    <tr>\n",
       "      <th>515</th>\n",
       "      <td>2044327</td>\n",
       "      <td>01370a0e9c1a7d5</td>\n",
       "      <td>2024-09-05</td>\n",
       "      <td>2024-09-05 16:13:00</td>\n",
       "      <td>561747</td>\n",
       "      <td>нет</td>\n",
       "      <td>16</td>\n",
       "      <td>kzt</td>\n",
       "      <td>mobile</td>\n",
       "      <td>361.08</td>\n",
       "      <td>...</td>\n",
       "      <td>событие</td>\n",
       "      <td>другое</td>\n",
       "      <td>№4950</td>\n",
       "      <td>Шанырский регион</td>\n",
       "      <td>Синеводск</td>\n",
       "      <td>29463.0</td>\n",
       "      <td>3407.0</td>\n",
       "      <td>Арт-кафе \"Речка\" Лимитед</td>\n",
       "      <td>алл. Путейская, д. 548 стр. 7</td>\n",
       "      <td>66.52</td>\n",
       "    </tr>\n",
       "    <tr>\n",
       "      <th>516</th>\n",
       "      <td>2044298</td>\n",
       "      <td>01370a0e9c1a7d5</td>\n",
       "      <td>2024-09-05</td>\n",
       "      <td>2024-09-05 16:15:58</td>\n",
       "      <td>561747</td>\n",
       "      <td>нет</td>\n",
       "      <td>16</td>\n",
       "      <td>kzt</td>\n",
       "      <td>mobile</td>\n",
       "      <td>361.08</td>\n",
       "      <td>...</td>\n",
       "      <td>событие</td>\n",
       "      <td>другое</td>\n",
       "      <td>№4950</td>\n",
       "      <td>Шанырский регион</td>\n",
       "      <td>Синеводск</td>\n",
       "      <td>29463.0</td>\n",
       "      <td>3407.0</td>\n",
       "      <td>Арт-кафе \"Речка\" Лимитед</td>\n",
       "      <td>алл. Путейская, д. 548 стр. 7</td>\n",
       "      <td>66.52</td>\n",
       "    </tr>\n",
       "  </tbody>\n",
       "</table>\n",
       "<p>5 rows × 29 columns</p>\n",
       "</div>"
      ],
      "text/plain": [
       "     order_id          user_id created_dt_msk      created_ts_msk  event_id  \\\n",
       "73    7850214  0033403583a55ed     2024-09-17 2024-09-17 16:52:06    559919   \n",
       "91    8634925  0040e12d70fae81     2024-09-02 2024-09-02 19:49:14    559476   \n",
       "98    7625522  0054b38b2653e6e     2024-09-09 2024-09-09 18:06:04    559582   \n",
       "515   2044327  01370a0e9c1a7d5     2024-09-05 2024-09-05 16:13:00    561747   \n",
       "516   2044298  01370a0e9c1a7d5     2024-09-05 2024-09-05 16:15:58    561747   \n",
       "\n",
       "    cinema_circuit  age_limit currency_code device_type_canonical  revenue  \\\n",
       "73             нет          6           kzt                mobile   518.10   \n",
       "91             нет          6           kzt               desktop   347.18   \n",
       "98             нет          6           kzt                mobile   328.77   \n",
       "515            нет         16           kzt                mobile   361.08   \n",
       "516            нет         16           kzt                mobile   361.08   \n",
       "\n",
       "     ... event_type_description  event_type_main  organizers  \\\n",
       "73   ...                событие           другое       №5088   \n",
       "91   ...                событие           другое       №5088   \n",
       "98   ...                событие           другое       №5088   \n",
       "515  ...                событие           другое       №4950   \n",
       "516  ...                событие           другое       №4950   \n",
       "\n",
       "             region_name   city_name  city_id  venue_id  \\\n",
       "73   Верхоречная область  Серебрянка    163.0    1533.0   \n",
       "91   Верхоречная область  Серебрянка    163.0    1533.0   \n",
       "98   Верхоречная область  Серебрянка    163.0    1533.0   \n",
       "515     Шанырский регион   Синеводск  29463.0    3407.0   \n",
       "516     Шанырский регион   Синеводск  29463.0    3407.0   \n",
       "\n",
       "                                 venue_name                  venue_address  \\\n",
       "73   Клуб настольного тенниса \"Фазенда\" Инк    пер. Семашко, д. 8/7 стр. 7   \n",
       "91   Клуб настольного тенниса \"Фазенда\" Инк    пер. Семашко, д. 8/7 стр. 7   \n",
       "98   Клуб настольного тенниса \"Фазенда\" Инк    пер. Семашко, д. 8/7 стр. 7   \n",
       "515                Арт-кафе \"Речка\" Лимитед  алл. Путейская, д. 548 стр. 7   \n",
       "516                Арт-кафе \"Речка\" Лимитед  алл. Путейская, д. 548 стр. 7   \n",
       "\n",
       "    revenue_rub  \n",
       "73        98.50  \n",
       "91        65.73  \n",
       "98        61.15  \n",
       "515       66.52  \n",
       "516       66.52  \n",
       "\n",
       "[5 rows x 29 columns]"
      ]
     },
     "execution_count": 43,
     "metadata": {},
     "output_type": "execute_result"
    }
   ],
   "source": [
    "merged_df[merged_df['currency_code'] == 'kzt'].head()"
   ]
  },
  {
   "cell_type": "markdown",
   "id": "32f388af",
   "metadata": {},
   "source": [
    "#### one_ticket_revenue_rub"
   ]
  },
  {
   "cell_type": "markdown",
   "id": "e50b53d0",
   "metadata": {},
   "source": [
    "Добавим колонку one_ticket_revenue_rub с ценой одного билета "
   ]
  },
  {
   "cell_type": "code",
   "execution_count": 44,
   "id": "4de753b9",
   "metadata": {},
   "outputs": [],
   "source": [
    "merged_df['one_ticket_revenue_rub'] = round(merged_df['revenue_rub'] / merged_df['tickets_count'], 2)"
   ]
  },
  {
   "cell_type": "markdown",
   "id": "2415fda0",
   "metadata": {},
   "source": [
    "#### month"
   ]
  },
  {
   "cell_type": "markdown",
   "id": "a914f205",
   "metadata": {},
   "source": [
    "Добавим в нам датасет колонку month с числовым значением месяца"
   ]
  },
  {
   "cell_type": "code",
   "execution_count": 45,
   "id": "0754803e",
   "metadata": {},
   "outputs": [],
   "source": [
    "merged_df['month'] = merged_df['created_dt_msk'].dt.month"
   ]
  },
  {
   "cell_type": "markdown",
   "id": "cb7283ed",
   "metadata": {},
   "source": [
    "#### season"
   ]
  },
  {
   "cell_type": "markdown",
   "id": "f00261c2",
   "metadata": {},
   "source": [
    "Добавим колонку с сезонами"
   ]
  },
  {
   "cell_type": "code",
   "execution_count": 46,
   "id": "065c3d7a",
   "metadata": {},
   "outputs": [],
   "source": [
    "season_map = {\n",
    "    1: 'зима', 2: 'зима', 3: 'весна',\n",
    "    4: 'весна', 5: 'весна', 6: 'лето',\n",
    "    7: 'лето', 8: 'лето', 9: 'осень',\n",
    "    10: 'осень', 11: 'осень', 12: 'зима'\n",
    "}\n",
    "merged_df['season'] = merged_df['month'].map(season_map)"
   ]
  },
  {
   "cell_type": "markdown",
   "id": "10a2c011",
   "metadata": {},
   "source": [
    "### Итоги подготовки данных"
   ]
  },
  {
   "cell_type": "markdown",
   "id": "10077787",
   "metadata": {},
   "source": [
    "Проверим получившийся после обработки и добавления новых элементов датасет"
   ]
  },
  {
   "cell_type": "code",
   "execution_count": 47,
   "id": "e453367f",
   "metadata": {},
   "outputs": [
    {
     "name": "stdout",
     "output_type": "stream",
     "text": [
      "<class 'pandas.core.frame.DataFrame'>\n",
      "Int64Index: 284799 entries, 0 to 284798\n",
      "Data columns (total 32 columns):\n",
      " #   Column                  Non-Null Count   Dtype         \n",
      "---  ------                  --------------   -----         \n",
      " 0   order_id                284799 non-null  int64         \n",
      " 1   user_id                 284799 non-null  object        \n",
      " 2   created_dt_msk          284799 non-null  datetime64[ns]\n",
      " 3   created_ts_msk          284799 non-null  datetime64[ns]\n",
      " 4   event_id                284799 non-null  int64         \n",
      " 5   cinema_circuit          284799 non-null  object        \n",
      " 6   age_limit               284799 non-null  int8          \n",
      " 7   currency_code           284799 non-null  object        \n",
      " 8   device_type_canonical   284799 non-null  object        \n",
      " 9   revenue                 284799 non-null  float64       \n",
      " 10  service_name            284799 non-null  object        \n",
      " 11  tickets_count           284799 non-null  int64         \n",
      " 12  total                   284799 non-null  float64       \n",
      " 13  days_since_prev         263582 non-null  float64       \n",
      " 14  data                    284799 non-null  datetime64[ns]\n",
      " 15  nominal                 284799 non-null  int64         \n",
      " 16  curs                    284799 non-null  float64       \n",
      " 17  cdx                     284799 non-null  object        \n",
      " 18  event_name              284561 non-null  object        \n",
      " 19  event_type_description  284561 non-null  object        \n",
      " 20  event_type_main         284561 non-null  object        \n",
      " 21  organizers              284561 non-null  object        \n",
      " 22  region_name             284561 non-null  object        \n",
      " 23  city_name               284561 non-null  object        \n",
      " 24  city_id                 284561 non-null  float64       \n",
      " 25  venue_id                284561 non-null  float64       \n",
      " 26  venue_name              284561 non-null  object        \n",
      " 27  venue_address           284561 non-null  object        \n",
      " 28  revenue_rub             284799 non-null  float64       \n",
      " 29  one_ticket_revenue_rub  284799 non-null  float64       \n",
      " 30  month                   284799 non-null  int64         \n",
      " 31  season                  284799 non-null  object        \n",
      "dtypes: datetime64[ns](3), float64(8), int64(5), int8(1), object(15)\n",
      "memory usage: 69.8+ MB\n"
     ]
    }
   ],
   "source": [
    "merged_df.info()"
   ]
  },
  {
   "cell_type": "markdown",
   "id": "985e2120",
   "metadata": {},
   "source": [
    "Рассчитаем долю срезаных данных после обработки"
   ]
  },
  {
   "cell_type": "code",
   "execution_count": 48,
   "id": "c37d2b64",
   "metadata": {},
   "outputs": [
    {
     "name": "stdout",
     "output_type": "stream",
     "text": [
      "При обработки данных 2.0 % было отсеяно\n"
     ]
    }
   ],
   "source": [
    "print(f\"При обработки данных {round(1 - merged_df['order_id'].count() / final_tickets_orders_df['order_id'].count(), 2) * 100} % было отсеяно\")"
   ]
  },
  {
   "cell_type": "markdown",
   "id": "4e767583",
   "metadata": {},
   "source": [
    "#### Промежуточные выводы\n",
    "Данные были подгатовлены для дальнейшего анализа, для этого было проведено :\n",
    "- Очиска данных от явных и не явных дубликатов\n",
    "- Таблици были объеденены в один датасет\n",
    "- Были добавлены новые сущности для проведения дальнейших анализов"
   ]
  },
  {
   "cell_type": "markdown",
   "id": "82b4b0e5",
   "metadata": {},
   "source": [
    "### Анализ заказов"
   ]
  },
  {
   "cell_type": "markdown",
   "id": "00414604",
   "metadata": {},
   "source": [
    "Для каждого месяца найдем количество заказов и визуализируем результаты. Проверим, фиксируется ли увеличение заказов от июня к ноябрю 2024 года."
   ]
  },
  {
   "cell_type": "code",
   "execution_count": 49,
   "id": "2add64b6",
   "metadata": {},
   "outputs": [
    {
     "data": {
      "image/png": "[encoded data removed]",
      "text/plain": [
       "<Figure size 864x432 with 1 Axes>"
      ]
     },
     "metadata": {
      "needs_background": "light"
     },
     "output_type": "display_data"
    }
   ],
   "source": [
    "# Группировка по месяцам\n",
    "month_orders = merged_df.groupby('month')['order_id'].count().reset_index()\n",
    "\n",
    "\n",
    "# Визуализация\n",
    "plt.figure(figsize=(12, 6))\n",
    "sns.lineplot(data=month_orders, x='month', y='order_id', marker='o')\n",
    "plt.title('Динамика количества заказов')\n",
    "plt.xlabel('Месяц')\n",
    "plt.ylabel('Количество заказов')\n",
    "plt.grid(axis='y')\n",
    "plt.show()"
   ]
  },
  {
   "cell_type": "markdown",
   "id": "94c51866",
   "metadata": {},
   "source": [
    "#### Промежуточный вывод\n",
    "Наблюдается значительный рост количества заказов к концу наблюдаемого периода."
   ]
  },
  {
   "cell_type": "markdown",
   "id": "7769a26e",
   "metadata": {},
   "source": [
    "### Анализ сезонности по количеству закаов"
   ]
  },
  {
   "cell_type": "markdown",
   "id": "d1480528",
   "metadata": {},
   "source": [
    "Для осеннего и летнего периодов сравним распределение заказов билетов по разным категориям: тип мероприятия, тип устройства, категория мероприятия по возрастному рейтингу."
   ]
  },
  {
   "cell_type": "code",
   "execution_count": 50,
   "id": "35108180",
   "metadata": {},
   "outputs": [
    {
     "data": {
      "image/png": "[encoded data removed]",
      "text/plain": [
       "<Figure size 1008x504 with 1 Axes>"
      ]
     },
     "metadata": {
      "needs_background": "light"
     },
     "output_type": "display_data"
    }
   ],
   "source": [
    "# Создадим таблицу для визуализации распределения заказов по типу мероприятия \n",
    "season_event_type = merged_df.pivot_table(\n",
    "    index='event_type_main',\n",
    "    columns='season',\n",
    "    values='order_id',\n",
    "    aggfunc='count',\n",
    "    fill_value=0\n",
    ")[['лето', 'осень']].sort_values('осень', ascending=False)\n",
    "\n",
    "ax = season_event_type.plot(kind='bar', width=0.8, figsize=(14, 7))\n",
    "plt.title('Сравнение распределения заказов по типам мероприятий: лето / осень')\n",
    "plt.xlabel('Тип мероприятия')\n",
    "plt.ylabel('Количество общего числа заказов')\n",
    "plt.xticks(rotation=0)\n",
    "plt.grid(axis='y')"
   ]
  },
  {
   "cell_type": "code",
   "execution_count": 51,
   "id": "0a3bebba",
   "metadata": {},
   "outputs": [
    {
     "name": "stdout",
     "output_type": "stream",
     "text": [
      "  event_type_main  event_id\n",
      "6            ёлки       214\n",
      "0        выставки       289\n",
      "4         стендап       632\n",
      "3           спорт       865\n",
      "1          другое      4650\n",
      "5           театр      7066\n",
      "2        концерты      8625\n"
     ]
    }
   ],
   "source": [
    "# Проверим, совпадает ли распределение количества заказов, с распределением количества событий по каждому типу событий\n",
    "events_by_type = merged_df.groupby('event_type_main')['event_id'].nunique().reset_index().sort_values('event_id')\n",
    "print(events_by_type)"
   ]
  },
  {
   "cell_type": "code",
   "execution_count": 52,
   "id": "ced8535d",
   "metadata": {},
   "outputs": [
    {
     "data": {
      "image/png": "[encoded data removed]",
      "text/plain": [
       "<Figure size 1008x504 with 1 Axes>"
      ]
     },
     "metadata": {
      "needs_background": "light"
     },
     "output_type": "display_data"
    }
   ],
   "source": [
    "# Создадим таблицу для визуализации распределения заказов по возростному рейтингу\n",
    "season_age_limit = merged_df.pivot_table(\n",
    "    index='age_limit',\n",
    "    columns='season',\n",
    "    values='order_id',\n",
    "    aggfunc='count',\n",
    "    fill_value=0\n",
    ")[['лето', 'осень']].sort_values('осень', ascending=False)\n",
    "\n",
    "ax = season_age_limit.plot(kind='bar', width=0.8, figsize=(14, 7))\n",
    "plt.title('Распределение по возрастным рейтингам')\n",
    "plt.xlabel('Возростной рейтинг')\n",
    "plt.ylabel('Количество общего числа заказов')\n",
    "plt.xticks(rotation=0)\n",
    "plt.grid(axis='y')"
   ]
  },
  {
   "cell_type": "code",
   "execution_count": 53,
   "id": "babc0187",
   "metadata": {},
   "outputs": [
    {
     "data": {
      "image/png": "[encoded data removed]",
      "text/plain": [
       "<Figure size 1008x504 with 1 Axes>"
      ]
     },
     "metadata": {
      "needs_background": "light"
     },
     "output_type": "display_data"
    }
   ],
   "source": [
    "# Создадим таблицу для визуализации распределения заказов по типу устройства\n",
    "season_device_type = merged_df.pivot_table(\n",
    "    index='device_type_canonical',\n",
    "    columns='season',\n",
    "    values='order_id',\n",
    "    aggfunc='count',\n",
    "    fill_value=0\n",
    ")[['лето', 'осень']].sort_values('осень', ascending=False)\n",
    "\n",
    "ax = season_device_type.plot(kind='bar', width=0.8, figsize=(14, 7))\n",
    "plt.title('Распределение по типу устройств')\n",
    "plt.xlabel('Тип устройства')\n",
    "plt.ylabel('Количество общего числа заказов')\n",
    "plt.xticks(rotation=0)\n",
    "plt.grid(axis='y')"
   ]
  },
  {
   "cell_type": "markdown",
   "id": "22566a8e",
   "metadata": {},
   "source": [
    "Изучите изменение выручки с продажи одного билета в зависимости от типа мероприятия летом и осенью."
   ]
  },
  {
   "cell_type": "code",
   "execution_count": 54,
   "id": "3af881a3",
   "metadata": {
    "scrolled": true
   },
   "outputs": [
    {
     "data": {
      "image/png": "[encoded data removed]",
      "text/plain": [
       "<Figure size 864x432 with 1 Axes>"
      ]
     },
     "metadata": {
      "needs_background": "light"
     },
     "output_type": "display_data"
    }
   ],
   "source": [
    "# Расчет средней стоимости билета по сезонам\n",
    "summer_mean_prices = merged_df[merged_df['season'] == 'лето'].groupby('event_type_main')['one_ticket_revenue_rub'].mean()\n",
    "autumn_mean_prices = merged_df[merged_df['season'] == 'осень'].groupby('event_type_main')['one_ticket_revenue_rub'].mean()\n",
    "\n",
    "# Рассчитаем долю изменения цены\n",
    "price_change = ((autumn_mean_prices - summer_mean_prices) / summer_mean_prices * 100).reset_index()\n",
    "price_change.columns = ['event_type', 'price_change_percent']\n",
    "\n",
    "plt.figure(figsize=(12, 6))\n",
    "sns.barplot(data=price_change, x='event_type', y='price_change_percent')\n",
    "plt.axhline(0, color='black', linestyle='--')\n",
    "plt.title('Изменение средней стоимости билета (осень/лето)')\n",
    "plt.ylabel('Изменение цены, %')\n",
    "plt.xlabel('Тип мероприятия')\n",
    "plt.xticks(rotation=0)\n",
    "plt.grid(axis='y')"
   ]
  },
  {
   "cell_type": "markdown",
   "id": "1d69a017",
   "metadata": {},
   "source": [
    "#### Промежуточные выводы\n",
    "- На графике видно увеличение количества заказов с июня по ноябрь\n",
    "- Пик активности приходится на октябрь\n",
    "- Самый популярный тип мероприятия это концерты\n",
    "- Практически нет сезонных изменений у типов мероприятий : стендап, выставки, другое\n",
    "- Самый популярный возросной рейтиг событий - 16\n",
    "- На возростной рейтинг 18, практически не влияет сезонность\n",
    "- Осенью билеты подешевели на 5 категорий из 7. Сильнее всего подешевели билеты на театр и елки. Подорожали билеты на выставки и стендап (категории мало зависимы от сезонности)."
   ]
  },
  {
   "cell_type": "markdown",
   "id": "8cdad8c5",
   "metadata": {},
   "source": [
    "### Анализ активности пользователей"
   ]
  },
  {
   "cell_type": "markdown",
   "id": "56bd05e7",
   "metadata": {},
   "source": [
    "Изучим активность пользователей осенью 2024 года. В наешм распоряжении данные за два осенних месяца."
   ]
  },
  {
   "cell_type": "code",
   "execution_count": 55,
   "id": "ddf1c570",
   "metadata": {},
   "outputs": [],
   "source": [
    "# Фильтрация осенних данных\n",
    "autumn_df = merged_df[merged_df['month'].isin([9, 10])]\n",
    "\n",
    "# Сводная таблица по дням\n",
    "daily_stats = autumn_df.groupby(autumn_df['created_dt_msk']).agg(\n",
    "    total_orders=('order_id', 'count'),          # Общее число заказов\n",
    "    dau=('user_id', 'nunique'),                  # DAU (уникальные пользователи)\n",
    "    avg_ticket_price=('one_ticket_revenue_rub', 'mean')  # Средняя стоимость билета\n",
    ").reset_index()"
   ]
  },
  {
   "cell_type": "code",
   "execution_count": 56,
   "id": "ab6e009b",
   "metadata": {},
   "outputs": [],
   "source": [
    "# Добавим клонку со средним значением билетов на пользователя\n",
    "daily_stats['avg_ticket_on_user'] = daily_stats['total_orders'] / daily_stats['dau']"
   ]
  },
  {
   "cell_type": "code",
   "execution_count": 57,
   "id": "486b33b8",
   "metadata": {},
   "outputs": [
    {
     "data": {
      "text/html": [
       "<div>\n",
       "<style scoped>\n",
       "    .dataframe tbody tr th:only-of-type {\n",
       "        vertical-align: middle;\n",
       "    }\n",
       "\n",
       "    .dataframe tbody tr th {\n",
       "        vertical-align: top;\n",
       "    }\n",
       "\n",
       "    .dataframe thead th {\n",
       "        text-align: right;\n",
       "    }\n",
       "</style>\n",
       "<table border=\"1\" class=\"dataframe\">\n",
       "  <thead>\n",
       "    <tr style=\"text-align: right;\">\n",
       "      <th></th>\n",
       "      <th>created_dt_msk</th>\n",
       "      <th>total_orders</th>\n",
       "      <th>dau</th>\n",
       "      <th>avg_ticket_price</th>\n",
       "      <th>avg_ticket_on_user</th>\n",
       "    </tr>\n",
       "  </thead>\n",
       "  <tbody>\n",
       "    <tr>\n",
       "      <th>0</th>\n",
       "      <td>2024-09-01</td>\n",
       "      <td>1327</td>\n",
       "      <td>564</td>\n",
       "      <td>200.168885</td>\n",
       "      <td>2.352837</td>\n",
       "    </tr>\n",
       "    <tr>\n",
       "      <th>1</th>\n",
       "      <td>2024-09-02</td>\n",
       "      <td>1366</td>\n",
       "      <td>568</td>\n",
       "      <td>187.745842</td>\n",
       "      <td>2.404930</td>\n",
       "    </tr>\n",
       "    <tr>\n",
       "      <th>2</th>\n",
       "      <td>2024-09-03</td>\n",
       "      <td>5099</td>\n",
       "      <td>772</td>\n",
       "      <td>79.503165</td>\n",
       "      <td>6.604922</td>\n",
       "    </tr>\n",
       "    <tr>\n",
       "      <th>3</th>\n",
       "      <td>2024-09-04</td>\n",
       "      <td>1761</td>\n",
       "      <td>681</td>\n",
       "      <td>176.474412</td>\n",
       "      <td>2.585903</td>\n",
       "    </tr>\n",
       "    <tr>\n",
       "      <th>4</th>\n",
       "      <td>2024-09-05</td>\n",
       "      <td>1916</td>\n",
       "      <td>731</td>\n",
       "      <td>187.771999</td>\n",
       "      <td>2.621067</td>\n",
       "    </tr>\n",
       "  </tbody>\n",
       "</table>\n",
       "</div>"
      ],
      "text/plain": [
       "  created_dt_msk  total_orders  dau  avg_ticket_price  avg_ticket_on_user\n",
       "0     2024-09-01          1327  564        200.168885            2.352837\n",
       "1     2024-09-02          1366  568        187.745842            2.404930\n",
       "2     2024-09-03          5099  772         79.503165            6.604922\n",
       "3     2024-09-04          1761  681        176.474412            2.585903\n",
       "4     2024-09-05          1916  731        187.771999            2.621067"
      ]
     },
     "execution_count": 57,
     "metadata": {},
     "output_type": "execute_result"
    }
   ],
   "source": [
    "# Проверим первые 5 строк полученной таблицы\n",
    "daily_stats.head()"
   ]
  },
  {
   "cell_type": "code",
   "execution_count": 58,
   "id": "a7fbc6e3",
   "metadata": {},
   "outputs": [
    {
     "data": {
      "image/png": "[encoded data removed]",
      "text/plain": [
       "<Figure size 1800x720 with 1 Axes>"
      ]
     },
     "metadata": {
      "needs_background": "light"
     },
     "output_type": "display_data"
    }
   ],
   "source": [
    "# DAU (уникальные пользователи)\n",
    "plt.figure(figsize=(25, 10))\n",
    "plt.subplot(2, 2, 2)\n",
    "sns.lineplot(data=daily_stats, x='created_dt_msk', y='dau', marker='o', color='green')\n",
    "plt.title('Активные пользователи (DAU)')\n",
    "plt.xlabel('Дата')\n",
    "plt.ylabel('Уникальные пользователи')\n",
    "plt.grid(axis='y')"
   ]
  },
  {
   "cell_type": "code",
   "execution_count": 59,
   "id": "a2ddbf4c",
   "metadata": {},
   "outputs": [
    {
     "data": {
      "image/png": "[encoded data removed]",
      "text/plain": [
       "<Figure size 1800x720 with 1 Axes>"
      ]
     },
     "metadata": {
      "needs_background": "light"
     },
     "output_type": "display_data"
    }
   ],
   "source": [
    "# Общее число заказов\n",
    "plt.figure(figsize=(25, 10))\n",
    "plt.subplot(2, 2, 1)\n",
    "sns.lineplot(data=daily_stats, x='created_dt_msk', y='total_orders', marker='o')\n",
    "plt.title('Общее число заказов')\n",
    "plt.xlabel('Дата')\n",
    "plt.ylabel('Количество')\n",
    "plt.grid(axis='y')"
   ]
  },
  {
   "cell_type": "code",
   "execution_count": 60,
   "id": "57033d74",
   "metadata": {},
   "outputs": [
    {
     "data": {
      "image/png": "[encoded data removed]",
      "text/plain": [
       "<Figure size 1800x720 with 1 Axes>"
      ]
     },
     "metadata": {
      "needs_background": "light"
     },
     "output_type": "display_data"
    }
   ],
   "source": [
    "# ГСреднее число заказов на пользователя\n",
    "plt.figure(figsize=(25, 10))\n",
    "plt.subplot(2, 2, 3)\n",
    "sns.lineplot(data=daily_stats, x='created_dt_msk', y='avg_ticket_on_user', marker='o', color='orange')\n",
    "plt.title('Среднее число заказов на пользователя')\n",
    "plt.xlabel('Дата')\n",
    "plt.ylabel('Заказов/пользователя')\n",
    "plt.grid(axis='y')"
   ]
  },
  {
   "cell_type": "code",
   "execution_count": 61,
   "id": "58daecb1",
   "metadata": {},
   "outputs": [
    {
     "data": {
      "image/png": "[encoded data removed]",
      "text/plain": [
       "<Figure size 1800x720 with 1 Axes>"
      ]
     },
     "metadata": {
      "needs_background": "light"
     },
     "output_type": "display_data"
    }
   ],
   "source": [
    "# Средняя стоимость билета\n",
    "plt.figure(figsize=(25, 10))\n",
    "plt.subplot(2, 2, 4)\n",
    "sns.lineplot(data=daily_stats, x='created_dt_msk', y='avg_ticket_price', marker='o', color='red')\n",
    "plt.title('Средняя стоимость билета (руб)')\n",
    "plt.xlabel('Дата')\n",
    "plt.ylabel('Цена билета')\n",
    "plt.grid(axis='y')"
   ]
  },
  {
   "cell_type": "code",
   "execution_count": 62,
   "id": "9eb21cce",
   "metadata": {},
   "outputs": [
    {
     "data": {
      "text/plain": [
       "<matplotlib.legend.Legend at 0x7f37172a0130>"
      ]
     },
     "execution_count": 62,
     "metadata": {},
     "output_type": "execute_result"
    },
    {
     "data": {
      "text/plain": [
       "<Figure size 1800x720 with 0 Axes>"
      ]
     },
     "metadata": {},
     "output_type": "display_data"
    },
    {
     "data": {
      "image/png": "[encoded data removed]",
      "text/plain": [
       "<Figure size 432x288 with 1 Axes>"
      ]
     },
     "metadata": {
      "needs_background": "light"
     },
     "output_type": "display_data"
    }
   ],
   "source": [
    "# Добавляем день недели\n",
    "daily_stats['day_of_week'] = pd.to_datetime(daily_stats['created_dt_msk']).dt.day_name()\n",
    "\n",
    "# Группировка по дням недели\n",
    "weekday_stats = daily_stats.groupby('day_of_week').agg({\n",
    "    'total_orders': 'mean',\n",
    "    'dau': 'mean',\n",
    "    'avg_ticket_on_user': 'mean',\n",
    "    'avg_ticket_price': 'mean'\n",
    "}).reindex(['Monday', 'Tuesday', 'Wednesday', 'Thursday', 'Friday', 'Saturday', 'Sunday'])\n",
    "\n",
    "# Визуализация\n",
    "plt.figure(figsize=(25, 10))\n",
    "weekday_stats[['total_orders', 'dau']].plot(kind='bar', alpha=0.7)\n",
    "plt.title('Активность по дням недели')\n",
    "plt.ylabel('Средние значения')\n",
    "plt.xlabel('День недели')\n",
    "plt.xticks(rotation=45)\n",
    "plt.grid(axis='y')\n",
    "plt.legend(['Заказы', 'DAU'])"
   ]
  },
  {
   "cell_type": "markdown",
   "id": "dda6af2c",
   "metadata": {},
   "source": [
    "#### Промежуточные выводы\n",
    "- Наблюадается стабильный рост активных пользователей\n",
    "- Есть корреляция между стоимости билетов и количеством билетов. На графике видно несколько несколько точек, где цена сильно снижается, в эти же даты, можно увидеть вссплеск числа заказов."
   ]
  },
  {
   "cell_type": "markdown",
   "id": "68b43b0f",
   "metadata": {},
   "source": [
    "### Анализ мероприятий по регионам"
   ]
  },
  {
   "cell_type": "markdown",
   "id": "d4a00e0e",
   "metadata": {},
   "source": [
    "Для каждого региона посчитайте уникальное количество мероприятий и общее число заказов."
   ]
  },
  {
   "cell_type": "code",
   "execution_count": 63,
   "id": "b5e70eec",
   "metadata": {},
   "outputs": [],
   "source": [
    "# Группировка по регионам\n",
    "region_stats = autumn_df.groupby('region_name').agg(\n",
    "    unique_events=('event_id', 'nunique'),  # Уникальные мероприятия\n",
    "    total_orders=('order_id', 'count'),     # Всего заказов\n",
    "    total_revenue=('revenue_rub', 'sum')    # Суммарная выручка\n",
    ").sort_values('total_orders', ascending=False).reset_index()\n",
    "\n",
    "# Добавляем доли\n",
    "region_stats['events_share'] = (region_stats['unique_events'] / region_stats['unique_events'].sum()) * 100\n",
    "region_stats['orders_share'] = (region_stats['total_orders'] / region_stats['total_orders'].sum()) * 100"
   ]
  },
  {
   "cell_type": "code",
   "execution_count": 64,
   "id": "735ae2cf",
   "metadata": {},
   "outputs": [
    {
     "data": {
      "text/html": [
       "<div>\n",
       "<style scoped>\n",
       "    .dataframe tbody tr th:only-of-type {\n",
       "        vertical-align: middle;\n",
       "    }\n",
       "\n",
       "    .dataframe tbody tr th {\n",
       "        vertical-align: top;\n",
       "    }\n",
       "\n",
       "    .dataframe thead th {\n",
       "        text-align: right;\n",
       "    }\n",
       "</style>\n",
       "<table border=\"1\" class=\"dataframe\">\n",
       "  <thead>\n",
       "    <tr style=\"text-align: right;\">\n",
       "      <th></th>\n",
       "      <th>region_name</th>\n",
       "      <th>unique_events</th>\n",
       "      <th>total_orders</th>\n",
       "      <th>total_revenue</th>\n",
       "      <th>events_share</th>\n",
       "      <th>orders_share</th>\n",
       "    </tr>\n",
       "  </thead>\n",
       "  <tbody>\n",
       "    <tr>\n",
       "      <th>0</th>\n",
       "      <td>Каменевский регион</td>\n",
       "      <td>3910</td>\n",
       "      <td>46663</td>\n",
       "      <td>2.859092e+07</td>\n",
       "      <td>24.642339</td>\n",
       "      <td>27.751478</td>\n",
       "    </tr>\n",
       "    <tr>\n",
       "      <th>1</th>\n",
       "      <td>Североярская область</td>\n",
       "      <td>2610</td>\n",
       "      <td>20655</td>\n",
       "      <td>1.046188e+07</td>\n",
       "      <td>16.449234</td>\n",
       "      <td>12.283968</td>\n",
       "    </tr>\n",
       "    <tr>\n",
       "      <th>2</th>\n",
       "      <td>Медовская область</td>\n",
       "      <td>369</td>\n",
       "      <td>12040</td>\n",
       "      <td>2.341838e+06</td>\n",
       "      <td>2.325581</td>\n",
       "      <td>7.160444</td>\n",
       "    </tr>\n",
       "    <tr>\n",
       "      <th>3</th>\n",
       "      <td>Широковская область</td>\n",
       "      <td>803</td>\n",
       "      <td>8715</td>\n",
       "      <td>4.227784e+06</td>\n",
       "      <td>5.060818</td>\n",
       "      <td>5.182996</td>\n",
       "    </tr>\n",
       "    <tr>\n",
       "      <th>4</th>\n",
       "      <td>Озернинский край</td>\n",
       "      <td>296</td>\n",
       "      <td>7478</td>\n",
       "      <td>6.632334e+06</td>\n",
       "      <td>1.865507</td>\n",
       "      <td>4.447326</td>\n",
       "    </tr>\n",
       "  </tbody>\n",
       "</table>\n",
       "</div>"
      ],
      "text/plain": [
       "            region_name  unique_events  total_orders  total_revenue  \\\n",
       "0    Каменевский регион           3910         46663   2.859092e+07   \n",
       "1  Североярская область           2610         20655   1.046188e+07   \n",
       "2     Медовская область            369         12040   2.341838e+06   \n",
       "3   Широковская область            803          8715   4.227784e+06   \n",
       "4      Озернинский край            296          7478   6.632334e+06   \n",
       "\n",
       "   events_share  orders_share  \n",
       "0     24.642339     27.751478  \n",
       "1     16.449234     12.283968  \n",
       "2      2.325581      7.160444  \n",
       "3      5.060818      5.182996  \n",
       "4      1.865507      4.447326  "
      ]
     },
     "execution_count": 64,
     "metadata": {},
     "output_type": "execute_result"
    }
   ],
   "source": [
    "region_stats.head()"
   ]
  },
  {
   "cell_type": "code",
   "execution_count": 65,
   "id": "42cb4bfa",
   "metadata": {},
   "outputs": [
    {
     "data": {
      "image/png": "[encoded data removed]",
      "text/plain": [
       "<Figure size 864x432 with 1 Axes>"
      ]
     },
     "metadata": {
      "needs_background": "light"
     },
     "output_type": "display_data"
    }
   ],
   "source": [
    "plt.figure(figsize=(12, 6))\n",
    "sns.barplot(data=region_stats.head(10), \n",
    "            y='region_name', \n",
    "            x='total_orders', \n",
    "            orient='h', \n",
    "            color='steelblue')\n",
    "plt.title('Топ-10 регионов по количеству заказов')\n",
    "plt.ylabel('Регион')\n",
    "plt.xlabel('Количество заказов')\n",
    "plt.show()"
   ]
  },
  {
   "cell_type": "code",
   "execution_count": 66,
   "id": "a530ed9f",
   "metadata": {},
   "outputs": [
    {
     "data": {
      "text/plain": [
       "Text(0.5, 0, 'Количество мероприятий')"
      ]
     },
     "execution_count": 66,
     "metadata": {},
     "output_type": "execute_result"
    },
    {
     "data": {
      "image/png": "[encoded data removed]",
      "text/plain": [
       "<Figure size 864x432 with 1 Axes>"
      ]
     },
     "metadata": {
      "needs_background": "light"
     },
     "output_type": "display_data"
    }
   ],
   "source": [
    "plt.figure(figsize=(12, 6))\n",
    "sns.barplot(data=region_stats.head(10).sort_values('unique_events', ascending=False),\n",
    "            y='region_name',\n",
    "            x='unique_events',\n",
    "            orient='h',\n",
    "            color='steelblue')\n",
    "plt.title('Топ-10 регионов по количеству уникальных типов мероприятий')\n",
    "plt.ylabel('Регион')\n",
    "plt.xlabel('Количество мероприятий')"
   ]
  },
  {
   "cell_type": "markdown",
   "id": "f9294800",
   "metadata": {},
   "source": [
    "#### Промежуточные выводы\n",
    "Заказов в Каменевском регионе в разы больше, чем в любом другом, возможно этот ркгион самый большой и густонаселенный из всех из всех, возможно в остальных регионах недостаточно рекламы мероприятий."
   ]
  },
  {
   "cell_type": "markdown",
   "id": "7edfa3d8",
   "metadata": {},
   "source": [
    "### Анализ партнеров сервиса"
   ]
  },
  {
   "cell_type": "markdown",
   "id": "c67c3e57",
   "metadata": {},
   "source": [
    "Для каждого билетного партнёра посчитаем общее число уникальных мероприятий, обработанных заказов и суммарную выручку с заказов билетов. "
   ]
  },
  {
   "cell_type": "code",
   "execution_count": 67,
   "id": "007774a2",
   "metadata": {},
   "outputs": [],
   "source": [
    "# Группировка по партнёрам\n",
    "partner_stats = autumn_df.groupby('service_name').agg(\n",
    "    unique_events=('event_id', 'nunique'),  # Уникальные мероприятия\n",
    "    total_orders=('order_id', 'count'),      # Всего заказов\n",
    "    total_revenue=('revenue_rub', 'sum')     # Суммарная выручка\n",
    ").sort_values('total_revenue', ascending=False).reset_index()\n",
    "\n",
    "# Добавляем доли\n",
    "partner_stats['revenue_share'] = (partner_stats['total_revenue'] / partner_stats['total_revenue'].sum()) * 100"
   ]
  },
  {
   "cell_type": "code",
   "execution_count": 68,
   "id": "78becd0b",
   "metadata": {},
   "outputs": [
    {
     "data": {
      "text/html": [
       "<div>\n",
       "<style scoped>\n",
       "    .dataframe tbody tr th:only-of-type {\n",
       "        vertical-align: middle;\n",
       "    }\n",
       "\n",
       "    .dataframe tbody tr th {\n",
       "        vertical-align: top;\n",
       "    }\n",
       "\n",
       "    .dataframe thead th {\n",
       "        text-align: right;\n",
       "    }\n",
       "</style>\n",
       "<table border=\"1\" class=\"dataframe\">\n",
       "  <thead>\n",
       "    <tr style=\"text-align: right;\">\n",
       "      <th></th>\n",
       "      <th>service_name</th>\n",
       "      <th>unique_events</th>\n",
       "      <th>total_orders</th>\n",
       "      <th>total_revenue</th>\n",
       "      <th>revenue_share</th>\n",
       "    </tr>\n",
       "  </thead>\n",
       "  <tbody>\n",
       "    <tr>\n",
       "      <th>0</th>\n",
       "      <td>Билеты без проблем</td>\n",
       "      <td>2843</td>\n",
       "      <td>32127</td>\n",
       "      <td>11817851.65</td>\n",
       "      <td>14.538409</td>\n",
       "    </tr>\n",
       "    <tr>\n",
       "      <th>1</th>\n",
       "      <td>Мой билет</td>\n",
       "      <td>1001</td>\n",
       "      <td>19260</td>\n",
       "      <td>10675904.41</td>\n",
       "      <td>13.133577</td>\n",
       "    </tr>\n",
       "    <tr>\n",
       "      <th>2</th>\n",
       "      <td>Облачко</td>\n",
       "      <td>1409</td>\n",
       "      <td>15478</td>\n",
       "      <td>10611051.69</td>\n",
       "      <td>13.053794</td>\n",
       "    </tr>\n",
       "    <tr>\n",
       "      <th>3</th>\n",
       "      <td>Лови билет!</td>\n",
       "      <td>3616</td>\n",
       "      <td>25788</td>\n",
       "      <td>10375964.65</td>\n",
       "      <td>12.764589</td>\n",
       "    </tr>\n",
       "    <tr>\n",
       "      <th>4</th>\n",
       "      <td>Весь в билетах</td>\n",
       "      <td>599</td>\n",
       "      <td>9405</td>\n",
       "      <td>9324685.93</td>\n",
       "      <td>11.471298</td>\n",
       "    </tr>\n",
       "  </tbody>\n",
       "</table>\n",
       "</div>"
      ],
      "text/plain": [
       "         service_name  unique_events  total_orders  total_revenue  \\\n",
       "0  Билеты без проблем           2843         32127    11817851.65   \n",
       "1           Мой билет           1001         19260    10675904.41   \n",
       "2             Облачко           1409         15478    10611051.69   \n",
       "3         Лови билет!           3616         25788    10375964.65   \n",
       "4      Весь в билетах            599          9405     9324685.93   \n",
       "\n",
       "   revenue_share  \n",
       "0      14.538409  \n",
       "1      13.133577  \n",
       "2      13.053794  \n",
       "3      12.764589  \n",
       "4      11.471298  "
      ]
     },
     "execution_count": 68,
     "metadata": {},
     "output_type": "execute_result"
    }
   ],
   "source": [
    "partner_stats.head()"
   ]
  },
  {
   "cell_type": "code",
   "execution_count": 69,
   "id": "22c1f0cc",
   "metadata": {},
   "outputs": [
    {
     "name": "stdout",
     "output_type": "stream",
     "text": [
      "Количество партнеров: 35\n"
     ]
    }
   ],
   "source": [
    "# Проверим сколько у нас всего партнеров\n",
    "unique_services_count = partner_stats['service_name'].nunique()\n",
    "print(f\"Количество партнеров: {unique_services_count}\")"
   ]
  },
  {
   "cell_type": "code",
   "execution_count": 70,
   "id": "85268df4",
   "metadata": {},
   "outputs": [
    {
     "data": {
      "text/plain": [
       "Text(0.5, 0, 'Количество выручки')"
      ]
     },
     "execution_count": 70,
     "metadata": {},
     "output_type": "execute_result"
    },
    {
     "data": {
      "image/png": "[encoded data removed]",
      "text/plain": [
       "<Figure size 864x432 with 1 Axes>"
      ]
     },
     "metadata": {
      "needs_background": "light"
     },
     "output_type": "display_data"
    }
   ],
   "source": [
    "plt.figure(figsize=(12, 6))\n",
    "sns.barplot(data=partner_stats.head(10).sort_values('total_revenue', ascending=False),\n",
    "            y='service_name',\n",
    "            x='total_revenue',\n",
    "            orient='h',\n",
    "            color='steelblue')\n",
    "plt.title('Топ-10 партнеров по количеству выручки')\n",
    "plt.ylabel('Партнер')\n",
    "plt.xlabel('Количество выручки')"
   ]
  },
  {
   "cell_type": "code",
   "execution_count": 71,
   "id": "7a903bf8",
   "metadata": {},
   "outputs": [
    {
     "data": {
      "text/plain": [
       "Text(0.5, 0, 'Количество мероприятий')"
      ]
     },
     "execution_count": 71,
     "metadata": {},
     "output_type": "execute_result"
    },
    {
     "data": {
      "image/png": "[encoded data removed]",
      "text/plain": [
       "<Figure size 864x432 with 1 Axes>"
      ]
     },
     "metadata": {
      "needs_background": "light"
     },
     "output_type": "display_data"
    }
   ],
   "source": [
    "plt.figure(figsize=(12, 6))\n",
    "sns.barplot(data=partner_stats.head(10).sort_values('unique_events', ascending=False),\n",
    "            y='service_name',\n",
    "            x='unique_events',\n",
    "            orient='h',\n",
    "            color='steelblue')\n",
    "plt.title('Топ-10 партнеров по уникальных мероприятий')\n",
    "plt.ylabel('Партнер')\n",
    "plt.xlabel('Количество мероприятий')"
   ]
  },
  {
   "cell_type": "code",
   "execution_count": 72,
   "id": "3d5f0c59",
   "metadata": {},
   "outputs": [
    {
     "data": {
      "text/plain": [
       "Text(0.5, 0, 'Количество заказов')"
      ]
     },
     "execution_count": 72,
     "metadata": {},
     "output_type": "execute_result"
    },
    {
     "data": {
      "image/png": "[encoded data removed]",
      "text/plain": [
       "<Figure size 864x432 with 1 Axes>"
      ]
     },
     "metadata": {
      "needs_background": "light"
     },
     "output_type": "display_data"
    }
   ],
   "source": [
    "plt.figure(figsize=(12, 6))\n",
    "sns.barplot(data=partner_stats.head(10).sort_values('total_orders', ascending=False),\n",
    "            y='service_name',\n",
    "            x='total_orders',\n",
    "            orient='h',\n",
    "            color='steelblue')\n",
    "plt.title('Топ-10 партнеров по количеству заказов')\n",
    "plt.ylabel('Партнер')\n",
    "plt.xlabel('Количество заказов')"
   ]
  },
  {
   "cell_type": "markdown",
   "id": "53128044",
   "metadata": {},
   "source": [
    "#### Промежуточные выводы\n",
    "- Каменевский регион явный лидер по количеству заказов.\n",
    "- По количеству уникальных мероприятий  в лидерах Каменевский регион и Североярская область.\n",
    "- Среди партнеров явного приемущества не наблюдается, однако \"Билеты без проблем\" явлиются лидирующим партнером по количеству заказов и выручки."
   ]
  },
  {
   "cell_type": "markdown",
   "id": "01a54854",
   "metadata": {},
   "source": [
    "### Проверка гипотез"
   ]
  },
  {
   "cell_type": "markdown",
   "id": "97a95711",
   "metadata": {},
   "source": [
    "Необходимо проверить несколько гипотез относительно активности пользователей мобильных и стационарных устройств. Проверим две гипотезы, которые предполагают большую активность пользователей мобильных устройств:\n",
    "- Среднее количество заказов на одного пользователя мобильного приложения выше по сравнению с пользователями стационарных устройств.\n",
    "- Среднее время между заказами пользователей мобильных приложений выше по сравнению с пользователями стационарных устройств."
   ]
  },
  {
   "cell_type": "code",
   "execution_count": 73,
   "id": "6e69933f",
   "metadata": {},
   "outputs": [],
   "source": [
    "# Разделяем на группы по типу устройств\n",
    "mobile_users = merged_df[merged_df['device_type_canonical'] == 'mobile']\n",
    "desktop_users = merged_df[merged_df['device_type_canonical'] == 'desktop']"
   ]
  },
  {
   "cell_type": "markdown",
   "id": "8c43e80b",
   "metadata": {},
   "source": [
    "#### Гипотеза 1: \n",
    "Среднее количество заказов на одного пользователя\n",
    "- H0: Среднее количество заказов мобильных и десктопных пользователей одинаково\n",
    "- H1: Среднее количество заказов мобильных пользователей выше"
   ]
  },
  {
   "cell_type": "code",
   "execution_count": 74,
   "id": "03a90deb",
   "metadata": {},
   "outputs": [],
   "source": [
    "# Рассчитываем метрику\n",
    "mobile_orders = mobile_users.groupby('user_id')['order_id'].count()\n",
    "desktop_orders = desktop_users.groupby('user_id')['order_id'].count()"
   ]
  },
  {
   "cell_type": "code",
   "execution_count": 75,
   "id": "4cb89373",
   "metadata": {},
   "outputs": [
    {
     "name": "stdout",
     "output_type": "stream",
     "text": [
      "Тест Шапиро-Уилка для мобильных пользователей:\n",
      "ShapiroResult(statistic=0.06106281280517578, pvalue=0.0)\n",
      "Тест Шапиро-Уилка для десктопных пользователей:\n",
      "ShapiroResult(statistic=0.10096067190170288, pvalue=0.0)\n"
     ]
    },
    {
     "name": "stderr",
     "output_type": "stream",
     "text": [
      "/opt/conda/lib/python3.9/site-packages/scipy/stats/_morestats.py:1800: UserWarning: p-value may not be accurate for N > 5000.\n",
      "  warnings.warn(\"p-value may not be accurate for N > 5000.\")\n"
     ]
    }
   ],
   "source": [
    "# Тест на нормальность\n",
    "print(\"Тест Шапиро-Уилка для мобильных пользователей:\")\n",
    "print(stats.shapiro(mobile_orders))\n",
    "print(\"Тест Шапиро-Уилка для десктопных пользователей:\")\n",
    "print(stats.shapiro(desktop_orders))"
   ]
  },
  {
   "cell_type": "markdown",
   "id": "c1612aee",
   "metadata": {},
   "source": [
    "Результаты теста Шапиро-Уилка с p-value=0.0 для обеих групп однозначно указывают, что распределения существенно отклоняются от нормального"
   ]
  },
  {
   "cell_type": "code",
   "execution_count": 76,
   "id": "65f975e8",
   "metadata": {},
   "outputs": [
    {
     "data": {
      "image/png": "[encoded data removed]",
      "text/plain": [
       "<Figure size 432x288 with 1 Axes>"
      ]
     },
     "metadata": {
      "needs_background": "light"
     },
     "output_type": "display_data"
    }
   ],
   "source": [
    "# Boxplot\n",
    "combined = pd.concat([pd.DataFrame({'value': mobile_orders, 'group': 'mobile'}),\n",
    "                      pd.DataFrame({'value': desktop_orders, 'group': 'desktop'})])\n",
    "sns.boxplot(x='group', y='value', data=combined)\n",
    "plt.title('Boxplot сравнения')\n",
    "plt.yscale('log')"
   ]
  },
  {
   "cell_type": "markdown",
   "id": "4a56955f",
   "metadata": {},
   "source": [
    "Показатель количества заказов на пользователя не имеет нормального распределения и имеет выбросы"
   ]
  },
  {
   "cell_type": "code",
   "execution_count": 77,
   "id": "b1d3c6df",
   "metadata": {
    "scrolled": true
   },
   "outputs": [
    {
     "data": {
      "image/png": "[encoded data removed]",
      "text/plain": [
       "<Figure size 864x432 with 1 Axes>"
      ]
     },
     "metadata": {
      "needs_background": "light"
     },
     "output_type": "display_data"
    }
   ],
   "source": [
    "# Q-Q график для mobile\n",
    "plt.figure(figsize=(12, 6))\n",
    "stats.probplot(mobile_orders, dist=\"norm\", plot=plt, rvalue=True)\n",
    "plt.gca().set_yscale('log')"
   ]
  },
  {
   "cell_type": "code",
   "execution_count": 78,
   "id": "3c6a8599",
   "metadata": {},
   "outputs": [
    {
     "data": {
      "image/png": "[encoded data removed]",
      "text/plain": [
       "<Figure size 864x432 with 1 Axes>"
      ]
     },
     "metadata": {
      "needs_background": "light"
     },
     "output_type": "display_data"
    }
   ],
   "source": [
    "# Q-Q грфик для desktop\n",
    "plt.figure(figsize=(12, 6))\n",
    "stats.probplot(desktop_orders, dist=\"norm\", plot=plt, rvalue=True)\n",
    "plt.gca().set_yscale('log')"
   ]
  },
  {
   "cell_type": "markdown",
   "id": "6d993342",
   "metadata": {},
   "source": [
    "Поскольку распределения не нормальные, следует использовать U-тест Манна-Уитни вместо t-теста."
   ]
  },
  {
   "cell_type": "code",
   "execution_count": 79,
   "id": "78713766",
   "metadata": {},
   "outputs": [
    {
     "name": "stdout",
     "output_type": "stream",
     "text": [
      "U-тест Манна-Уитни: U=71549897.0, p=0.0000\n"
     ]
    }
   ],
   "source": [
    "u_stat, p_value = stats.mannwhitneyu(mobile_orders, \n",
    "                                   desktop_orders,\n",
    "                                   alternative='greater')\n",
    "print(f\"U-тест Манна-Уитни: U={u_stat:.1f}, p={p_value:.4f}\")"
   ]
  },
  {
   "cell_type": "code",
   "execution_count": 80,
   "id": "fb293073",
   "metadata": {},
   "outputs": [
    {
     "name": "stdout",
     "output_type": "stream",
     "text": [
      "\n",
      "При alpha = 0.05 отвергаем H0: среднее количество заказов мобильных пользователей выше\n",
      "Среднее количество заказов:\n",
      " - mobile = 11.70\n",
      " - desktop = 8.07\n"
     ]
    }
   ],
   "source": [
    "alpha = 0.05\n",
    "if p_value < alpha:\n",
    "    print(f\"\\nПри alpha = {alpha} отвергаем H0: среднее количество заказов мобильных пользователей выше\\\n",
    "\\nСреднее количество заказов:\\\n",
    "\\n - mobile = {mobile_orders.mean():.2f}\\\n",
    "\\n - desktop = {desktop_orders.mean():.2f}\")\n",
    "else:\n",
    "    print(f\"\\nПри alpha = {alpha} не отвергаем H0: нет доказательств, что среднее количество заказов различается\\\n",
    "\\n Среднее количество заказов:\\\n",
    "\\n - mobile = {mobile_orders.mean():.2f}\\\n",
    "\\n - desktop = {desktop_orders.mean():.2f}\")"
   ]
  },
  {
   "cell_type": "markdown",
   "id": "e56340b3",
   "metadata": {},
   "source": [
    "#### Гипотеза 2: \n",
    "Среднее время между заказами пользователей\n",
    "- H0: Среднее время между заказами у мобильных и десктопных пользователей одинаково\n",
    "- H1: Среднее время между заказами у мобильных пользователей больше"
   ]
  },
  {
   "cell_type": "code",
   "execution_count": 81,
   "id": "32de1b8d",
   "metadata": {},
   "outputs": [],
   "source": [
    "# Подготовка данных для пользователей mobile\n",
    "mobile_time_between = (\n",
    "    mobile_users.sort_values(['user_id', 'created_dt_msk'])\n",
    "    .groupby('user_id')['created_dt_msk']\n",
    "    .apply(lambda x: x.diff().dt.days.mean())\n",
    "    .dropna()\n",
    ")"
   ]
  },
  {
   "cell_type": "code",
   "execution_count": 82,
   "id": "3ff59b05",
   "metadata": {},
   "outputs": [],
   "source": [
    "# Подготовка данных для пользователей desktop\n",
    "desktop_time_between = (\n",
    "    desktop_users.sort_values(['user_id', 'created_dt_msk'])\n",
    "    .groupby('user_id')['created_dt_msk']\n",
    "    .apply(lambda x: x.diff().dt.days.mean())\n",
    "    .dropna()\n",
    ")"
   ]
  },
  {
   "cell_type": "code",
   "execution_count": 83,
   "id": "96448c6b",
   "metadata": {},
   "outputs": [
    {
     "name": "stdout",
     "output_type": "stream",
     "text": [
      "Тест Шапиро-Уилка для мобильных пользователей:\n",
      "ShapiroResult(statistic=0.7074581384658813, pvalue=0.0)\n",
      "Тест Шапиро-Уилка для десктопных пользователей:\n",
      "ShapiroResult(statistic=0.6904916763305664, pvalue=0.0)\n"
     ]
    },
    {
     "name": "stderr",
     "output_type": "stream",
     "text": [
      "/opt/conda/lib/python3.9/site-packages/scipy/stats/_morestats.py:1800: UserWarning: p-value may not be accurate for N > 5000.\n",
      "  warnings.warn(\"p-value may not be accurate for N > 5000.\")\n"
     ]
    }
   ],
   "source": [
    "# Тест на нормальность\n",
    "print(\"Тест Шапиро-Уилка для мобильных пользователей:\")\n",
    "print(stats.shapiro(mobile_time_between))\n",
    "print(\"Тест Шапиро-Уилка для десктопных пользователей:\")\n",
    "print(stats.shapiro(desktop_time_between))"
   ]
  },
  {
   "cell_type": "markdown",
   "id": "95f24841",
   "metadata": {},
   "source": [
    "Результаты теста Шапиро-Уилка с p-value=0.0 для обеих групп однозначно указывают, что распределения существенно отклоняются от нормального"
   ]
  },
  {
   "cell_type": "code",
   "execution_count": 84,
   "id": "10f0ec1c",
   "metadata": {},
   "outputs": [
    {
     "data": {
      "text/plain": [
       "<AxesSubplot:xlabel='group', ylabel='value'>"
      ]
     },
     "execution_count": 84,
     "metadata": {},
     "output_type": "execute_result"
    },
    {
     "data": {
      "image/png": "[encoded data removed]",
      "text/plain": [
       "<Figure size 432x288 with 1 Axes>"
      ]
     },
     "metadata": {
      "needs_background": "light"
     },
     "output_type": "display_data"
    }
   ],
   "source": [
    "combined = pd.concat([pd.DataFrame({'value': mobile_time_between, 'group': 'mobile'}),\n",
    "                      pd.DataFrame({'value': desktop_time_between, 'group': 'desktop'})])\n",
    "sns.boxplot(x='group', y='value', data=combined)"
   ]
  },
  {
   "cell_type": "markdown",
   "id": "c8246add",
   "metadata": {},
   "source": [
    "Показатель среднего времени между заказами не имеет нормального распределения и имеет выбросы.\n",
    "Поскольку распределения не нормальные, следует использовать U-тест Манна-Уитни вместо t-теста."
   ]
  },
  {
   "cell_type": "code",
   "execution_count": 85,
   "id": "d373680a",
   "metadata": {},
   "outputs": [
    {
     "name": "stdout",
     "output_type": "stream",
     "text": [
      "U-тест Манна-Уитни: U=24790952.0, p=0.0000\n"
     ]
    }
   ],
   "source": [
    "u_stat, p_value = stats.mannwhitneyu(mobile_time_between, \n",
    "                                   desktop_time_between,\n",
    "                                   alternative='greater')\n",
    "print(f\"U-тест Манна-Уитни: U={u_stat:.1f}, p={p_value:.4f}\")"
   ]
  },
  {
   "cell_type": "code",
   "execution_count": 86,
   "id": "d8bdafad",
   "metadata": {},
   "outputs": [
    {
     "name": "stdout",
     "output_type": "stream",
     "text": [
      "При alpha = 0.05 отвергаем H0: среднее время между заказами у мобильных пользователей больше.\n",
      "Медианное время между заказами:\n",
      " - Мобильные пользователи: 8.2 дней\n",
      " - Десктопные пользователи: 7.5 дней \n",
      " - Разница: 0.8 дней\n"
     ]
    }
   ],
   "source": [
    "alpha = 0.05\n",
    "if p_value < alpha:\n",
    "    print(f\"При alpha = {alpha} отвергаем H0: среднее время между заказами у мобильных пользователей больше.\\\n",
    "\\nМедианное время между заказами:\\\n",
    "\\n - Мобильные пользователи: {np.median(mobile_time_between):.1f} дней\\\n",
    "\\n - Десктопные пользователи: {np.median(desktop_time_between):.1f} дней \\\n",
    "\\n - Разница: {np.median(mobile_time_between) - np.median(desktop_time_between):.1f} дней\")\n",
    "else:\n",
    "    print(f\"При alpha = {alpha} не отвергаем H0: нет доказательств различий во времени между заказами\\\n",
    "\\nМедианное время между заказами:\\\n",
    "\\n - Мобильные пользователи: {np.median(mobile_time_between):.1f} дней\\\n",
    "\\n - Десктопные пользователи: {np.median(desktop_time_between):.1f} дней\")"
   ]
  },
  {
   "cell_type": "markdown",
   "id": "d4d6e1ff",
   "metadata": {},
   "source": [
    "## Общие выводы и рекомендации\n",
    "\n",
    "### Сезонная активность и категории мероприятий\n",
    "- Подтверждено: Осенний рост активности пользователей характерен для большинства категорий, кроме:\n",
    "\n",
    "- Стендап и выставки — остались на прежнем уровне популярности, но при этом подорожали.\n",
    "\n",
    "Рекомендации:\n",
    "\n",
    "- Исследовать причины низкого спроса (недостаток рекламы, слабая вовлеченность партнеров).\n",
    "\n",
    "- Разработать спецпредложения или маркетинговые кампании для этих категорий.\n",
    "\n",
    "- Проанализировать ценовую политику — возможно, рост цен снизил спрос.\n",
    "\n",
    "### Мобильные пользователи\n",
    "- Подтверждено: Большинство заказов совершается с мобильных устройств.\n",
    "\n",
    "- Опровергнуто: Время между заказами у мобильных и десктопных пользователей не отличается.\n",
    "\n",
    "Рекомендации:\n",
    "\n",
    "- Улучшить UX мобильного приложения (например, упростить повторные заказы).\n",
    "\n",
    "- Внедрить push-уведомления о новых мероприятиях для мобильной аудитории.\n",
    "\n",
    "### Региональные различия\n",
    "Каменевский регион лидирует по заказам и выручке, остальные — значительно отстают.\n",
    "\n",
    "Возможные причины:\n",
    "\n",
    "- Высокая плотность населения.\n",
    "\n",
    "- Лучшая работа партнеров/площадок.\n",
    "\n",
    "- Недостаток рекламы в других регионах.\n",
    "\n",
    "Рекомендации:\n",
    "\n",
    "- Изучить аудиторию в отстающих регионах (предпочтения, платежеспособность).\n",
    "\n",
    "- Усилить продвижение в регионах с потенциалом (например, через локальных инфлюенсеров).\n",
    "\n",
    "### Партнеры сервиса\n",
    "Среди 35 партнеров 6 лидеров генерируют основную выручку.\n",
    "\n",
    "Рекомендации:\n",
    "\n",
    "- Разработать индивидуальные условия для топ-партнеров (бонусы за объем).\n",
    "\n",
    "- Стимулировать остальных партнеров:\n",
    "\n",
    "- Обучение продвижению мероприятий.\n",
    "\n",
    "- Анализ успешных кейсов лидеров."
   ]
  }
 ],
 "metadata": {
  "ExecuteTimeLog": [
   {
    "duration": 1197,
    "start_time": "2025-06-07T09:32:46.035Z"
   },
   {
    "duration": 2310,
    "start_time": "2025-06-07T09:32:47.234Z"
   },
   {
    "duration": 163,
    "start_time": "2025-06-07T09:32:49.546Z"
   },
   {
    "duration": 8,
    "start_time": "2025-06-07T09:32:49.711Z"
   },
   {
    "duration": 233,
    "start_time": "2025-06-07T09:32:49.720Z"
   },
   {
    "duration": 17,
    "start_time": "2025-06-07T09:32:49.955Z"
   },
   {
    "duration": 266,
    "start_time": "2025-06-07T09:32:49.973Z"
   },
   {
    "duration": 11,
    "start_time": "2025-06-07T09:32:50.241Z"
   },
   {
    "duration": 30,
    "start_time": "2025-06-07T09:32:50.257Z"
   },
   {
    "duration": 8,
    "start_time": "2025-06-07T09:32:50.291Z"
   },
   {
    "duration": 5,
    "start_time": "2025-06-07T09:32:50.300Z"
   },
   {
    "duration": 22,
    "start_time": "2025-06-07T09:32:50.306Z"
   },
   {
    "duration": 41,
    "start_time": "2025-06-07T09:32:50.329Z"
   },
   {
    "duration": 30,
    "start_time": "2025-06-07T09:32:50.372Z"
   },
   {
    "duration": 25,
    "start_time": "2025-06-07T09:32:50.404Z"
   },
   {
    "duration": 5,
    "start_time": "2025-06-07T09:32:50.431Z"
   },
   {
    "duration": 22,
    "start_time": "2025-06-07T09:32:50.437Z"
   },
   {
    "duration": 7,
    "start_time": "2025-06-07T09:32:50.460Z"
   },
   {
    "duration": 66,
    "start_time": "2025-06-07T09:32:50.468Z"
   },
   {
    "duration": 36,
    "start_time": "2025-06-07T09:32:50.536Z"
   },
   {
    "duration": 531,
    "start_time": "2025-06-07T09:32:50.574Z"
   },
   {
    "duration": 276,
    "start_time": "2025-06-07T09:32:51.107Z"
   },
   {
    "duration": 73,
    "start_time": "2025-06-07T09:32:51.385Z"
   },
   {
    "duration": 300,
    "start_time": "2025-06-07T09:32:51.460Z"
   },
   {
    "duration": 18,
    "start_time": "2025-06-07T09:32:51.761Z"
   },
   {
    "duration": 528,
    "start_time": "2025-06-07T09:32:51.781Z"
   },
   {
    "duration": 251,
    "start_time": "2025-06-07T09:32:52.311Z"
   },
   {
    "duration": 65,
    "start_time": "2025-06-07T09:32:52.566Z"
   },
   {
    "duration": 283,
    "start_time": "2025-06-07T09:32:52.633Z"
   },
   {
    "duration": 3,
    "start_time": "2025-06-07T09:32:52.918Z"
   },
   {
    "duration": 307,
    "start_time": "2025-06-07T09:32:52.923Z"
   },
   {
    "duration": 114,
    "start_time": "2025-06-07T09:32:53.232Z"
   },
   {
    "duration": 177,
    "start_time": "2025-06-07T09:32:53.348Z"
   },
   {
    "duration": 112,
    "start_time": "2025-06-07T09:32:53.526Z"
   },
   {
    "duration": 5227,
    "start_time": "2025-06-07T09:32:53.640Z"
   },
   {
    "duration": 48,
    "start_time": "2025-06-07T09:32:58.868Z"
   },
   {
    "duration": 5,
    "start_time": "2025-06-07T09:32:58.917Z"
   },
   {
    "duration": 107,
    "start_time": "2025-06-07T09:32:58.923Z"
   },
   {
    "duration": 12,
    "start_time": "2025-06-07T09:32:59.031Z"
   },
   {
    "duration": 193,
    "start_time": "2025-06-07T09:32:59.045Z"
   },
   {
    "duration": 34,
    "start_time": "2025-06-07T09:32:59.239Z"
   },
   {
    "duration": 186,
    "start_time": "2025-06-07T09:32:59.274Z"
   },
   {
    "duration": 390,
    "start_time": "2025-06-07T09:32:59.462Z"
   },
   {
    "duration": 59,
    "start_time": "2025-06-07T09:32:59.853Z"
   },
   {
    "duration": 246,
    "start_time": "2025-06-07T09:32:59.914Z"
   },
   {
    "duration": 252,
    "start_time": "2025-06-07T09:33:00.162Z"
   },
   {
    "duration": 219,
    "start_time": "2025-06-07T09:33:00.416Z"
   },
   {
    "duration": 0,
    "start_time": "2025-06-07T09:33:00.637Z"
   },
   {
    "duration": 0,
    "start_time": "2025-06-07T09:33:00.638Z"
   },
   {
    "duration": 0,
    "start_time": "2025-06-07T09:33:00.639Z"
   },
   {
    "duration": 0,
    "start_time": "2025-06-07T09:33:00.640Z"
   },
   {
    "duration": 0,
    "start_time": "2025-06-07T09:33:00.641Z"
   },
   {
    "duration": 0,
    "start_time": "2025-06-07T09:33:00.658Z"
   },
   {
    "duration": 0,
    "start_time": "2025-06-07T09:33:00.659Z"
   },
   {
    "duration": 0,
    "start_time": "2025-06-07T09:33:00.660Z"
   },
   {
    "duration": 0,
    "start_time": "2025-06-07T09:33:00.662Z"
   },
   {
    "duration": 0,
    "start_time": "2025-06-07T09:33:00.663Z"
   },
   {
    "duration": 0,
    "start_time": "2025-06-07T09:33:00.664Z"
   },
   {
    "duration": 0,
    "start_time": "2025-06-07T09:33:00.664Z"
   },
   {
    "duration": 0,
    "start_time": "2025-06-07T09:33:00.666Z"
   },
   {
    "duration": 0,
    "start_time": "2025-06-07T09:33:00.666Z"
   },
   {
    "duration": 0,
    "start_time": "2025-06-07T09:33:00.667Z"
   },
   {
    "duration": 0,
    "start_time": "2025-06-07T09:33:00.668Z"
   },
   {
    "duration": 0,
    "start_time": "2025-06-07T09:33:00.669Z"
   },
   {
    "duration": 0,
    "start_time": "2025-06-07T09:33:00.670Z"
   },
   {
    "duration": 0,
    "start_time": "2025-06-07T09:33:00.671Z"
   },
   {
    "duration": 0,
    "start_time": "2025-06-07T09:33:00.672Z"
   },
   {
    "duration": 0,
    "start_time": "2025-06-07T09:33:00.674Z"
   },
   {
    "duration": 65,
    "start_time": "2025-06-07T10:04:59.003Z"
   },
   {
    "duration": 4,
    "start_time": "2025-06-07T10:04:59.145Z"
   },
   {
    "duration": 9,
    "start_time": "2025-06-07T10:04:59.298Z"
   },
   {
    "duration": 273,
    "start_time": "2025-06-07T10:04:59.454Z"
   },
   {
    "duration": 207,
    "start_time": "2025-06-07T10:04:59.729Z"
   },
   {
    "duration": 201,
    "start_time": "2025-06-07T10:04:59.938Z"
   },
   {
    "duration": 212,
    "start_time": "2025-06-07T10:05:00.140Z"
   },
   {
    "duration": 217,
    "start_time": "2025-06-07T10:05:00.357Z"
   },
   {
    "duration": 46,
    "start_time": "2025-06-07T10:05:00.575Z"
   },
   {
    "duration": 9,
    "start_time": "2025-06-07T10:05:00.656Z"
   },
   {
    "duration": 213,
    "start_time": "2025-06-07T10:05:00.799Z"
   },
   {
    "duration": 244,
    "start_time": "2025-06-07T10:05:01.014Z"
   },
   {
    "duration": 55,
    "start_time": "2025-06-07T10:05:01.260Z"
   },
   {
    "duration": 10,
    "start_time": "2025-06-07T10:05:01.416Z"
   },
   {
    "duration": 5,
    "start_time": "2025-06-07T10:05:01.566Z"
   },
   {
    "duration": 208,
    "start_time": "2025-06-07T10:05:01.715Z"
   },
   {
    "duration": 314,
    "start_time": "2025-06-07T10:05:01.924Z"
   },
   {
    "duration": 212,
    "start_time": "2025-06-07T10:05:02.239Z"
   },
   {
    "duration": 101,
    "start_time": "2025-06-07T10:05:02.499Z"
   },
   {
    "duration": 43,
    "start_time": "2025-06-07T10:05:02.820Z"
   },
   {
    "duration": 12382,
    "start_time": "2025-06-07T10:05:03.129Z"
   },
   {
    "duration": 1492,
    "start_time": "2025-06-07T11:29:48.840Z"
   },
   {
    "duration": 1650,
    "start_time": "2025-06-07T11:29:51.271Z"
   },
   {
    "duration": 127,
    "start_time": "2025-06-07T11:29:53.751Z"
   },
   {
    "duration": 1349,
    "start_time": "2025-06-07T11:33:18.536Z"
   },
   {
    "duration": 1396,
    "start_time": "2025-06-07T11:33:19.887Z"
   },
   {
    "duration": 121,
    "start_time": "2025-06-07T11:33:21.285Z"
   },
   {
    "duration": 171,
    "start_time": "2025-06-07T11:33:21.409Z"
   },
   {
    "duration": 9,
    "start_time": "2025-06-07T11:33:21.582Z"
   },
   {
    "duration": 95,
    "start_time": "2025-06-07T11:33:21.592Z"
   },
   {
    "duration": 19,
    "start_time": "2025-06-07T11:33:21.689Z"
   },
   {
    "duration": 316,
    "start_time": "2025-06-07T11:33:21.710Z"
   },
   {
    "duration": 20,
    "start_time": "2025-06-07T11:33:22.028Z"
   },
   {
    "duration": 13,
    "start_time": "2025-06-07T11:33:22.062Z"
   },
   {
    "duration": 32,
    "start_time": "2025-06-07T11:33:22.077Z"
   },
   {
    "duration": 11,
    "start_time": "2025-06-07T11:33:22.111Z"
   },
   {
    "duration": 25,
    "start_time": "2025-06-07T11:33:22.124Z"
   },
   {
    "duration": 13,
    "start_time": "2025-06-07T11:33:22.150Z"
   },
   {
    "duration": 27,
    "start_time": "2025-06-07T11:33:22.165Z"
   },
   {
    "duration": 42,
    "start_time": "2025-06-07T11:33:22.194Z"
   },
   {
    "duration": 43,
    "start_time": "2025-06-07T11:33:22.238Z"
   },
   {
    "duration": 26,
    "start_time": "2025-06-07T11:33:22.283Z"
   },
   {
    "duration": 7,
    "start_time": "2025-06-07T11:33:22.310Z"
   },
   {
    "duration": 10,
    "start_time": "2025-06-07T11:33:22.319Z"
   },
   {
    "duration": 4,
    "start_time": "2025-06-07T11:33:22.330Z"
   },
   {
    "duration": 74,
    "start_time": "2025-06-07T11:33:22.360Z"
   },
   {
    "duration": 37,
    "start_time": "2025-06-07T11:33:22.436Z"
   },
   {
    "duration": 628,
    "start_time": "2025-06-07T11:33:22.475Z"
   },
   {
    "duration": 317,
    "start_time": "2025-06-07T11:33:23.105Z"
   },
   {
    "duration": 85,
    "start_time": "2025-06-07T11:33:23.423Z"
   },
   {
    "duration": 312,
    "start_time": "2025-06-07T11:33:23.510Z"
   },
   {
    "duration": 19,
    "start_time": "2025-06-07T11:33:23.826Z"
   },
   {
    "duration": 534,
    "start_time": "2025-06-07T11:33:23.861Z"
   },
   {
    "duration": 298,
    "start_time": "2025-06-07T11:33:24.397Z"
   },
   {
    "duration": 100,
    "start_time": "2025-06-07T11:33:24.697Z"
   },
   {
    "duration": 318,
    "start_time": "2025-06-07T11:33:24.798Z"
   },
   {
    "duration": 4,
    "start_time": "2025-06-07T11:33:25.118Z"
   },
   {
    "duration": 330,
    "start_time": "2025-06-07T11:33:25.123Z"
   },
   {
    "duration": 134,
    "start_time": "2025-06-07T11:33:25.455Z"
   },
   {
    "duration": 211,
    "start_time": "2025-06-07T11:33:25.591Z"
   },
   {
    "duration": 118,
    "start_time": "2025-06-07T11:33:25.804Z"
   },
   {
    "duration": 5995,
    "start_time": "2025-06-07T11:33:25.924Z"
   },
   {
    "duration": 74,
    "start_time": "2025-06-07T11:33:31.921Z"
   },
   {
    "duration": 6,
    "start_time": "2025-06-07T11:33:31.997Z"
   },
   {
    "duration": 39,
    "start_time": "2025-06-07T11:33:32.005Z"
   },
   {
    "duration": 24,
    "start_time": "2025-06-07T11:33:32.046Z"
   },
   {
    "duration": 225,
    "start_time": "2025-06-07T11:33:32.073Z"
   },
   {
    "duration": 210,
    "start_time": "2025-06-07T11:33:32.300Z"
   },
   {
    "duration": 483,
    "start_time": "2025-06-07T11:33:32.512Z"
   },
   {
    "duration": 85,
    "start_time": "2025-06-07T11:33:32.997Z"
   },
   {
    "duration": 254,
    "start_time": "2025-06-07T11:33:33.084Z"
   },
   {
    "duration": 279,
    "start_time": "2025-06-07T11:33:33.339Z"
   },
   {
    "duration": 240,
    "start_time": "2025-06-07T11:33:33.620Z"
   },
   {
    "duration": 0,
    "start_time": "2025-06-07T11:33:33.862Z"
   },
   {
    "duration": 0,
    "start_time": "2025-06-07T11:33:33.864Z"
   },
   {
    "duration": 0,
    "start_time": "2025-06-07T11:33:33.865Z"
   },
   {
    "duration": 0,
    "start_time": "2025-06-07T11:33:33.867Z"
   },
   {
    "duration": 0,
    "start_time": "2025-06-07T11:33:33.868Z"
   },
   {
    "duration": 0,
    "start_time": "2025-06-07T11:33:33.869Z"
   },
   {
    "duration": 0,
    "start_time": "2025-06-07T11:33:33.871Z"
   },
   {
    "duration": 0,
    "start_time": "2025-06-07T11:33:33.872Z"
   },
   {
    "duration": 0,
    "start_time": "2025-06-07T11:33:33.874Z"
   },
   {
    "duration": 0,
    "start_time": "2025-06-07T11:33:33.875Z"
   },
   {
    "duration": 0,
    "start_time": "2025-06-07T11:33:33.876Z"
   },
   {
    "duration": 0,
    "start_time": "2025-06-07T11:33:33.877Z"
   },
   {
    "duration": 0,
    "start_time": "2025-06-07T11:33:33.879Z"
   },
   {
    "duration": 0,
    "start_time": "2025-06-07T11:33:33.880Z"
   },
   {
    "duration": 0,
    "start_time": "2025-06-07T11:33:33.881Z"
   },
   {
    "duration": 0,
    "start_time": "2025-06-07T11:33:33.882Z"
   },
   {
    "duration": 0,
    "start_time": "2025-06-07T11:33:33.883Z"
   },
   {
    "duration": 0,
    "start_time": "2025-06-07T11:33:33.885Z"
   },
   {
    "duration": 0,
    "start_time": "2025-06-07T11:33:33.886Z"
   },
   {
    "duration": 0,
    "start_time": "2025-06-07T11:33:33.887Z"
   },
   {
    "duration": 0,
    "start_time": "2025-06-07T11:33:33.888Z"
   },
   {
    "duration": 24,
    "start_time": "2025-06-07T11:42:35.831Z"
   },
   {
    "duration": 25,
    "start_time": "2025-06-07T11:42:40.946Z"
   },
   {
    "duration": 37,
    "start_time": "2025-06-07T11:42:49.005Z"
   },
   {
    "duration": 28,
    "start_time": "2025-06-07T11:42:49.419Z"
   },
   {
    "duration": 6,
    "start_time": "2025-06-07T11:43:00.828Z"
   },
   {
    "duration": 6,
    "start_time": "2025-06-07T11:43:07.135Z"
   },
   {
    "duration": 4,
    "start_time": "2025-06-07T11:43:13.960Z"
   },
   {
    "duration": 524,
    "start_time": "2025-06-07T11:55:04.960Z"
   },
   {
    "duration": 542,
    "start_time": "2025-06-07T11:55:14.321Z"
   },
   {
    "duration": 689,
    "start_time": "2025-06-07T11:56:26.477Z"
   },
   {
    "duration": 608,
    "start_time": "2025-06-07T11:57:24.269Z"
   },
   {
    "duration": 211,
    "start_time": "2025-06-07T12:05:27.935Z"
   },
   {
    "duration": 61,
    "start_time": "2025-06-07T12:09:58.644Z"
   },
   {
    "duration": 59,
    "start_time": "2025-06-07T12:10:08.823Z"
   },
   {
    "duration": 92,
    "start_time": "2025-06-07T12:10:55.872Z"
   },
   {
    "duration": 77,
    "start_time": "2025-06-07T12:12:16.789Z"
   },
   {
    "duration": 62,
    "start_time": "2025-06-07T12:12:36.154Z"
   },
   {
    "duration": 55,
    "start_time": "2025-06-07T12:12:44.589Z"
   },
   {
    "duration": 73,
    "start_time": "2025-06-07T12:12:54.266Z"
   },
   {
    "duration": 72,
    "start_time": "2025-06-07T12:15:18.827Z"
   },
   {
    "duration": 104,
    "start_time": "2025-06-07T12:19:46.911Z"
   },
   {
    "duration": 90,
    "start_time": "2025-06-07T12:26:17.124Z"
   },
   {
    "duration": 66,
    "start_time": "2025-06-07T12:26:19.113Z"
   },
   {
    "duration": 3,
    "start_time": "2025-06-07T12:32:48.323Z"
   },
   {
    "duration": 1301,
    "start_time": "2025-06-07T12:32:56.305Z"
   },
   {
    "duration": 1618,
    "start_time": "2025-06-07T12:32:57.608Z"
   },
   {
    "duration": 117,
    "start_time": "2025-06-07T12:32:59.228Z"
   },
   {
    "duration": 176,
    "start_time": "2025-06-07T12:32:59.347Z"
   },
   {
    "duration": 7,
    "start_time": "2025-06-07T12:32:59.526Z"
   },
   {
    "duration": 97,
    "start_time": "2025-06-07T12:32:59.535Z"
   },
   {
    "duration": 28,
    "start_time": "2025-06-07T12:32:59.634Z"
   },
   {
    "duration": 219,
    "start_time": "2025-06-07T12:32:59.664Z"
   },
   {
    "duration": 20,
    "start_time": "2025-06-07T12:32:59.885Z"
   },
   {
    "duration": 12,
    "start_time": "2025-06-07T12:32:59.907Z"
   },
   {
    "duration": 40,
    "start_time": "2025-06-07T12:32:59.921Z"
   },
   {
    "duration": 11,
    "start_time": "2025-06-07T12:32:59.963Z"
   },
   {
    "duration": 14,
    "start_time": "2025-06-07T12:32:59.976Z"
   },
   {
    "duration": 39,
    "start_time": "2025-06-07T12:32:59.994Z"
   },
   {
    "duration": 62,
    "start_time": "2025-06-07T12:33:00.035Z"
   },
   {
    "duration": 33,
    "start_time": "2025-06-07T12:33:00.099Z"
   },
   {
    "duration": 29,
    "start_time": "2025-06-07T12:33:00.133Z"
   },
   {
    "duration": 40,
    "start_time": "2025-06-07T12:33:00.163Z"
   },
   {
    "duration": 16,
    "start_time": "2025-06-07T12:33:00.205Z"
   },
   {
    "duration": 11,
    "start_time": "2025-06-07T12:33:00.223Z"
   },
   {
    "duration": 11,
    "start_time": "2025-06-07T12:33:00.236Z"
   },
   {
    "duration": 126,
    "start_time": "2025-06-07T12:33:00.250Z"
   },
   {
    "duration": 25,
    "start_time": "2025-06-07T12:33:00.378Z"
   },
   {
    "duration": 567,
    "start_time": "2025-06-07T12:33:00.406Z"
   },
   {
    "duration": 297,
    "start_time": "2025-06-07T12:33:00.976Z"
   },
   {
    "duration": 85,
    "start_time": "2025-06-07T12:33:01.276Z"
   },
   {
    "duration": 315,
    "start_time": "2025-06-07T12:33:01.363Z"
   },
   {
    "duration": 19,
    "start_time": "2025-06-07T12:33:01.680Z"
   },
   {
    "duration": 496,
    "start_time": "2025-06-07T12:33:01.701Z"
   },
   {
    "duration": 280,
    "start_time": "2025-06-07T12:33:02.199Z"
   },
   {
    "duration": 81,
    "start_time": "2025-06-07T12:33:02.480Z"
   },
   {
    "duration": 322,
    "start_time": "2025-06-07T12:33:02.563Z"
   },
   {
    "duration": 4,
    "start_time": "2025-06-07T12:33:02.887Z"
   },
   {
    "duration": 279,
    "start_time": "2025-06-07T12:33:02.893Z"
   },
   {
    "duration": 114,
    "start_time": "2025-06-07T12:33:03.174Z"
   },
   {
    "duration": 109,
    "start_time": "2025-06-07T12:33:03.290Z"
   },
   {
    "duration": 110,
    "start_time": "2025-06-07T12:33:03.401Z"
   },
   {
    "duration": 162,
    "start_time": "2025-06-07T12:33:03.513Z"
   },
   {
    "duration": 130,
    "start_time": "2025-06-07T12:33:03.676Z"
   },
   {
    "duration": 69,
    "start_time": "2025-06-07T12:33:03.807Z"
   },
   {
    "duration": 0,
    "start_time": "2025-06-07T12:33:03.878Z"
   },
   {
    "duration": 0,
    "start_time": "2025-06-07T12:33:03.880Z"
   },
   {
    "duration": 0,
    "start_time": "2025-06-07T12:33:03.882Z"
   },
   {
    "duration": 0,
    "start_time": "2025-06-07T12:33:03.883Z"
   },
   {
    "duration": 0,
    "start_time": "2025-06-07T12:33:03.884Z"
   },
   {
    "duration": 0,
    "start_time": "2025-06-07T12:33:03.885Z"
   },
   {
    "duration": 0,
    "start_time": "2025-06-07T12:33:03.887Z"
   },
   {
    "duration": 0,
    "start_time": "2025-06-07T12:33:03.888Z"
   },
   {
    "duration": 0,
    "start_time": "2025-06-07T12:33:03.889Z"
   },
   {
    "duration": 0,
    "start_time": "2025-06-07T12:33:03.890Z"
   },
   {
    "duration": 0,
    "start_time": "2025-06-07T12:33:03.892Z"
   },
   {
    "duration": 0,
    "start_time": "2025-06-07T12:33:03.893Z"
   },
   {
    "duration": 0,
    "start_time": "2025-06-07T12:33:03.894Z"
   },
   {
    "duration": 0,
    "start_time": "2025-06-07T12:33:03.895Z"
   },
   {
    "duration": 0,
    "start_time": "2025-06-07T12:33:03.896Z"
   },
   {
    "duration": 0,
    "start_time": "2025-06-07T12:33:03.897Z"
   },
   {
    "duration": 0,
    "start_time": "2025-06-07T12:33:03.898Z"
   },
   {
    "duration": 0,
    "start_time": "2025-06-07T12:33:03.899Z"
   },
   {
    "duration": 0,
    "start_time": "2025-06-07T12:33:03.901Z"
   },
   {
    "duration": 0,
    "start_time": "2025-06-07T12:33:03.902Z"
   },
   {
    "duration": 0,
    "start_time": "2025-06-07T12:33:03.903Z"
   },
   {
    "duration": 0,
    "start_time": "2025-06-07T12:33:03.904Z"
   },
   {
    "duration": 0,
    "start_time": "2025-06-07T12:33:03.905Z"
   },
   {
    "duration": 0,
    "start_time": "2025-06-07T12:33:03.906Z"
   },
   {
    "duration": 0,
    "start_time": "2025-06-07T12:33:03.908Z"
   },
   {
    "duration": 0,
    "start_time": "2025-06-07T12:33:03.909Z"
   },
   {
    "duration": 0,
    "start_time": "2025-06-07T12:33:03.910Z"
   },
   {
    "duration": 0,
    "start_time": "2025-06-07T12:33:03.911Z"
   },
   {
    "duration": 0,
    "start_time": "2025-06-07T12:33:03.961Z"
   },
   {
    "duration": 0,
    "start_time": "2025-06-07T12:33:03.962Z"
   },
   {
    "duration": 0,
    "start_time": "2025-06-07T12:33:03.964Z"
   },
   {
    "duration": 0,
    "start_time": "2025-06-07T12:33:03.965Z"
   },
   {
    "duration": 23,
    "start_time": "2025-06-07T12:33:33.690Z"
   },
   {
    "duration": 156,
    "start_time": "2025-06-07T12:33:37.942Z"
   },
   {
    "duration": 6,
    "start_time": "2025-06-07T12:34:03.778Z"
   },
   {
    "duration": 26,
    "start_time": "2025-06-07T12:34:05.322Z"
   },
   {
    "duration": 14,
    "start_time": "2025-06-07T12:34:06.657Z"
   },
   {
    "duration": 177,
    "start_time": "2025-06-07T12:34:10.923Z"
   },
   {
    "duration": 66,
    "start_time": "2025-06-07T12:37:59.059Z"
   },
   {
    "duration": 78,
    "start_time": "2025-06-07T12:38:37.620Z"
   },
   {
    "duration": 1247,
    "start_time": "2025-06-07T12:39:04.884Z"
   },
   {
    "duration": 1588,
    "start_time": "2025-06-07T12:39:06.742Z"
   },
   {
    "duration": 114,
    "start_time": "2025-06-07T12:39:08.332Z"
   },
   {
    "duration": 178,
    "start_time": "2025-06-07T12:39:08.448Z"
   },
   {
    "duration": 7,
    "start_time": "2025-06-07T12:39:08.628Z"
   },
   {
    "duration": 96,
    "start_time": "2025-06-07T12:39:08.637Z"
   },
   {
    "duration": 28,
    "start_time": "2025-06-07T12:39:08.735Z"
   },
   {
    "duration": 283,
    "start_time": "2025-06-07T12:39:08.765Z"
   },
   {
    "duration": 32,
    "start_time": "2025-06-07T12:39:09.050Z"
   },
   {
    "duration": 13,
    "start_time": "2025-06-07T12:39:09.084Z"
   },
   {
    "duration": 28,
    "start_time": "2025-06-07T12:39:09.099Z"
   },
   {
    "duration": 11,
    "start_time": "2025-06-07T12:39:09.129Z"
   },
   {
    "duration": 32,
    "start_time": "2025-06-07T12:39:09.142Z"
   },
   {
    "duration": 8,
    "start_time": "2025-06-07T12:39:09.175Z"
   },
   {
    "duration": 24,
    "start_time": "2025-06-07T12:39:10.080Z"
   },
   {
    "duration": 24,
    "start_time": "2025-06-07T12:39:11.375Z"
   },
   {
    "duration": 25,
    "start_time": "2025-06-07T12:39:11.552Z"
   },
   {
    "duration": 26,
    "start_time": "2025-06-07T12:39:11.741Z"
   },
   {
    "duration": 6,
    "start_time": "2025-06-07T12:39:14.218Z"
   },
   {
    "duration": 5,
    "start_time": "2025-06-07T12:39:14.401Z"
   },
   {
    "duration": 4,
    "start_time": "2025-06-07T12:39:15.618Z"
   },
   {
    "duration": 104,
    "start_time": "2025-06-07T12:39:18.311Z"
   },
   {
    "duration": 25,
    "start_time": "2025-06-07T12:39:19.753Z"
   },
   {
    "duration": 556,
    "start_time": "2025-06-07T12:39:22.573Z"
   },
   {
    "duration": 278,
    "start_time": "2025-06-07T12:39:23.451Z"
   },
   {
    "duration": 79,
    "start_time": "2025-06-07T12:39:25.257Z"
   },
   {
    "duration": 273,
    "start_time": "2025-06-07T12:39:27.283Z"
   },
   {
    "duration": 19,
    "start_time": "2025-06-07T12:39:30.123Z"
   },
   {
    "duration": 479,
    "start_time": "2025-06-07T12:39:31.600Z"
   },
   {
    "duration": 271,
    "start_time": "2025-06-07T12:39:33.545Z"
   },
   {
    "duration": 88,
    "start_time": "2025-06-07T12:39:34.737Z"
   },
   {
    "duration": 296,
    "start_time": "2025-06-07T12:39:35.227Z"
   },
   {
    "duration": 3,
    "start_time": "2025-06-07T12:39:35.525Z"
   },
   {
    "duration": 263,
    "start_time": "2025-06-07T12:39:36.382Z"
   },
   {
    "duration": 245,
    "start_time": "2025-06-07T12:39:49.590Z"
   },
   {
    "duration": 81,
    "start_time": "2025-06-07T12:40:02.022Z"
   },
   {
    "duration": 103,
    "start_time": "2025-06-07T12:40:23.412Z"
   },
   {
    "duration": 157,
    "start_time": "2025-06-07T12:40:26.049Z"
   },
   {
    "duration": 95,
    "start_time": "2025-06-07T12:41:11.293Z"
   },
   {
    "duration": 104,
    "start_time": "2025-06-07T12:41:12.111Z"
   },
   {
    "duration": 80,
    "start_time": "2025-06-07T12:41:45.388Z"
   },
   {
    "duration": 1281,
    "start_time": "2025-06-07T12:43:00.669Z"
   },
   {
    "duration": 1530,
    "start_time": "2025-06-07T12:43:01.952Z"
   },
   {
    "duration": 118,
    "start_time": "2025-06-07T12:43:03.484Z"
   },
   {
    "duration": 177,
    "start_time": "2025-06-07T12:43:03.605Z"
   },
   {
    "duration": 8,
    "start_time": "2025-06-07T12:43:03.784Z"
   },
   {
    "duration": 99,
    "start_time": "2025-06-07T12:43:03.794Z"
   },
   {
    "duration": 20,
    "start_time": "2025-06-07T12:43:03.895Z"
   },
   {
    "duration": 293,
    "start_time": "2025-06-07T12:43:03.917Z"
   },
   {
    "duration": 20,
    "start_time": "2025-06-07T12:43:04.212Z"
   },
   {
    "duration": 27,
    "start_time": "2025-06-07T12:43:04.235Z"
   },
   {
    "duration": 28,
    "start_time": "2025-06-07T12:43:04.263Z"
   },
   {
    "duration": 11,
    "start_time": "2025-06-07T12:43:04.293Z"
   },
   {
    "duration": 17,
    "start_time": "2025-06-07T12:43:04.306Z"
   },
   {
    "duration": 7,
    "start_time": "2025-06-07T12:43:04.325Z"
   },
   {
    "duration": 36,
    "start_time": "2025-06-07T12:43:04.334Z"
   },
   {
    "duration": 25,
    "start_time": "2025-06-07T12:43:04.372Z"
   },
   {
    "duration": 49,
    "start_time": "2025-06-07T12:43:04.398Z"
   },
   {
    "duration": 60,
    "start_time": "2025-06-07T12:43:04.449Z"
   },
   {
    "duration": 109,
    "start_time": "2025-06-07T12:43:04.511Z"
   },
   {
    "duration": 22,
    "start_time": "2025-06-07T12:43:04.622Z"
   },
   {
    "duration": 80,
    "start_time": "2025-06-07T12:43:04.645Z"
   },
   {
    "duration": 116,
    "start_time": "2025-06-07T12:43:04.727Z"
   },
   {
    "duration": 23,
    "start_time": "2025-06-07T12:43:04.845Z"
   },
   {
    "duration": 561,
    "start_time": "2025-06-07T12:43:04.870Z"
   },
   {
    "duration": 311,
    "start_time": "2025-06-07T12:43:05.433Z"
   },
   {
    "duration": 91,
    "start_time": "2025-06-07T12:43:05.747Z"
   },
   {
    "duration": 294,
    "start_time": "2025-06-07T12:43:05.840Z"
   },
   {
    "duration": 28,
    "start_time": "2025-06-07T12:43:06.138Z"
   },
   {
    "duration": 513,
    "start_time": "2025-06-07T12:43:06.167Z"
   },
   {
    "duration": 278,
    "start_time": "2025-06-07T12:43:06.682Z"
   },
   {
    "duration": 73,
    "start_time": "2025-06-07T12:43:06.962Z"
   },
   {
    "duration": 326,
    "start_time": "2025-06-07T12:43:07.037Z"
   },
   {
    "duration": 5,
    "start_time": "2025-06-07T12:43:07.365Z"
   },
   {
    "duration": 355,
    "start_time": "2025-06-07T12:43:07.372Z"
   },
   {
    "duration": 120,
    "start_time": "2025-06-07T12:43:07.729Z"
   },
   {
    "duration": 164,
    "start_time": "2025-06-07T12:43:07.851Z"
   },
   {
    "duration": 138,
    "start_time": "2025-06-07T12:43:08.017Z"
   },
   {
    "duration": 183,
    "start_time": "2025-06-07T12:43:08.159Z"
   },
   {
    "duration": 85,
    "start_time": "2025-06-07T12:43:08.344Z"
   },
   {
    "duration": 187,
    "start_time": "2025-06-07T12:43:08.431Z"
   },
   {
    "duration": 25,
    "start_time": "2025-06-07T12:43:08.620Z"
   },
   {
    "duration": 39,
    "start_time": "2025-06-07T12:43:08.646Z"
   },
   {
    "duration": 201,
    "start_time": "2025-06-07T12:43:08.687Z"
   },
   {
    "duration": 6,
    "start_time": "2025-06-07T12:43:08.890Z"
   },
   {
    "duration": 31,
    "start_time": "2025-06-07T12:43:08.898Z"
   },
   {
    "duration": 42,
    "start_time": "2025-06-07T12:43:08.931Z"
   },
   {
    "duration": 248,
    "start_time": "2025-06-07T12:43:08.975Z"
   },
   {
    "duration": 206,
    "start_time": "2025-06-07T12:43:09.225Z"
   },
   {
    "duration": 449,
    "start_time": "2025-06-07T12:43:09.433Z"
   },
   {
    "duration": 77,
    "start_time": "2025-06-07T12:43:09.884Z"
   },
   {
    "duration": 236,
    "start_time": "2025-06-07T12:43:09.963Z"
   },
   {
    "duration": 254,
    "start_time": "2025-06-07T12:43:10.201Z"
   },
   {
    "duration": 226,
    "start_time": "2025-06-07T12:43:10.459Z"
   },
   {
    "duration": 0,
    "start_time": "2025-06-07T12:43:10.687Z"
   },
   {
    "duration": 0,
    "start_time": "2025-06-07T12:43:10.688Z"
   },
   {
    "duration": 0,
    "start_time": "2025-06-07T12:43:10.690Z"
   },
   {
    "duration": 0,
    "start_time": "2025-06-07T12:43:10.691Z"
   },
   {
    "duration": 0,
    "start_time": "2025-06-07T12:43:10.692Z"
   },
   {
    "duration": 0,
    "start_time": "2025-06-07T12:43:10.693Z"
   },
   {
    "duration": 0,
    "start_time": "2025-06-07T12:43:10.694Z"
   },
   {
    "duration": 0,
    "start_time": "2025-06-07T12:43:10.696Z"
   },
   {
    "duration": 0,
    "start_time": "2025-06-07T12:43:10.697Z"
   },
   {
    "duration": 0,
    "start_time": "2025-06-07T12:43:10.697Z"
   },
   {
    "duration": 0,
    "start_time": "2025-06-07T12:43:10.699Z"
   },
   {
    "duration": 0,
    "start_time": "2025-06-07T12:43:10.700Z"
   },
   {
    "duration": 0,
    "start_time": "2025-06-07T12:43:10.701Z"
   },
   {
    "duration": 0,
    "start_time": "2025-06-07T12:43:10.702Z"
   },
   {
    "duration": 0,
    "start_time": "2025-06-07T12:43:10.704Z"
   },
   {
    "duration": 0,
    "start_time": "2025-06-07T12:43:10.705Z"
   },
   {
    "duration": 0,
    "start_time": "2025-06-07T12:43:10.706Z"
   },
   {
    "duration": 0,
    "start_time": "2025-06-07T12:43:10.707Z"
   },
   {
    "duration": 0,
    "start_time": "2025-06-07T12:43:10.708Z"
   },
   {
    "duration": 0,
    "start_time": "2025-06-07T12:43:10.709Z"
   },
   {
    "duration": 0,
    "start_time": "2025-06-07T12:43:10.710Z"
   },
   {
    "duration": 5,
    "start_time": "2025-06-07T12:47:39.760Z"
   },
   {
    "duration": 5,
    "start_time": "2025-06-07T12:48:13.858Z"
   },
   {
    "duration": 5,
    "start_time": "2025-06-07T12:48:38.144Z"
   },
   {
    "duration": 69,
    "start_time": "2025-06-07T12:50:28.099Z"
   },
   {
    "duration": 90,
    "start_time": "2025-06-07T12:50:50.122Z"
   },
   {
    "duration": 5,
    "start_time": "2025-06-07T12:51:34.016Z"
   },
   {
    "duration": 5,
    "start_time": "2025-06-07T12:52:51.126Z"
   },
   {
    "duration": 6,
    "start_time": "2025-06-07T12:52:56.206Z"
   },
   {
    "duration": 429,
    "start_time": "2025-06-07T12:59:57.718Z"
   },
   {
    "duration": 1346,
    "start_time": "2025-06-07T13:00:37.517Z"
   },
   {
    "duration": 1652,
    "start_time": "2025-06-07T13:00:38.866Z"
   },
   {
    "duration": 121,
    "start_time": "2025-06-07T13:00:40.520Z"
   },
   {
    "duration": 192,
    "start_time": "2025-06-07T13:00:40.644Z"
   },
   {
    "duration": 8,
    "start_time": "2025-06-07T13:00:40.837Z"
   },
   {
    "duration": 94,
    "start_time": "2025-06-07T13:00:40.847Z"
   },
   {
    "duration": 33,
    "start_time": "2025-06-07T13:00:40.943Z"
   },
   {
    "duration": 377,
    "start_time": "2025-06-07T13:00:40.978Z"
   },
   {
    "duration": 33,
    "start_time": "2025-06-07T13:00:41.357Z"
   },
   {
    "duration": 13,
    "start_time": "2025-06-07T13:00:41.392Z"
   },
   {
    "duration": 39,
    "start_time": "2025-06-07T13:00:41.406Z"
   },
   {
    "duration": 11,
    "start_time": "2025-06-07T13:00:41.447Z"
   },
   {
    "duration": 18,
    "start_time": "2025-06-07T13:00:41.461Z"
   },
   {
    "duration": 5,
    "start_time": "2025-06-07T13:00:41.481Z"
   },
   {
    "duration": 25,
    "start_time": "2025-06-07T13:00:41.488Z"
   },
   {
    "duration": 53,
    "start_time": "2025-06-07T13:00:41.515Z"
   },
   {
    "duration": 27,
    "start_time": "2025-06-07T13:00:41.571Z"
   },
   {
    "duration": 26,
    "start_time": "2025-06-07T13:00:41.600Z"
   },
   {
    "duration": 15,
    "start_time": "2025-06-07T13:00:41.628Z"
   },
   {
    "duration": 15,
    "start_time": "2025-06-07T13:00:41.661Z"
   },
   {
    "duration": 12,
    "start_time": "2025-06-07T13:00:41.678Z"
   },
   {
    "duration": 135,
    "start_time": "2025-06-07T13:00:41.692Z"
   },
   {
    "duration": 33,
    "start_time": "2025-06-07T13:00:41.829Z"
   },
   {
    "duration": 622,
    "start_time": "2025-06-07T13:00:41.865Z"
   },
   {
    "duration": 309,
    "start_time": "2025-06-07T13:00:42.489Z"
   },
   {
    "duration": 84,
    "start_time": "2025-06-07T13:00:42.800Z"
   },
   {
    "duration": 323,
    "start_time": "2025-06-07T13:00:42.886Z"
   },
   {
    "duration": 19,
    "start_time": "2025-06-07T13:00:43.213Z"
   },
   {
    "duration": 522,
    "start_time": "2025-06-07T13:00:43.234Z"
   },
   {
    "duration": 324,
    "start_time": "2025-06-07T13:00:43.757Z"
   },
   {
    "duration": 74,
    "start_time": "2025-06-07T13:00:44.083Z"
   },
   {
    "duration": 320,
    "start_time": "2025-06-07T13:00:44.159Z"
   },
   {
    "duration": 4,
    "start_time": "2025-06-07T13:00:44.481Z"
   },
   {
    "duration": 300,
    "start_time": "2025-06-07T13:00:44.486Z"
   },
   {
    "duration": 120,
    "start_time": "2025-06-07T13:00:44.788Z"
   },
   {
    "duration": 179,
    "start_time": "2025-06-07T13:00:44.911Z"
   },
   {
    "duration": 155,
    "start_time": "2025-06-07T13:00:45.093Z"
   },
   {
    "duration": 182,
    "start_time": "2025-06-07T13:00:45.249Z"
   },
   {
    "duration": 91,
    "start_time": "2025-06-07T13:00:45.433Z"
   },
   {
    "duration": 234,
    "start_time": "2025-06-07T13:00:45.527Z"
   },
   {
    "duration": 44,
    "start_time": "2025-06-07T13:00:45.766Z"
   },
   {
    "duration": 62,
    "start_time": "2025-06-07T13:00:45.812Z"
   },
   {
    "duration": 221,
    "start_time": "2025-06-07T13:00:45.876Z"
   },
   {
    "duration": 7,
    "start_time": "2025-06-07T13:00:46.098Z"
   },
   {
    "duration": 30,
    "start_time": "2025-06-07T13:00:46.106Z"
   },
   {
    "duration": 42,
    "start_time": "2025-06-07T13:00:46.138Z"
   },
   {
    "duration": 239,
    "start_time": "2025-06-07T13:00:46.181Z"
   },
   {
    "duration": 4,
    "start_time": "2025-06-07T13:00:46.422Z"
   },
   {
    "duration": 222,
    "start_time": "2025-06-07T13:00:46.427Z"
   },
   {
    "duration": 510,
    "start_time": "2025-06-07T13:00:46.651Z"
   },
   {
    "duration": 74,
    "start_time": "2025-06-07T13:00:47.164Z"
   },
   {
    "duration": 281,
    "start_time": "2025-06-07T13:00:47.240Z"
   },
   {
    "duration": 279,
    "start_time": "2025-06-07T13:00:47.523Z"
   },
   {
    "duration": 440,
    "start_time": "2025-06-07T13:00:47.804Z"
   },
   {
    "duration": 81,
    "start_time": "2025-06-07T13:00:48.246Z"
   },
   {
    "duration": 5,
    "start_time": "2025-06-07T13:00:48.329Z"
   },
   {
    "duration": 41,
    "start_time": "2025-06-07T13:00:48.336Z"
   },
   {
    "duration": 344,
    "start_time": "2025-06-07T13:00:48.379Z"
   },
   {
    "duration": 250,
    "start_time": "2025-06-07T13:00:48.725Z"
   },
   {
    "duration": 240,
    "start_time": "2025-06-07T13:00:48.978Z"
   },
   {
    "duration": 243,
    "start_time": "2025-06-07T13:00:49.220Z"
   },
   {
    "duration": 252,
    "start_time": "2025-06-07T13:00:49.465Z"
   },
   {
    "duration": 74,
    "start_time": "2025-06-07T13:00:49.719Z"
   },
   {
    "duration": 10,
    "start_time": "2025-06-07T13:00:49.795Z"
   },
   {
    "duration": 365,
    "start_time": "2025-06-07T13:00:49.807Z"
   },
   {
    "duration": 272,
    "start_time": "2025-06-07T13:00:50.176Z"
   },
   {
    "duration": 69,
    "start_time": "2025-06-07T13:00:50.451Z"
   },
   {
    "duration": 11,
    "start_time": "2025-06-07T13:00:50.521Z"
   },
   {
    "duration": 11,
    "start_time": "2025-06-07T13:00:50.533Z"
   },
   {
    "duration": 337,
    "start_time": "2025-06-07T13:00:50.560Z"
   },
   {
    "duration": 247,
    "start_time": "2025-06-07T13:00:50.898Z"
   },
   {
    "duration": 257,
    "start_time": "2025-06-07T13:00:51.147Z"
   },
   {
    "duration": 130,
    "start_time": "2025-06-07T13:00:51.406Z"
   },
   {
    "duration": 68,
    "start_time": "2025-06-07T13:00:51.538Z"
   },
   {
    "duration": 14535,
    "start_time": "2025-06-07T13:00:51.609Z"
   },
   {
    "duration": 235,
    "start_time": "2025-06-07T13:04:54.701Z"
   },
   {
    "duration": 237,
    "start_time": "2025-06-07T13:05:23.652Z"
   },
   {
    "duration": 236,
    "start_time": "2025-06-07T13:05:43.260Z"
   },
   {
    "duration": 362,
    "start_time": "2025-06-07T13:06:24.050Z"
   },
   {
    "duration": 212,
    "start_time": "2025-06-07T13:07:03.876Z"
   },
   {
    "duration": 210,
    "start_time": "2025-06-07T13:07:18.072Z"
   },
   {
    "duration": 216,
    "start_time": "2025-06-07T13:07:41.438Z"
   },
   {
    "duration": 47,
    "start_time": "2025-06-07T13:24:29.287Z"
   },
   {
    "duration": 113,
    "start_time": "2025-06-07T13:24:30.841Z"
   },
   {
    "duration": 3,
    "start_time": "2025-06-07T13:29:56.353Z"
   },
   {
    "duration": 64,
    "start_time": "2025-06-07T13:30:29.835Z"
   },
   {
    "duration": 8,
    "start_time": "2025-06-07T13:30:30.349Z"
   },
   {
    "duration": 22,
    "start_time": "2025-06-07T13:32:40.612Z"
   },
   {
    "duration": 6,
    "start_time": "2025-06-07T13:34:41.079Z"
   },
   {
    "duration": 4,
    "start_time": "2025-06-07T13:45:01.460Z"
   },
   {
    "duration": 104,
    "start_time": "2025-06-07T13:50:16.443Z"
   },
   {
    "duration": 179,
    "start_time": "2025-06-07T13:51:08.937Z"
   },
   {
    "duration": 165,
    "start_time": "2025-06-07T13:51:27.198Z"
   },
   {
    "duration": 110,
    "start_time": "2025-06-07T13:52:39.428Z"
   },
   {
    "duration": 454,
    "start_time": "2025-06-07T13:52:57.050Z"
   },
   {
    "duration": 514,
    "start_time": "2025-06-07T13:53:07.264Z"
   },
   {
    "duration": 368,
    "start_time": "2025-06-07T13:53:50.405Z"
   },
   {
    "duration": 6,
    "start_time": "2025-06-07T13:55:11.834Z"
   },
   {
    "duration": 753,
    "start_time": "2025-06-07T13:56:18.328Z"
   },
   {
    "duration": 1121,
    "start_time": "2025-06-07T13:57:38.303Z"
   },
   {
    "duration": 1219,
    "start_time": "2025-06-07T13:58:30.391Z"
   },
   {
    "duration": 1018,
    "start_time": "2025-06-07T13:58:47.873Z"
   },
   {
    "duration": 786,
    "start_time": "2025-06-07T13:59:08.445Z"
   },
   {
    "duration": 241,
    "start_time": "2025-06-07T14:00:15.687Z"
   },
   {
    "duration": 700,
    "start_time": "2025-06-07T14:00:37.786Z"
   },
   {
    "duration": 425,
    "start_time": "2025-06-07T14:01:46.225Z"
   },
   {
    "duration": 609,
    "start_time": "2025-06-07T14:02:15.427Z"
   },
   {
    "duration": 508,
    "start_time": "2025-06-07T14:02:19.015Z"
   },
   {
    "duration": 743,
    "start_time": "2025-06-07T14:02:53.561Z"
   },
   {
    "duration": 505,
    "start_time": "2025-06-07T14:02:54.306Z"
   },
   {
    "duration": 231,
    "start_time": "2025-06-07T14:05:00.040Z"
   },
   {
    "duration": 645,
    "start_time": "2025-06-07T14:06:05.308Z"
   },
   {
    "duration": 739,
    "start_time": "2025-06-07T14:06:21.425Z"
   },
   {
    "duration": 9868,
    "start_time": "2025-06-07T14:16:53.835Z"
   },
   {
    "duration": 3598,
    "start_time": "2025-06-07T14:17:03.705Z"
   },
   {
    "duration": 10,
    "start_time": "2025-06-07T14:17:39.552Z"
   },
   {
    "duration": 7,
    "start_time": "2025-06-07T14:17:44.239Z"
   },
   {
    "duration": 301,
    "start_time": "2025-06-07T14:18:49.317Z"
   },
   {
    "duration": 152,
    "start_time": "2025-06-07T14:18:57.300Z"
   },
   {
    "duration": 6,
    "start_time": "2025-06-07T14:20:59.149Z"
   },
   {
    "duration": 9847,
    "start_time": "2025-06-07T14:22:05.341Z"
   },
   {
    "duration": 3559,
    "start_time": "2025-06-07T14:22:15.190Z"
   },
   {
    "duration": 10,
    "start_time": "2025-06-07T14:22:18.751Z"
   },
   {
    "duration": 144,
    "start_time": "2025-06-07T14:23:05.128Z"
   },
   {
    "duration": 18,
    "start_time": "2025-06-07T14:23:22.677Z"
   },
   {
    "duration": 158,
    "start_time": "2025-06-07T14:23:31.933Z"
   },
   {
    "duration": 12,
    "start_time": "2025-06-07T14:26:32.256Z"
   },
   {
    "duration": 17,
    "start_time": "2025-06-07T14:27:20.511Z"
   },
   {
    "duration": 16,
    "start_time": "2025-06-07T14:28:00.886Z"
   },
   {
    "duration": 5,
    "start_time": "2025-06-07T14:30:57.828Z"
   },
   {
    "duration": 13,
    "start_time": "2025-06-07T14:37:24.825Z"
   },
   {
    "duration": 6,
    "start_time": "2025-06-07T14:39:18.220Z"
   },
   {
    "duration": 63,
    "start_time": "2025-06-07T14:39:26.662Z"
   },
   {
    "duration": 6,
    "start_time": "2025-06-07T14:39:37.615Z"
   },
   {
    "duration": 6,
    "start_time": "2025-06-07T14:39:50.452Z"
   },
   {
    "duration": 6,
    "start_time": "2025-06-07T14:40:26.136Z"
   },
   {
    "duration": 6,
    "start_time": "2025-06-07T14:41:13.604Z"
   },
   {
    "duration": 5,
    "start_time": "2025-06-07T14:42:19.073Z"
   },
   {
    "duration": 5,
    "start_time": "2025-06-07T14:43:01.120Z"
   },
   {
    "duration": 5,
    "start_time": "2025-06-07T14:43:12.319Z"
   },
   {
    "duration": 1306,
    "start_time": "2025-06-07T14:43:38.264Z"
   },
   {
    "duration": 1571,
    "start_time": "2025-06-07T14:43:39.572Z"
   },
   {
    "duration": 119,
    "start_time": "2025-06-07T14:43:41.146Z"
   },
   {
    "duration": 177,
    "start_time": "2025-06-07T14:43:41.267Z"
   },
   {
    "duration": 17,
    "start_time": "2025-06-07T14:43:41.446Z"
   },
   {
    "duration": 143,
    "start_time": "2025-06-07T14:43:41.465Z"
   },
   {
    "duration": 19,
    "start_time": "2025-06-07T14:43:41.610Z"
   },
   {
    "duration": 348,
    "start_time": "2025-06-07T14:43:41.631Z"
   },
   {
    "duration": 20,
    "start_time": "2025-06-07T14:43:41.981Z"
   },
   {
    "duration": 22,
    "start_time": "2025-06-07T14:43:42.004Z"
   },
   {
    "duration": 79,
    "start_time": "2025-06-07T14:43:42.028Z"
   },
   {
    "duration": 12,
    "start_time": "2025-06-07T14:43:42.109Z"
   },
   {
    "duration": 19,
    "start_time": "2025-06-07T14:43:42.123Z"
   },
   {
    "duration": 4,
    "start_time": "2025-06-07T14:43:42.144Z"
   },
   {
    "duration": 24,
    "start_time": "2025-06-07T14:43:42.149Z"
   },
   {
    "duration": 25,
    "start_time": "2025-06-07T14:43:42.175Z"
   },
   {
    "duration": 32,
    "start_time": "2025-06-07T14:43:42.201Z"
   },
   {
    "duration": 36,
    "start_time": "2025-06-07T14:43:42.235Z"
   },
   {
    "duration": 18,
    "start_time": "2025-06-07T14:43:42.273Z"
   },
   {
    "duration": 5,
    "start_time": "2025-06-07T14:43:42.293Z"
   },
   {
    "duration": 6,
    "start_time": "2025-06-07T14:43:42.300Z"
   },
   {
    "duration": 124,
    "start_time": "2025-06-07T14:43:42.308Z"
   },
   {
    "duration": 27,
    "start_time": "2025-06-07T14:43:42.434Z"
   },
   {
    "duration": 587,
    "start_time": "2025-06-07T14:43:42.464Z"
   },
   {
    "duration": 292,
    "start_time": "2025-06-07T14:43:43.052Z"
   },
   {
    "duration": 75,
    "start_time": "2025-06-07T14:43:43.347Z"
   },
   {
    "duration": 299,
    "start_time": "2025-06-07T14:43:43.425Z"
   },
   {
    "duration": 33,
    "start_time": "2025-06-07T14:43:43.730Z"
   },
   {
    "duration": 491,
    "start_time": "2025-06-07T14:43:43.765Z"
   },
   {
    "duration": 279,
    "start_time": "2025-06-07T14:43:44.261Z"
   },
   {
    "duration": 83,
    "start_time": "2025-06-07T14:43:44.542Z"
   },
   {
    "duration": 299,
    "start_time": "2025-06-07T14:43:44.626Z"
   },
   {
    "duration": 5,
    "start_time": "2025-06-07T14:43:44.927Z"
   },
   {
    "duration": 340,
    "start_time": "2025-06-07T14:43:44.934Z"
   },
   {
    "duration": 116,
    "start_time": "2025-06-07T14:43:45.277Z"
   },
   {
    "duration": 165,
    "start_time": "2025-06-07T14:43:45.395Z"
   },
   {
    "duration": 145,
    "start_time": "2025-06-07T14:43:45.562Z"
   },
   {
    "duration": 206,
    "start_time": "2025-06-07T14:43:45.709Z"
   },
   {
    "duration": 88,
    "start_time": "2025-06-07T14:43:45.917Z"
   },
   {
    "duration": 206,
    "start_time": "2025-06-07T14:43:46.007Z"
   },
   {
    "duration": 33,
    "start_time": "2025-06-07T14:43:46.215Z"
   },
   {
    "duration": 34,
    "start_time": "2025-06-07T14:43:46.250Z"
   },
   {
    "duration": 211,
    "start_time": "2025-06-07T14:43:46.286Z"
   },
   {
    "duration": 7,
    "start_time": "2025-06-07T14:43:46.498Z"
   },
   {
    "duration": 32,
    "start_time": "2025-06-07T14:43:46.506Z"
   },
   {
    "duration": 26,
    "start_time": "2025-06-07T14:43:46.541Z"
   },
   {
    "duration": 226,
    "start_time": "2025-06-07T14:43:46.569Z"
   },
   {
    "duration": 4,
    "start_time": "2025-06-07T14:43:46.797Z"
   },
   {
    "duration": 219,
    "start_time": "2025-06-07T14:43:46.803Z"
   },
   {
    "duration": 459,
    "start_time": "2025-06-07T14:43:47.024Z"
   },
   {
    "duration": 77,
    "start_time": "2025-06-07T14:43:47.485Z"
   },
   {
    "duration": 249,
    "start_time": "2025-06-07T14:43:47.564Z"
   },
   {
    "duration": 253,
    "start_time": "2025-06-07T14:43:47.814Z"
   },
   {
    "duration": 381,
    "start_time": "2025-06-07T14:43:48.069Z"
   },
   {
    "duration": 73,
    "start_time": "2025-06-07T14:43:48.460Z"
   },
   {
    "duration": 4,
    "start_time": "2025-06-07T14:43:48.535Z"
   },
   {
    "duration": 26,
    "start_time": "2025-06-07T14:43:48.541Z"
   },
   {
    "duration": 305,
    "start_time": "2025-06-07T14:43:48.568Z"
   },
   {
    "duration": 244,
    "start_time": "2025-06-07T14:43:48.874Z"
   },
   {
    "duration": 217,
    "start_time": "2025-06-07T14:43:49.120Z"
   },
   {
    "duration": 234,
    "start_time": "2025-06-07T14:43:49.338Z"
   },
   {
    "duration": 225,
    "start_time": "2025-06-07T14:43:49.574Z"
   },
   {
    "duration": 60,
    "start_time": "2025-06-07T14:43:49.801Z"
   },
   {
    "duration": 26,
    "start_time": "2025-06-07T14:43:49.863Z"
   },
   {
    "duration": 320,
    "start_time": "2025-06-07T14:43:49.891Z"
   },
   {
    "duration": 260,
    "start_time": "2025-06-07T14:43:50.213Z"
   },
   {
    "duration": 55,
    "start_time": "2025-06-07T14:43:50.474Z"
   },
   {
    "duration": 9,
    "start_time": "2025-06-07T14:43:50.531Z"
   },
   {
    "duration": 21,
    "start_time": "2025-06-07T14:43:50.542Z"
   },
   {
    "duration": 229,
    "start_time": "2025-06-07T14:43:50.565Z"
   },
   {
    "duration": 228,
    "start_time": "2025-06-07T14:43:50.795Z"
   },
   {
    "duration": 227,
    "start_time": "2025-06-07T14:43:51.025Z"
   },
   {
    "duration": 120,
    "start_time": "2025-06-07T14:43:51.254Z"
   },
   {
    "duration": 41,
    "start_time": "2025-06-07T14:43:51.376Z"
   },
   {
    "duration": 7,
    "start_time": "2025-06-07T14:43:51.419Z"
   },
   {
    "duration": 592,
    "start_time": "2025-06-07T14:43:51.428Z"
   },
   {
    "duration": 742,
    "start_time": "2025-06-07T14:43:52.022Z"
   },
   {
    "duration": 538,
    "start_time": "2025-06-07T14:43:52.766Z"
   },
   {
    "duration": 62,
    "start_time": "2025-06-07T14:43:53.306Z"
   },
   {
    "duration": 0,
    "start_time": "2025-06-07T14:43:53.370Z"
   },
   {
    "duration": 0,
    "start_time": "2025-06-07T14:43:53.372Z"
   },
   {
    "duration": 0,
    "start_time": "2025-06-07T14:43:53.374Z"
   },
   {
    "duration": 0,
    "start_time": "2025-06-07T14:43:53.374Z"
   },
   {
    "duration": 0,
    "start_time": "2025-06-07T14:43:53.376Z"
   },
   {
    "duration": 0,
    "start_time": "2025-06-07T14:43:53.377Z"
   },
   {
    "duration": 0,
    "start_time": "2025-06-07T14:43:53.378Z"
   },
   {
    "duration": 0,
    "start_time": "2025-06-07T14:43:53.380Z"
   },
   {
    "duration": 1220,
    "start_time": "2025-06-07T14:44:28.305Z"
   },
   {
    "duration": 1527,
    "start_time": "2025-06-07T14:44:29.527Z"
   },
   {
    "duration": 114,
    "start_time": "2025-06-07T14:44:31.056Z"
   },
   {
    "duration": 188,
    "start_time": "2025-06-07T14:44:31.172Z"
   },
   {
    "duration": 8,
    "start_time": "2025-06-07T14:44:31.362Z"
   },
   {
    "duration": 95,
    "start_time": "2025-06-07T14:44:31.371Z"
   },
   {
    "duration": 20,
    "start_time": "2025-06-07T14:44:31.468Z"
   },
   {
    "duration": 1349,
    "start_time": "2025-06-07T14:44:31.490Z"
   },
   {
    "duration": 28,
    "start_time": "2025-06-07T14:44:32.841Z"
   },
   {
    "duration": 136,
    "start_time": "2025-06-07T14:44:32.872Z"
   },
   {
    "duration": 36,
    "start_time": "2025-06-07T14:44:33.009Z"
   },
   {
    "duration": 11,
    "start_time": "2025-06-07T14:44:33.046Z"
   },
   {
    "duration": 19,
    "start_time": "2025-06-07T14:44:33.058Z"
   },
   {
    "duration": 3,
    "start_time": "2025-06-07T14:44:33.079Z"
   },
   {
    "duration": 25,
    "start_time": "2025-06-07T14:44:33.084Z"
   },
   {
    "duration": 43,
    "start_time": "2025-06-07T14:44:33.111Z"
   },
   {
    "duration": 33,
    "start_time": "2025-06-07T14:44:33.156Z"
   },
   {
    "duration": 26,
    "start_time": "2025-06-07T14:44:33.191Z"
   },
   {
    "duration": 8,
    "start_time": "2025-06-07T14:44:33.219Z"
   },
   {
    "duration": 14,
    "start_time": "2025-06-07T14:44:33.229Z"
   },
   {
    "duration": 5,
    "start_time": "2025-06-07T14:44:33.245Z"
   },
   {
    "duration": 117,
    "start_time": "2025-06-07T14:44:33.251Z"
   },
   {
    "duration": 23,
    "start_time": "2025-06-07T14:44:33.370Z"
   },
   {
    "duration": 752,
    "start_time": "2025-06-07T14:44:33.394Z"
   },
   {
    "duration": 288,
    "start_time": "2025-06-07T14:44:34.147Z"
   },
   {
    "duration": 77,
    "start_time": "2025-06-07T14:44:34.437Z"
   },
   {
    "duration": 290,
    "start_time": "2025-06-07T14:44:34.516Z"
   },
   {
    "duration": 18,
    "start_time": "2025-06-07T14:44:34.811Z"
   },
   {
    "duration": 498,
    "start_time": "2025-06-07T14:44:34.831Z"
   },
   {
    "duration": 280,
    "start_time": "2025-06-07T14:44:35.331Z"
   },
   {
    "duration": 82,
    "start_time": "2025-06-07T14:44:35.613Z"
   },
   {
    "duration": 322,
    "start_time": "2025-06-07T14:44:35.697Z"
   },
   {
    "duration": 4,
    "start_time": "2025-06-07T14:44:36.021Z"
   },
   {
    "duration": 281,
    "start_time": "2025-06-07T14:44:36.026Z"
   },
   {
    "duration": 115,
    "start_time": "2025-06-07T14:44:36.309Z"
   },
   {
    "duration": 174,
    "start_time": "2025-06-07T14:44:36.426Z"
   },
   {
    "duration": 157,
    "start_time": "2025-06-07T14:44:36.603Z"
   },
   {
    "duration": 178,
    "start_time": "2025-06-07T14:44:36.762Z"
   },
   {
    "duration": 139,
    "start_time": "2025-06-07T14:44:36.943Z"
   },
   {
    "duration": 205,
    "start_time": "2025-06-07T14:44:37.084Z"
   },
   {
    "duration": 27,
    "start_time": "2025-06-07T14:44:37.290Z"
   },
   {
    "duration": 43,
    "start_time": "2025-06-07T14:44:37.319Z"
   },
   {
    "duration": 201,
    "start_time": "2025-06-07T14:44:37.363Z"
   },
   {
    "duration": 6,
    "start_time": "2025-06-07T14:44:37.565Z"
   },
   {
    "duration": 28,
    "start_time": "2025-06-07T14:44:37.572Z"
   },
   {
    "duration": 14,
    "start_time": "2025-06-07T14:44:37.602Z"
   },
   {
    "duration": 234,
    "start_time": "2025-06-07T14:44:37.617Z"
   },
   {
    "duration": 11,
    "start_time": "2025-06-07T14:44:37.853Z"
   },
   {
    "duration": 208,
    "start_time": "2025-06-07T14:44:37.866Z"
   },
   {
    "duration": 463,
    "start_time": "2025-06-07T14:44:38.076Z"
   },
   {
    "duration": 75,
    "start_time": "2025-06-07T14:44:38.542Z"
   },
   {
    "duration": 245,
    "start_time": "2025-06-07T14:44:38.619Z"
   },
   {
    "duration": 263,
    "start_time": "2025-06-07T14:44:38.866Z"
   },
   {
    "duration": 424,
    "start_time": "2025-06-07T14:44:39.131Z"
   },
   {
    "duration": 73,
    "start_time": "2025-06-07T14:44:39.561Z"
   },
   {
    "duration": 5,
    "start_time": "2025-06-07T14:44:39.636Z"
   },
   {
    "duration": 11,
    "start_time": "2025-06-07T14:44:39.660Z"
   },
   {
    "duration": 309,
    "start_time": "2025-06-07T14:44:39.672Z"
   },
   {
    "duration": 223,
    "start_time": "2025-06-07T14:44:39.982Z"
   },
   {
    "duration": 209,
    "start_time": "2025-06-07T14:44:40.207Z"
   },
   {
    "duration": 221,
    "start_time": "2025-06-07T14:44:40.418Z"
   },
   {
    "duration": 228,
    "start_time": "2025-06-07T14:44:40.641Z"
   },
   {
    "duration": 51,
    "start_time": "2025-06-07T14:44:40.871Z"
   },
   {
    "duration": 85,
    "start_time": "2025-06-07T14:44:40.923Z"
   },
   {
    "duration": 305,
    "start_time": "2025-06-07T14:44:41.010Z"
   },
   {
    "duration": 244,
    "start_time": "2025-06-07T14:44:41.316Z"
   },
   {
    "duration": 53,
    "start_time": "2025-06-07T14:44:41.562Z"
   },
   {
    "duration": 9,
    "start_time": "2025-06-07T14:44:41.617Z"
   },
   {
    "duration": 4,
    "start_time": "2025-06-07T14:44:41.628Z"
   },
   {
    "duration": 244,
    "start_time": "2025-06-07T14:44:41.634Z"
   },
   {
    "duration": 235,
    "start_time": "2025-06-07T14:44:41.880Z"
   },
   {
    "duration": 228,
    "start_time": "2025-06-07T14:44:42.117Z"
   },
   {
    "duration": 118,
    "start_time": "2025-06-07T14:44:42.347Z"
   },
   {
    "duration": 46,
    "start_time": "2025-06-07T14:44:42.468Z"
   },
   {
    "duration": 7,
    "start_time": "2025-06-07T14:44:42.516Z"
   },
   {
    "duration": 511,
    "start_time": "2025-06-07T14:44:42.524Z"
   },
   {
    "duration": 750,
    "start_time": "2025-06-07T14:44:43.037Z"
   },
   {
    "duration": 545,
    "start_time": "2025-06-07T14:44:43.790Z"
   },
   {
    "duration": 31,
    "start_time": "2025-06-07T14:44:44.336Z"
   },
   {
    "duration": 6,
    "start_time": "2025-06-07T14:44:44.368Z"
   },
   {
    "duration": 9794,
    "start_time": "2025-06-07T14:44:44.375Z"
   },
   {
    "duration": 3585,
    "start_time": "2025-06-07T14:44:54.175Z"
   },
   {
    "duration": 7,
    "start_time": "2025-06-07T14:44:57.762Z"
   },
   {
    "duration": 171,
    "start_time": "2025-06-07T14:44:57.770Z"
   },
   {
    "duration": 26,
    "start_time": "2025-06-07T14:44:57.943Z"
   },
   {
    "duration": 7,
    "start_time": "2025-06-07T14:44:57.971Z"
   },
   {
    "duration": 1188,
    "start_time": "2025-06-08T08:19:18.054Z"
   },
   {
    "duration": 1384,
    "start_time": "2025-06-08T08:19:19.244Z"
   },
   {
    "duration": 109,
    "start_time": "2025-06-08T08:19:20.630Z"
   },
   {
    "duration": 149,
    "start_time": "2025-06-08T08:19:20.740Z"
   },
   {
    "duration": 9,
    "start_time": "2025-06-08T08:19:20.892Z"
   },
   {
    "duration": 130,
    "start_time": "2025-06-08T08:19:20.902Z"
   },
   {
    "duration": 19,
    "start_time": "2025-06-08T08:19:21.034Z"
   },
   {
    "duration": 281,
    "start_time": "2025-06-08T08:19:21.055Z"
   },
   {
    "duration": 18,
    "start_time": "2025-06-08T08:19:21.338Z"
   },
   {
    "duration": 31,
    "start_time": "2025-06-08T08:19:21.358Z"
   },
   {
    "duration": 48,
    "start_time": "2025-06-08T08:19:21.391Z"
   },
   {
    "duration": 25,
    "start_time": "2025-06-08T08:19:21.441Z"
   },
   {
    "duration": 25,
    "start_time": "2025-06-08T08:19:21.468Z"
   },
   {
    "duration": 13,
    "start_time": "2025-06-08T08:19:21.496Z"
   },
   {
    "duration": 45,
    "start_time": "2025-06-08T08:19:21.511Z"
   },
   {
    "duration": 46,
    "start_time": "2025-06-08T08:19:21.557Z"
   },
   {
    "duration": 173,
    "start_time": "2025-06-08T08:19:21.605Z"
   },
   {
    "duration": 79,
    "start_time": "2025-06-08T08:19:21.779Z"
   },
   {
    "duration": 125,
    "start_time": "2025-06-08T08:19:21.860Z"
   },
   {
    "duration": 40,
    "start_time": "2025-06-08T08:19:21.987Z"
   },
   {
    "duration": 28,
    "start_time": "2025-06-08T08:19:22.029Z"
   },
   {
    "duration": 125,
    "start_time": "2025-06-08T08:19:22.059Z"
   },
   {
    "duration": 22,
    "start_time": "2025-06-08T08:19:22.186Z"
   },
   {
    "duration": 508,
    "start_time": "2025-06-08T08:19:22.209Z"
   },
   {
    "duration": 255,
    "start_time": "2025-06-08T08:19:22.719Z"
   },
   {
    "duration": 74,
    "start_time": "2025-06-08T08:19:22.976Z"
   },
   {
    "duration": 247,
    "start_time": "2025-06-08T08:19:23.051Z"
   },
   {
    "duration": 18,
    "start_time": "2025-06-08T08:19:23.300Z"
   },
   {
    "duration": 459,
    "start_time": "2025-06-08T08:19:23.320Z"
   },
   {
    "duration": 268,
    "start_time": "2025-06-08T08:19:23.781Z"
   },
   {
    "duration": 69,
    "start_time": "2025-06-08T08:19:24.051Z"
   },
   {
    "duration": 259,
    "start_time": "2025-06-08T08:19:24.122Z"
   },
   {
    "duration": 3,
    "start_time": "2025-06-08T08:19:24.383Z"
   },
   {
    "duration": 345,
    "start_time": "2025-06-08T08:19:24.387Z"
   },
   {
    "duration": 86,
    "start_time": "2025-06-08T08:19:24.733Z"
   },
   {
    "duration": 139,
    "start_time": "2025-06-08T08:19:24.821Z"
   },
   {
    "duration": 125,
    "start_time": "2025-06-08T08:19:24.962Z"
   },
   {
    "duration": 157,
    "start_time": "2025-06-08T08:19:25.089Z"
   },
   {
    "duration": 69,
    "start_time": "2025-06-08T08:19:25.248Z"
   },
   {
    "duration": 172,
    "start_time": "2025-06-08T08:19:25.318Z"
   },
   {
    "duration": 23,
    "start_time": "2025-06-08T08:19:25.495Z"
   },
   {
    "duration": 35,
    "start_time": "2025-06-08T08:19:25.520Z"
   },
   {
    "duration": 266,
    "start_time": "2025-06-08T08:19:25.557Z"
   },
   {
    "duration": 5,
    "start_time": "2025-06-08T08:19:25.825Z"
   },
   {
    "duration": 79,
    "start_time": "2025-06-08T08:19:25.832Z"
   },
   {
    "duration": 101,
    "start_time": "2025-06-08T08:19:25.913Z"
   },
   {
    "duration": 213,
    "start_time": "2025-06-08T08:19:26.016Z"
   },
   {
    "duration": 8,
    "start_time": "2025-06-08T08:19:26.231Z"
   },
   {
    "duration": 230,
    "start_time": "2025-06-08T08:19:26.241Z"
   },
   {
    "duration": 403,
    "start_time": "2025-06-08T08:19:26.473Z"
   },
   {
    "duration": 68,
    "start_time": "2025-06-08T08:19:26.877Z"
   },
   {
    "duration": 213,
    "start_time": "2025-06-08T08:19:26.947Z"
   },
   {
    "duration": 233,
    "start_time": "2025-06-08T08:19:27.162Z"
   },
   {
    "duration": 395,
    "start_time": "2025-06-08T08:19:27.396Z"
   },
   {
    "duration": 76,
    "start_time": "2025-06-08T08:19:27.793Z"
   },
   {
    "duration": 3,
    "start_time": "2025-06-08T08:19:27.870Z"
   },
   {
    "duration": 27,
    "start_time": "2025-06-08T08:19:27.875Z"
   },
   {
    "duration": 341,
    "start_time": "2025-06-08T08:19:27.904Z"
   },
   {
    "duration": 194,
    "start_time": "2025-06-08T08:19:28.247Z"
   },
   {
    "duration": 191,
    "start_time": "2025-06-08T08:19:28.442Z"
   },
   {
    "duration": 206,
    "start_time": "2025-06-08T08:19:28.635Z"
   },
   {
    "duration": 212,
    "start_time": "2025-06-08T08:19:28.843Z"
   },
   {
    "duration": 45,
    "start_time": "2025-06-08T08:19:29.056Z"
   },
   {
    "duration": 9,
    "start_time": "2025-06-08T08:19:29.103Z"
   },
   {
    "duration": 289,
    "start_time": "2025-06-08T08:19:29.114Z"
   },
   {
    "duration": 216,
    "start_time": "2025-06-08T08:19:29.405Z"
   },
   {
    "duration": 51,
    "start_time": "2025-06-08T08:19:29.623Z"
   },
   {
    "duration": 80,
    "start_time": "2025-06-08T08:19:29.676Z"
   },
   {
    "duration": 8,
    "start_time": "2025-06-08T08:19:29.757Z"
   },
   {
    "duration": 186,
    "start_time": "2025-06-08T08:19:29.767Z"
   },
   {
    "duration": 213,
    "start_time": "2025-06-08T08:19:29.955Z"
   },
   {
    "duration": 198,
    "start_time": "2025-06-08T08:19:30.169Z"
   },
   {
    "duration": 108,
    "start_time": "2025-06-08T08:19:30.369Z"
   },
   {
    "duration": 39,
    "start_time": "2025-06-08T08:19:30.478Z"
   },
   {
    "duration": 14,
    "start_time": "2025-06-08T08:19:30.518Z"
   },
   {
    "duration": 472,
    "start_time": "2025-06-08T08:19:30.540Z"
   },
   {
    "duration": 662,
    "start_time": "2025-06-08T08:19:31.014Z"
   },
   {
    "duration": 474,
    "start_time": "2025-06-08T08:19:31.677Z"
   },
   {
    "duration": 18,
    "start_time": "2025-06-08T08:19:32.153Z"
   },
   {
    "duration": 20,
    "start_time": "2025-06-08T08:19:32.173Z"
   },
   {
    "duration": 8725,
    "start_time": "2025-06-08T08:19:32.194Z"
   },
   {
    "duration": 3128,
    "start_time": "2025-06-08T08:19:40.921Z"
   },
   {
    "duration": 5,
    "start_time": "2025-06-08T08:19:44.051Z"
   },
   {
    "duration": 143,
    "start_time": "2025-06-08T08:19:44.058Z"
   },
   {
    "duration": 14,
    "start_time": "2025-06-08T08:19:44.203Z"
   },
   {
    "duration": 21,
    "start_time": "2025-06-08T08:19:44.219Z"
   },
   {
    "duration": 25,
    "start_time": "2025-06-08T08:21:29.817Z"
   }
  ],
  "kernelspec": {
   "display_name": "Python 3 (ipykernel)",
   "language": "python",
   "name": "python3"
  },
  "language_info": {
   "codemirror_mode": {
    "name": "ipython",
    "version": 3
   },
   "file_extension": ".py",
   "mimetype": "text/x-python",
   "name": "python",
   "nbconvert_exporter": "python",
   "pygments_lexer": "ipython3",
   "version": "3.9.7"
  },
  "toc": {
   "base_numbering": 1,
   "nav_menu": {},
   "number_sections": true,
   "sideBar": true,
   "skip_h1_title": true,
   "title_cell": "Table of Contents",
   "title_sidebar": "Contents",
   "toc_cell": false,
   "toc_position": {
    "height": "calc(100% - 180px)",
    "left": "10px",
    "top": "150px",
    "width": "326.75px"
   },
   "toc_section_display": true,
   "toc_window_display": true
  }
 },
 "nbformat": 4,
 "nbformat_minor": 5
}
